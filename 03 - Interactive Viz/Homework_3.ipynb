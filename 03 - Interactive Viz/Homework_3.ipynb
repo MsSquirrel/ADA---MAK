{
 "cells": [
  {
   "cell_type": "markdown",
   "metadata": {},
   "source": [
    "# Homework 3 - Data vizualisation"
   ]
  },
  {
   "cell_type": "code",
   "execution_count": 1,
   "metadata": {
    "collapsed": true
   },
   "outputs": [],
   "source": [
    "%matplotlib inline\n",
    "import os\n",
    "import pandas as pd\n",
    "import json\n",
    "import folium\n",
    "import numpy as np\n",
    "import matplotlib.pyplot as plt\n",
    "import seaborn as sns\n",
    "sns.set()\n",
    "sns.set_palette(\"husl\")"
   ]
  },
  {
   "cell_type": "markdown",
   "metadata": {},
   "source": [
    "# Task 1 : European unemployment rates"
   ]
  },
  {
   "cell_type": "markdown",
   "metadata": {},
   "source": [
    "### Load dataset\n",
    "To begin, we download a dataset on the [Eurostat](http://ec.europa.eu/eurostat/data/database) website by using the search bar and looking for the term *Unemployment*. We have chosen the dataset called \"Total umemployment rate\" (*tsdec450*) that contains unemployment rates per year, for each european country."
   ]
  },
  {
   "cell_type": "code",
   "execution_count": 2,
   "metadata": {},
   "outputs": [
    {
     "data": {
      "text/html": [
       "<div>\n",
       "<style>\n",
       "    .dataframe thead tr:only-child th {\n",
       "        text-align: right;\n",
       "    }\n",
       "\n",
       "    .dataframe thead th {\n",
       "        text-align: left;\n",
       "    }\n",
       "\n",
       "    .dataframe tbody tr th {\n",
       "        vertical-align: top;\n",
       "    }\n",
       "</style>\n",
       "<table border=\"1\" class=\"dataframe\">\n",
       "  <thead>\n",
       "    <tr style=\"text-align: right;\">\n",
       "      <th></th>\n",
       "      <th>age,unit,sex,geo</th>\n",
       "      <th>1990</th>\n",
       "      <th>1991</th>\n",
       "      <th>1992</th>\n",
       "      <th>1993</th>\n",
       "      <th>1994</th>\n",
       "      <th>1995</th>\n",
       "      <th>1996</th>\n",
       "      <th>1997</th>\n",
       "      <th>1998</th>\n",
       "      <th>...</th>\n",
       "      <th>2009</th>\n",
       "      <th>2010</th>\n",
       "      <th>2011</th>\n",
       "      <th>2012</th>\n",
       "      <th>2013</th>\n",
       "      <th>2014</th>\n",
       "      <th>2015</th>\n",
       "      <th>2016</th>\n",
       "      <th>State</th>\n",
       "      <th>Unit</th>\n",
       "    </tr>\n",
       "  </thead>\n",
       "  <tbody>\n",
       "    <tr>\n",
       "      <th>0</th>\n",
       "      <td>TOTAL,PC_ACT,T,AT</td>\n",
       "      <td>:</td>\n",
       "      <td>:</td>\n",
       "      <td>:</td>\n",
       "      <td>:</td>\n",
       "      <td>4.3</td>\n",
       "      <td>4.2</td>\n",
       "      <td>4.7</td>\n",
       "      <td>4.7</td>\n",
       "      <td>4.7</td>\n",
       "      <td>...</td>\n",
       "      <td>5.3</td>\n",
       "      <td>4.8</td>\n",
       "      <td>4.6</td>\n",
       "      <td>4.9</td>\n",
       "      <td>5.4</td>\n",
       "      <td>5.6</td>\n",
       "      <td>5.7</td>\n",
       "      <td>6.0</td>\n",
       "      <td>AT</td>\n",
       "      <td>PC_ACT</td>\n",
       "    </tr>\n",
       "    <tr>\n",
       "      <th>1</th>\n",
       "      <td>TOTAL,PC_ACT,T,BE</td>\n",
       "      <td>6.6</td>\n",
       "      <td>6.4</td>\n",
       "      <td>7.1</td>\n",
       "      <td>8.6</td>\n",
       "      <td>9.8</td>\n",
       "      <td>9.7</td>\n",
       "      <td>9.5</td>\n",
       "      <td>9.2</td>\n",
       "      <td>9.3</td>\n",
       "      <td>...</td>\n",
       "      <td>7.9</td>\n",
       "      <td>8.3</td>\n",
       "      <td>7.2</td>\n",
       "      <td>7.6</td>\n",
       "      <td>8.4</td>\n",
       "      <td>8.5</td>\n",
       "      <td>8.5</td>\n",
       "      <td>7.8</td>\n",
       "      <td>BE</td>\n",
       "      <td>PC_ACT</td>\n",
       "    </tr>\n",
       "    <tr>\n",
       "      <th>2</th>\n",
       "      <td>TOTAL,PC_ACT,T,BG</td>\n",
       "      <td>:</td>\n",
       "      <td>:</td>\n",
       "      <td>:</td>\n",
       "      <td>:</td>\n",
       "      <td>:</td>\n",
       "      <td>:</td>\n",
       "      <td>:</td>\n",
       "      <td>:</td>\n",
       "      <td>:</td>\n",
       "      <td>...</td>\n",
       "      <td>6.8</td>\n",
       "      <td>10.3 i</td>\n",
       "      <td>11.3</td>\n",
       "      <td>12.3</td>\n",
       "      <td>13.0</td>\n",
       "      <td>11.4</td>\n",
       "      <td>9.2</td>\n",
       "      <td>7.6</td>\n",
       "      <td>BG</td>\n",
       "      <td>PC_ACT</td>\n",
       "    </tr>\n",
       "    <tr>\n",
       "      <th>3</th>\n",
       "      <td>TOTAL,PC_ACT,T,CY</td>\n",
       "      <td>:</td>\n",
       "      <td>:</td>\n",
       "      <td>:</td>\n",
       "      <td>:</td>\n",
       "      <td>:</td>\n",
       "      <td>:</td>\n",
       "      <td>:</td>\n",
       "      <td>:</td>\n",
       "      <td>:</td>\n",
       "      <td>...</td>\n",
       "      <td>5.4</td>\n",
       "      <td>6.3</td>\n",
       "      <td>7.9</td>\n",
       "      <td>11.9</td>\n",
       "      <td>15.9</td>\n",
       "      <td>16.1</td>\n",
       "      <td>15.0</td>\n",
       "      <td>13.0</td>\n",
       "      <td>CY</td>\n",
       "      <td>PC_ACT</td>\n",
       "    </tr>\n",
       "    <tr>\n",
       "      <th>4</th>\n",
       "      <td>TOTAL,PC_ACT,T,CZ</td>\n",
       "      <td>:</td>\n",
       "      <td>:</td>\n",
       "      <td>:</td>\n",
       "      <td>4.3</td>\n",
       "      <td>4.3</td>\n",
       "      <td>4.0</td>\n",
       "      <td>3.9</td>\n",
       "      <td>4.8</td>\n",
       "      <td>6.5</td>\n",
       "      <td>...</td>\n",
       "      <td>6.7</td>\n",
       "      <td>7.3</td>\n",
       "      <td>6.7</td>\n",
       "      <td>7.0</td>\n",
       "      <td>7.0</td>\n",
       "      <td>6.1</td>\n",
       "      <td>5.1</td>\n",
       "      <td>4.0</td>\n",
       "      <td>CZ</td>\n",
       "      <td>PC_ACT</td>\n",
       "    </tr>\n",
       "  </tbody>\n",
       "</table>\n",
       "<p>5 rows × 30 columns</p>\n",
       "</div>"
      ],
      "text/plain": [
       "    age,unit,sex,geo  1990  1991  1992  1993  1994  1995  1996  1997  1998  \\\n",
       "0  TOTAL,PC_ACT,T,AT    :     :     :     :   4.3   4.2   4.7   4.7   4.7    \n",
       "1  TOTAL,PC_ACT,T,BE  6.6   6.4   7.1   8.6   9.8   9.7   9.5   9.2   9.3    \n",
       "2  TOTAL,PC_ACT,T,BG    :     :     :     :     :     :     :     :     :    \n",
       "3  TOTAL,PC_ACT,T,CY    :     :     :     :     :     :     :     :     :    \n",
       "4  TOTAL,PC_ACT,T,CZ    :     :     :   4.3   4.3   4.0   3.9   4.8   6.5    \n",
       "\n",
       "    ...    2009    2010   2011  2012  2013  2014  2015  2016 State    Unit  \n",
       "0   ...    5.3     4.8    4.6    4.9   5.4   5.6   5.7   6.0    AT  PC_ACT  \n",
       "1   ...    7.9     8.3    7.2    7.6   8.4   8.5   8.5   7.8    BE  PC_ACT  \n",
       "2   ...    6.8   10.3 i  11.3   12.3  13.0  11.4   9.2   7.6    BG  PC_ACT  \n",
       "3   ...    5.4     6.3    7.9   11.9  15.9  16.1  15.0  13.0    CY  PC_ACT  \n",
       "4   ...    6.7     7.3    6.7    7.0   7.0   6.1   5.1   4.0    CZ  PC_ACT  \n",
       "\n",
       "[5 rows x 30 columns]"
      ]
     },
     "execution_count": 2,
     "metadata": {},
     "output_type": "execute_result"
    }
   ],
   "source": [
    "total_unemployment_file_path = 'data/tsdec450.tsv'\n",
    "\n",
    "# load the data\n",
    "def load_data(file_name):\n",
    "    df = pd.DataFrame()\n",
    "    df = df.append( pd.read_csv(file_name, sep=\"\\t\" , header=0))\n",
    "    df.columns = [i.split(\" \")[0] for i in df.columns]\n",
    "    df.columns = [i.split(\"\\\\\")[0] for i in df.columns]\n",
    "    new_col = df[\"age,unit,sex,geo\"].str.split(\",\")\n",
    "    df[\"State\"] = [pi[3] for pi in new_col]\n",
    "    df[\"Unit\"] = [pi[1] for pi in new_col]\n",
    "    \n",
    "    return df\n",
    "\n",
    "df = load_data(total_unemployment_file_path)\n",
    "df.head()"
   ]
  },
  {
   "cell_type": "code",
   "execution_count": 3,
   "metadata": {
    "collapsed": true
   },
   "outputs": [],
   "source": [
    "#Pre-processing : keep only useful data\n",
    "df['2016'] = df['2016'].astype(float)\n",
    "df = df.query('Unit == \\'PC_ACT\\'')\n",
    "\n",
    "# Put the same country code in the dataset and in json geo-coordinate files\n",
    "df = df.replace('UK', 'GB')\n",
    "df = df.replace('EL', 'GR')"
   ]
  },
  {
   "cell_type": "markdown",
   "metadata": {},
   "source": [
    "### Define classification function\n",
    "According to [GISGeography.com](http://gisgeography.com/choropleth-maps-data-classification/), we learn that selecting a data classification method is important in order to impact the reader. We decided to code and test two of them:\n",
    "- **Equal Interval Data Classification** as *equal* : It divides the classes into equal groups of same interval length.\n",
    "- **Quantile classification** as *quantile*: It arranges the classes to have the same quantity inside."
   ]
  },
  {
   "cell_type": "code",
   "execution_count": 4,
   "metadata": {
    "collapsed": true
   },
   "outputs": [],
   "source": [
    "# define functions for classifying the unemployment\n",
    "def define_threshold(df, column_name, classification='equal', classes=4):\n",
    "    if classification == 'equal':\n",
    "        min_val = df[column_name].min()\n",
    "        max_val = df[column_name].max()\n",
    "        bins = []\n",
    "        bins.append(min_val - 0.001)\n",
    "        for i in np.arange(1, classes):\n",
    "            bins.append(((max_val - min_val)* i/classes) + min_val)\n",
    "        bins.append(max_val + 0.001)\n",
    "        return bins\n",
    "    \n",
    "    if classification == 'quantile':\n",
    "        out, bins = pd.qcut(df[column_name], classes, retbins=True)\n",
    "        return bins.tolist()"
   ]
  },
  {
   "cell_type": "markdown",
   "metadata": {},
   "source": [
    "### Plot european map"
   ]
  },
  {
   "cell_type": "code",
   "execution_count": 30,
   "metadata": {},
   "outputs": [],
   "source": [
    "geojson_path = 'topojson/europe.topojson.json'\n",
    "topojson_path = json.load(open(geojson_path))\n",
    "\n",
    "# Tip to not plot countries that were missing in the dataset\n",
    "topojson_path['objects']['europe']['geometries'] = [feature for feature in topojson_path['objects']['europe']['geometries'] if (feature['id'] in df['State'].values)]\n",
    "\n",
    "# Draw the map with our threshold classification function\n",
    "eu_map = folium.Map([52.3, 9.7], tiles='cartodbpositron', zoom_start=3.6)\n",
    "eu_map.choropleth(geo_data=topojson_path , data=df, topojson='objects.europe',\n",
    "             columns=['State', '2016'],\n",
    "             key_on='feature.id',\n",
    "             fill_color='YlOrRd', fill_opacity=0.7, line_opacity=0.2,\n",
    "             threshold_scale=define_threshold(df, '2016', classification='quantile', classes=4),\n",
    "             legend_name='Percentage of unemployment (%)')\n",
    "\n",
    "eu_map\n",
    "eu_map.save('maps/unemployment_europe.html')"
   ]
  },
  {
   "cell_type": "markdown",
   "metadata": {},
   "source": [
    "### Observations\n"
   ]
  },
  {
   "cell_type": "code",
   "execution_count": 6,
   "metadata": {
    "collapsed": true
   },
   "outputs": [],
   "source": [
    "#TODO Observations"
   ]
  },
  {
   "cell_type": "markdown",
   "metadata": {},
   "source": [
    "# Task 2 : Swiss unemployment rates\n",
    "We should apply the same methodology to display the unemployment rates in Switzerland. We start by loading the dataset from Amstat website."
   ]
  },
  {
   "cell_type": "markdown",
   "metadata": {},
   "source": [
    "## Assumptions\n",
    "In order to have the swiss cantons codes to fill with our topojson file, we created a json file containing all cantos codes according to canton name. It will be used during the Tasks 2 and 3."
   ]
  },
  {
   "cell_type": "code",
   "execution_count": 7,
   "metadata": {
    "collapsed": true
   },
   "outputs": [],
   "source": [
    "#TOPJSON FILE\n",
    "switzerland_path = './topojson/ch-cantons.topojson.json'\n",
    "switzerland_topojson_path = json.load(open(switzerland_path))\n",
    "\n",
    "# OUR CANTON CODES FILE\n",
    "switzerland_cantoncodes_path = 'data/swiss_cantons.json'\n",
    "cantons = pd.read_json(switzerland_cantoncodes_path, encoding='utf-8')"
   ]
  },
  {
   "cell_type": "markdown",
   "metadata": {},
   "source": [
    "## 2.1 - Unemployment rates"
   ]
  },
  {
   "cell_type": "markdown",
   "metadata": {},
   "source": [
    "First, we decided to plot on the map the unemployement rate."
   ]
  },
  {
   "cell_type": "markdown",
   "metadata": {},
   "source": [
    "### Load dataset"
   ]
  },
  {
   "cell_type": "code",
   "execution_count": 8,
   "metadata": {},
   "outputs": [
    {
     "data": {
      "text/html": [
       "<div>\n",
       "<style>\n",
       "    .dataframe thead tr:only-child th {\n",
       "        text-align: right;\n",
       "    }\n",
       "\n",
       "    .dataframe thead th {\n",
       "        text-align: left;\n",
       "    }\n",
       "\n",
       "    .dataframe tbody tr th {\n",
       "        vertical-align: top;\n",
       "    }\n",
       "</style>\n",
       "<table border=\"1\" class=\"dataframe\">\n",
       "  <thead>\n",
       "    <tr style=\"text-align: right;\">\n",
       "      <th></th>\n",
       "      <th>code</th>\n",
       "      <th>canton</th>\n",
       "      <th>unemployment_rate</th>\n",
       "      <th>unemployed_jobseekers</th>\n",
       "      <th>all_jobseekers</th>\n",
       "      <th>employed_jobseekers</th>\n",
       "    </tr>\n",
       "  </thead>\n",
       "  <tbody>\n",
       "    <tr>\n",
       "      <th>0</th>\n",
       "      <td>ZH</td>\n",
       "      <td>Zurich</td>\n",
       "      <td>3.7</td>\n",
       "      <td>361007</td>\n",
       "      <td>441431</td>\n",
       "      <td>80424</td>\n",
       "    </tr>\n",
       "    <tr>\n",
       "      <th>1</th>\n",
       "      <td>BE</td>\n",
       "      <td>Berne</td>\n",
       "      <td>2.7</td>\n",
       "      <td>183398</td>\n",
       "      <td>241011</td>\n",
       "      <td>57613</td>\n",
       "    </tr>\n",
       "    <tr>\n",
       "      <th>2</th>\n",
       "      <td>LU</td>\n",
       "      <td>Lucerne</td>\n",
       "      <td>2.1</td>\n",
       "      <td>55221</td>\n",
       "      <td>89599</td>\n",
       "      <td>34378</td>\n",
       "    </tr>\n",
       "    <tr>\n",
       "      <th>3</th>\n",
       "      <td>UR</td>\n",
       "      <td>Uri</td>\n",
       "      <td>1.0</td>\n",
       "      <td>2418</td>\n",
       "      <td>4361</td>\n",
       "      <td>1943</td>\n",
       "    </tr>\n",
       "    <tr>\n",
       "      <th>4</th>\n",
       "      <td>SZ</td>\n",
       "      <td>Schwyz</td>\n",
       "      <td>1.8</td>\n",
       "      <td>18446</td>\n",
       "      <td>27475</td>\n",
       "      <td>9029</td>\n",
       "    </tr>\n",
       "  </tbody>\n",
       "</table>\n",
       "</div>"
      ],
      "text/plain": [
       "  code   canton  unemployment_rate  unemployed_jobseekers  all_jobseekers  \\\n",
       "0   ZH   Zurich                3.7                 361007          441431   \n",
       "1   BE    Berne                2.7                 183398          241011   \n",
       "2   LU  Lucerne                2.1                  55221           89599   \n",
       "3   UR      Uri                1.0                   2418            4361   \n",
       "4   SZ   Schwyz                1.8                  18446           27475   \n",
       "\n",
       "   employed_jobseekers  \n",
       "0                80424  \n",
       "1                57613  \n",
       "2                34378  \n",
       "3                 1943  \n",
       "4                 9029  "
      ]
     },
     "execution_count": 8,
     "metadata": {},
     "output_type": "execute_result"
    }
   ],
   "source": [
    "#Load data\n",
    "swiss_unemployed_filtered_path = 'data/unemployment.csv'\n",
    "switzerland_unemployed_df = pd.read_csv(open(swiss_unemployed_filtered_path, encoding='utf-16'), header=[1,2], thousands='\\'')\n",
    "\n",
    "#Preprocessing\n",
    "switzerland_unemployed_df = switzerland_unemployed_df[['Canton','Total']]\n",
    "switzerland_unemployed_df.columns = ['canton', 'unemployment_rate', 'unemployed_jobseekers', 'all_jobseekers', 'employed_jobseekers']\n",
    "switzerland_unemployed_df.drop(switzerland_unemployed_df.index[len(switzerland_unemployed_df)-1], inplace=True)\n",
    "\n",
    "#cantons\n",
    "cantons.drop(cantons.index[len(cantons)-1], inplace=True)\n",
    "cantons.columns = ['code', 'canton']\n",
    "switzerland_df = pd.merge(cantons,switzerland_unemployed_df, on=['canton'])\n",
    "switzerland_df.head()"
   ]
  },
  {
   "cell_type": "markdown",
   "metadata": {},
   "source": [
    "### Plot Switzerland map"
   ]
  },
  {
   "cell_type": "code",
   "execution_count": 9,
   "metadata": {
    "collapsed": true
   },
   "outputs": [],
   "source": [
    "#TODO: Talk about choice of the colors"
   ]
  },
  {
   "cell_type": "code",
   "execution_count": 10,
   "metadata": {},
   "outputs": [],
   "source": [
    "switzerland_map = folium.Map([46.8001, 8.1958], tiles='cartodbpositron', zoom_start=8)\n",
    "\n",
    "switzerland_map.choropleth(geo_data=switzerland_topojson_path, data=switzerland_df, topojson='objects.cantons',\n",
    "             columns=['code', 'unemployment_rate'],\n",
    "             key_on='feature.id',\n",
    "             fill_color='YlOrRd', fill_opacity=0.6, line_opacity=0.2,\n",
    "             legend_name='Unemployment rate (%)')\n",
    "\n",
    "\n",
    "switzerland_map\n",
    "switzerland_map.save('maps/unemployment_switzerland.html')"
   ]
  },
  {
   "cell_type": "markdown",
   "metadata": {},
   "source": [
    "## 2.2 - Unemployment rates : various interpretations"
   ]
  },
  {
   "cell_type": "markdown",
   "metadata": {},
   "source": [
    "### Compute new \"unemployment\" ratios"
   ]
  },
  {
   "cell_type": "code",
   "execution_count": 11,
   "metadata": {
    "collapsed": true
   },
   "outputs": [],
   "source": [
    "#TODO : Our assumptions"
   ]
  },
  {
   "cell_type": "code",
   "execution_count": 12,
   "metadata": {},
   "outputs": [
    {
     "data": {
      "text/html": [
       "<div>\n",
       "<style>\n",
       "    .dataframe thead tr:only-child th {\n",
       "        text-align: right;\n",
       "    }\n",
       "\n",
       "    .dataframe thead th {\n",
       "        text-align: left;\n",
       "    }\n",
       "\n",
       "    .dataframe tbody tr th {\n",
       "        vertical-align: top;\n",
       "    }\n",
       "</style>\n",
       "<table border=\"1\" class=\"dataframe\">\n",
       "  <thead>\n",
       "    <tr style=\"text-align: right;\">\n",
       "      <th></th>\n",
       "      <th>code</th>\n",
       "      <th>canton</th>\n",
       "      <th>unemployment_rate</th>\n",
       "      <th>unemployed_jobseekers</th>\n",
       "      <th>all_jobseekers</th>\n",
       "      <th>employed_jobseekers</th>\n",
       "      <th>population</th>\n",
       "      <th>unemployed_jobseekers_unemployment_rate</th>\n",
       "    </tr>\n",
       "  </thead>\n",
       "  <tbody>\n",
       "    <tr>\n",
       "      <th>0</th>\n",
       "      <td>ZH</td>\n",
       "      <td>Zurich</td>\n",
       "      <td>3.7</td>\n",
       "      <td>361007</td>\n",
       "      <td>441431</td>\n",
       "      <td>80424</td>\n",
       "      <td>1.193057e+07</td>\n",
       "      <td>3.025900</td>\n",
       "    </tr>\n",
       "    <tr>\n",
       "      <th>1</th>\n",
       "      <td>BE</td>\n",
       "      <td>Berne</td>\n",
       "      <td>2.7</td>\n",
       "      <td>183398</td>\n",
       "      <td>241011</td>\n",
       "      <td>57613</td>\n",
       "      <td>8.926333e+06</td>\n",
       "      <td>2.054573</td>\n",
       "    </tr>\n",
       "    <tr>\n",
       "      <th>2</th>\n",
       "      <td>LU</td>\n",
       "      <td>Lucerne</td>\n",
       "      <td>2.1</td>\n",
       "      <td>55221</td>\n",
       "      <td>89599</td>\n",
       "      <td>34378</td>\n",
       "      <td>4.266619e+06</td>\n",
       "      <td>1.294257</td>\n",
       "    </tr>\n",
       "    <tr>\n",
       "      <th>3</th>\n",
       "      <td>UR</td>\n",
       "      <td>Uri</td>\n",
       "      <td>1.0</td>\n",
       "      <td>2418</td>\n",
       "      <td>4361</td>\n",
       "      <td>1943</td>\n",
       "      <td>4.361000e+05</td>\n",
       "      <td>0.554460</td>\n",
       "    </tr>\n",
       "    <tr>\n",
       "      <th>4</th>\n",
       "      <td>SZ</td>\n",
       "      <td>Schwyz</td>\n",
       "      <td>1.8</td>\n",
       "      <td>18446</td>\n",
       "      <td>27475</td>\n",
       "      <td>9029</td>\n",
       "      <td>1.526389e+06</td>\n",
       "      <td>1.208473</td>\n",
       "    </tr>\n",
       "  </tbody>\n",
       "</table>\n",
       "</div>"
      ],
      "text/plain": [
       "  code   canton  unemployment_rate  unemployed_jobseekers  all_jobseekers  \\\n",
       "0   ZH   Zurich                3.7                 361007          441431   \n",
       "1   BE    Berne                2.7                 183398          241011   \n",
       "2   LU  Lucerne                2.1                  55221           89599   \n",
       "3   UR      Uri                1.0                   2418            4361   \n",
       "4   SZ   Schwyz                1.8                  18446           27475   \n",
       "\n",
       "   employed_jobseekers    population  unemployed_jobseekers_unemployment_rate  \n",
       "0                80424  1.193057e+07                                 3.025900  \n",
       "1                57613  8.926333e+06                                 2.054573  \n",
       "2                34378  4.266619e+06                                 1.294257  \n",
       "3                 1943  4.361000e+05                                 0.554460  \n",
       "4                 9029  1.526389e+06                                 1.208473  "
      ]
     },
     "execution_count": 12,
     "metadata": {},
     "output_type": "execute_result"
    }
   ],
   "source": [
    "switzerland_df['population'] = (switzerland_df['all_jobseekers']/switzerland_df['unemployment_rate'])*100\n",
    "switzerland_df['unemployed_jobseekers_unemployment_rate'] = (switzerland_df['unemployed_jobseekers']/switzerland_df['population'])*100\n",
    "switzerland_df.head()"
   ]
  },
  {
   "cell_type": "markdown",
   "metadata": {},
   "source": [
    "### Plot swiss maps"
   ]
  },
  {
   "cell_type": "code",
   "execution_count": 13,
   "metadata": {
    "collapsed": true
   },
   "outputs": [],
   "source": [
    "#TODO : same scaling on each maps"
   ]
  },
  {
   "cell_type": "code",
   "execution_count": 14,
   "metadata": {},
   "outputs": [],
   "source": [
    "switzerland_map = folium.Map([46.8001, 8.1958], tiles='cartodbpositron', zoom_start=8)\n",
    "\n",
    "switzerland_map.choropleth(geo_data=switzerland_topojson_path, data=switzerland_df, topojson= 'objects.cantons',\n",
    "             columns=['code', 'unemployment_rate'],\n",
    "             key_on='feature.id',\n",
    "             fill_color='YlOrRd', fill_opacity=0.7, line_opacity=0.2,\n",
    "             legend_name='Percentage of unemployment (%)')\n",
    "\n",
    "switzerland_map\n",
    "switzerland_map.save('maps/unemployment_switzerland_all_jobseekers.html')"
   ]
  },
  {
   "cell_type": "code",
   "execution_count": 15,
   "metadata": {
    "collapsed": true,
    "scrolled": false
   },
   "outputs": [],
   "source": [
    "switzerland_map = folium.Map([46.8001, 8.1958], tiles='cartodbpositron', zoom_start=8)\n",
    "\n",
    "switzerland_map.choropleth(geo_data=switzerland_topojson_path, data=switzerland_df, topojson= 'objects.cantons',\n",
    "             columns=['code', 'unemployed_jobseekers_unemployment_rate'],\n",
    "             key_on='feature.id',\n",
    "             fill_color='YlOrRd', fill_opacity=0.7, line_opacity=0.2,\n",
    "             legend_name='Percentage of unemployment (%)')\n",
    "\n",
    "switzerland_map\n",
    "switzerland_map.save('maps/unemployment_switzerland_unemployed_jobseekers.html')"
   ]
  },
  {
   "cell_type": "markdown",
   "metadata": {},
   "source": [
    "## Analysis : include employed jobseekers or not ?\n",
    "Here, we will discuss on the different interpretations of \"unemployement rate\"."
   ]
  },
  {
   "cell_type": "code",
   "execution_count": 16,
   "metadata": {
    "collapsed": true
   },
   "outputs": [],
   "source": [
    "# TODO: discussion"
   ]
  },
  {
   "cell_type": "code",
   "execution_count": 17,
   "metadata": {},
   "outputs": [
    {
     "data": {
      "text/plain": [
       "<matplotlib.legend.Legend at 0x1e7a839d9e8>"
      ]
     },
     "execution_count": 17,
     "metadata": {},
     "output_type": "execute_result"
    },
    {
     "data": {
      "image/png": "[encoded data removed]",
      "text/plain": [
       "<matplotlib.figure.Figure at 0x1e7a8406978>"
      ]
     },
     "metadata": {},
     "output_type": "display_data"
    }
   ],
   "source": [
    "sns.axes_style(\"darkgrid\")\n",
    "fig, ax = plt.subplots(figsize=(15,10))\n",
    "x = [i for i in np.arange(0, len(switzerland_df))]\n",
    "ax.plot(x, switzerland_df.unemployment_rate)\n",
    "ax.plot(x, switzerland_df.unemployed_jobseekers_unemployment_rate)\n",
    "ax.set_ylabel(\"Percentage of unemployed\")\n",
    "ax.set_xlabel(\"Cantons\")\n",
    "plt.xticks(x, switzerland_df['canton'], rotation='vertical')\n",
    "ax.legend([\"Counting empoyed jobseekers\", \"Counting only unemployed jobseekers\"])"
   ]
  },
  {
   "cell_type": "markdown",
   "metadata": {},
   "source": [
    "# Task 3 : Swiss unemployment data with additional attributes"
   ]
  },
  {
   "cell_type": "markdown",
   "metadata": {},
   "source": [
    "In this task we also decided to take the previous year into account : 2016"
   ]
  },
  {
   "cell_type": "markdown",
   "metadata": {},
   "source": [
    "### 3.1 - Nationality\n",
    "We find on amstat website a dataset that contains unemployment rates for each canton, according to the nationality of the jobseekers. We distinguished two classes:\n",
    "- Swiss people\n",
    "- Foreign people"
   ]
  },
  {
   "cell_type": "markdown",
   "metadata": {},
   "source": [
    "\n"
   ]
  },
  {
   "cell_type": "code",
   "execution_count": 18,
   "metadata": {},
   "outputs": [
    {
     "data": {
      "text/html": [
       "<div>\n",
       "<style>\n",
       "    .dataframe thead tr:only-child th {\n",
       "        text-align: right;\n",
       "    }\n",
       "\n",
       "    .dataframe thead th {\n",
       "        text-align: left;\n",
       "    }\n",
       "\n",
       "    .dataframe tbody tr th {\n",
       "        vertical-align: top;\n",
       "    }\n",
       "</style>\n",
       "<table border=\"1\" class=\"dataframe\">\n",
       "  <thead>\n",
       "    <tr style=\"text-align: right;\">\n",
       "      <th></th>\n",
       "      <th>canton</th>\n",
       "      <th>nationality</th>\n",
       "      <th>unemployment_rate</th>\n",
       "      <th>employed_jobseekers</th>\n",
       "      <th>all_jobseekers</th>\n",
       "      <th>unemployed_jobseekers</th>\n",
       "    </tr>\n",
       "  </thead>\n",
       "  <tbody>\n",
       "    <tr>\n",
       "      <th>0</th>\n",
       "      <td>Zurich</td>\n",
       "      <td>Etrangers</td>\n",
       "      <td>6.0</td>\n",
       "      <td>164436</td>\n",
       "      <td>202818</td>\n",
       "      <td>38382</td>\n",
       "    </tr>\n",
       "    <tr>\n",
       "      <th>1</th>\n",
       "      <td>Zurich</td>\n",
       "      <td>Suisses</td>\n",
       "      <td>2.8</td>\n",
       "      <td>196571</td>\n",
       "      <td>238613</td>\n",
       "      <td>42042</td>\n",
       "    </tr>\n",
       "    <tr>\n",
       "      <th>2</th>\n",
       "      <td>Berne</td>\n",
       "      <td>Etrangers</td>\n",
       "      <td>6.5</td>\n",
       "      <td>69502</td>\n",
       "      <td>93346</td>\n",
       "      <td>23844</td>\n",
       "    </tr>\n",
       "    <tr>\n",
       "      <th>3</th>\n",
       "      <td>Berne</td>\n",
       "      <td>Suisses</td>\n",
       "      <td>2.0</td>\n",
       "      <td>113896</td>\n",
       "      <td>147665</td>\n",
       "      <td>33769</td>\n",
       "    </tr>\n",
       "    <tr>\n",
       "      <th>4</th>\n",
       "      <td>Lucerne</td>\n",
       "      <td>Etrangers</td>\n",
       "      <td>4.7</td>\n",
       "      <td>22927</td>\n",
       "      <td>39061</td>\n",
       "      <td>16134</td>\n",
       "    </tr>\n",
       "  </tbody>\n",
       "</table>\n",
       "</div>"
      ],
      "text/plain": [
       "    canton nationality  unemployment_rate  employed_jobseekers  \\\n",
       "0   Zurich   Etrangers                6.0               164436   \n",
       "1   Zurich     Suisses                2.8               196571   \n",
       "2    Berne   Etrangers                6.5                69502   \n",
       "3    Berne     Suisses                2.0               113896   \n",
       "4  Lucerne   Etrangers                4.7                22927   \n",
       "\n",
       "   all_jobseekers  unemployed_jobseekers  \n",
       "0          202818                  38382  \n",
       "1          238613                  42042  \n",
       "2           93346                  23844  \n",
       "3          147665                  33769  \n",
       "4           39061                  16134  "
      ]
     },
     "execution_count": 18,
     "metadata": {},
     "output_type": "execute_result"
    }
   ],
   "source": [
    "switzerland_nationality_path = 'data/unemployment_nationality.csv'\n",
    "switzerland_nationality_df = pd.read_csv(open(switzerland_nationality_path, encoding='utf-16'), header=[1,2], thousands='\\'')\n",
    "switzerland_nationality_df = switzerland_nationality_df[['Canton','Nationalité' ,'Total']]\n",
    "switzerland_nationality_df.columns = ['canton', 'nationality', 'unemployment_rate', 'employed_jobseekers', 'all_jobseekers', 'unemployed_jobseekers']\n",
    "switzerland_nationality_df.head()"
   ]
  },
  {
   "cell_type": "code",
   "execution_count": 19,
   "metadata": {},
   "outputs": [
    {
     "data": {
      "text/html": [
       "<div>\n",
       "<style>\n",
       "    .dataframe thead tr:only-child th {\n",
       "        text-align: right;\n",
       "    }\n",
       "\n",
       "    .dataframe thead th {\n",
       "        text-align: left;\n",
       "    }\n",
       "\n",
       "    .dataframe tbody tr th {\n",
       "        vertical-align: top;\n",
       "    }\n",
       "</style>\n",
       "<table border=\"1\" class=\"dataframe\">\n",
       "  <thead>\n",
       "    <tr style=\"text-align: right;\">\n",
       "      <th></th>\n",
       "      <th>index</th>\n",
       "      <th>code</th>\n",
       "      <th>canton</th>\n",
       "      <th>nationality</th>\n",
       "      <th>unemployment_rate</th>\n",
       "      <th>employed_jobseekers</th>\n",
       "      <th>all_jobseekers</th>\n",
       "      <th>unemployed_jobseekers</th>\n",
       "    </tr>\n",
       "  </thead>\n",
       "  <tbody>\n",
       "    <tr>\n",
       "      <th>0</th>\n",
       "      <td>1</td>\n",
       "      <td>ZH</td>\n",
       "      <td>Zurich</td>\n",
       "      <td>Suisses</td>\n",
       "      <td>2.8</td>\n",
       "      <td>196571</td>\n",
       "      <td>238613</td>\n",
       "      <td>42042</td>\n",
       "    </tr>\n",
       "    <tr>\n",
       "      <th>1</th>\n",
       "      <td>3</td>\n",
       "      <td>BE</td>\n",
       "      <td>Berne</td>\n",
       "      <td>Suisses</td>\n",
       "      <td>2.0</td>\n",
       "      <td>113896</td>\n",
       "      <td>147665</td>\n",
       "      <td>33769</td>\n",
       "    </tr>\n",
       "    <tr>\n",
       "      <th>2</th>\n",
       "      <td>5</td>\n",
       "      <td>LU</td>\n",
       "      <td>Lucerne</td>\n",
       "      <td>Suisses</td>\n",
       "      <td>1.5</td>\n",
       "      <td>32294</td>\n",
       "      <td>50538</td>\n",
       "      <td>18244</td>\n",
       "    </tr>\n",
       "    <tr>\n",
       "      <th>3</th>\n",
       "      <td>7</td>\n",
       "      <td>UR</td>\n",
       "      <td>Uri</td>\n",
       "      <td>Suisses</td>\n",
       "      <td>0.6</td>\n",
       "      <td>1140</td>\n",
       "      <td>2091</td>\n",
       "      <td>951</td>\n",
       "    </tr>\n",
       "    <tr>\n",
       "      <th>4</th>\n",
       "      <td>9</td>\n",
       "      <td>SZ</td>\n",
       "      <td>Schwyz</td>\n",
       "      <td>Suisses</td>\n",
       "      <td>1.2</td>\n",
       "      <td>9999</td>\n",
       "      <td>14425</td>\n",
       "      <td>4426</td>\n",
       "    </tr>\n",
       "  </tbody>\n",
       "</table>\n",
       "</div>"
      ],
      "text/plain": [
       "   index code   canton nationality  unemployment_rate  employed_jobseekers  \\\n",
       "0      1   ZH   Zurich     Suisses                2.8               196571   \n",
       "1      3   BE    Berne     Suisses                2.0               113896   \n",
       "2      5   LU  Lucerne     Suisses                1.5                32294   \n",
       "3      7   UR      Uri     Suisses                0.6                 1140   \n",
       "4      9   SZ   Schwyz     Suisses                1.2                 9999   \n",
       "\n",
       "   all_jobseekers  unemployed_jobseekers  \n",
       "0          238613                  42042  \n",
       "1          147665                  33769  \n",
       "2           50538                  18244  \n",
       "3            2091                    951  \n",
       "4           14425                   4426  "
      ]
     },
     "execution_count": 19,
     "metadata": {},
     "output_type": "execute_result"
    }
   ],
   "source": [
    "switzerland_all_nationality_df = pd.merge(cantons,switzerland_nationality_df, on=['canton'])\n",
    "\n",
    "# Split dataframe by nationality attribute\n",
    "switzerland_strangers_df = switzerland_all_nationality_df.query('nationality == \\'Etrangers\\'') \n",
    "switzerland_suisses_df = switzerland_all_nationality_df.query('nationality == \\'Suisses\\'') \n",
    "\n",
    "switzerland_suisses_df.reset_index(inplace=True)\n",
    "switzerland_strangers_df.reset_index(inplace=True)\n",
    "\n",
    "#Swiss people dataframe\n",
    "switzerland_suisses_df.head()"
   ]
  },
  {
   "cell_type": "code",
   "execution_count": 20,
   "metadata": {
    "scrolled": true
   },
   "outputs": [
    {
     "data": {
      "text/html": [
       "<div>\n",
       "<style>\n",
       "    .dataframe thead tr:only-child th {\n",
       "        text-align: right;\n",
       "    }\n",
       "\n",
       "    .dataframe thead th {\n",
       "        text-align: left;\n",
       "    }\n",
       "\n",
       "    .dataframe tbody tr th {\n",
       "        vertical-align: top;\n",
       "    }\n",
       "</style>\n",
       "<table border=\"1\" class=\"dataframe\">\n",
       "  <thead>\n",
       "    <tr style=\"text-align: right;\">\n",
       "      <th></th>\n",
       "      <th>index</th>\n",
       "      <th>code</th>\n",
       "      <th>canton</th>\n",
       "      <th>nationality</th>\n",
       "      <th>unemployment_rate</th>\n",
       "      <th>employed_jobseekers</th>\n",
       "      <th>all_jobseekers</th>\n",
       "      <th>unemployed_jobseekers</th>\n",
       "    </tr>\n",
       "  </thead>\n",
       "  <tbody>\n",
       "    <tr>\n",
       "      <th>0</th>\n",
       "      <td>0</td>\n",
       "      <td>ZH</td>\n",
       "      <td>Zurich</td>\n",
       "      <td>Etrangers</td>\n",
       "      <td>6.0</td>\n",
       "      <td>164436</td>\n",
       "      <td>202818</td>\n",
       "      <td>38382</td>\n",
       "    </tr>\n",
       "    <tr>\n",
       "      <th>1</th>\n",
       "      <td>2</td>\n",
       "      <td>BE</td>\n",
       "      <td>Berne</td>\n",
       "      <td>Etrangers</td>\n",
       "      <td>6.5</td>\n",
       "      <td>69502</td>\n",
       "      <td>93346</td>\n",
       "      <td>23844</td>\n",
       "    </tr>\n",
       "    <tr>\n",
       "      <th>2</th>\n",
       "      <td>4</td>\n",
       "      <td>LU</td>\n",
       "      <td>Lucerne</td>\n",
       "      <td>Etrangers</td>\n",
       "      <td>4.7</td>\n",
       "      <td>22927</td>\n",
       "      <td>39061</td>\n",
       "      <td>16134</td>\n",
       "    </tr>\n",
       "    <tr>\n",
       "      <th>3</th>\n",
       "      <td>6</td>\n",
       "      <td>UR</td>\n",
       "      <td>Uri</td>\n",
       "      <td>Etrangers</td>\n",
       "      <td>4.2</td>\n",
       "      <td>1278</td>\n",
       "      <td>2270</td>\n",
       "      <td>992</td>\n",
       "    </tr>\n",
       "    <tr>\n",
       "      <th>4</th>\n",
       "      <td>8</td>\n",
       "      <td>SZ</td>\n",
       "      <td>Schwyz</td>\n",
       "      <td>Etrangers</td>\n",
       "      <td>3.9</td>\n",
       "      <td>8447</td>\n",
       "      <td>13050</td>\n",
       "      <td>4603</td>\n",
       "    </tr>\n",
       "  </tbody>\n",
       "</table>\n",
       "</div>"
      ],
      "text/plain": [
       "   index code   canton nationality  unemployment_rate  employed_jobseekers  \\\n",
       "0      0   ZH   Zurich   Etrangers                6.0               164436   \n",
       "1      2   BE    Berne   Etrangers                6.5                69502   \n",
       "2      4   LU  Lucerne   Etrangers                4.7                22927   \n",
       "3      6   UR      Uri   Etrangers                4.2                 1278   \n",
       "4      8   SZ   Schwyz   Etrangers                3.9                 8447   \n",
       "\n",
       "   all_jobseekers  unemployed_jobseekers  \n",
       "0          202818                  38382  \n",
       "1           93346                  23844  \n",
       "2           39061                  16134  \n",
       "3            2270                    992  \n",
       "4           13050                   4603  "
      ]
     },
     "execution_count": 20,
     "metadata": {},
     "output_type": "execute_result"
    }
   ],
   "source": [
    "#Foreign people dataframe\n",
    "switzerland_strangers_df.head()"
   ]
  },
  {
   "cell_type": "markdown",
   "metadata": {},
   "source": [
    "## Map of unemployment rate - difference between swiss and foreigners\n",
    "\n",
    "\n",
    "\n",
    "On the map we show difference between the unemployment rate between swiss people and foregners. We notice that this difference is biggest in the next regions: ..."
   ]
  },
  {
   "cell_type": "code",
   "execution_count": 21,
   "metadata": {},
   "outputs": [],
   "source": [
    "#Layer Control add to see both maps in one\n",
    "m_switzerland_swiss_foreigners = folium.Map([46.8001, 8.1958], tiles='cartodbpositron', zoom_start=8)\n",
    "\n",
    "m_switzerland_swiss_foreigners.choropleth(geo_data=switzerland_topojson_path, data=switzerland_suisses_df,\n",
    "             columns=['code', 'unemployment_rate'],\n",
    "             key_on='feature.id',\n",
    "             fill_color='YlOrRd', fill_opacity=0.3, line_opacity=0.2,\n",
    "             legend_name='Unemployment rate - Swiss population (%)',\n",
    "             name='Unemployment rates - Swiss population',\n",
    "             topojson='objects.cantons')\n",
    "\n",
    "m_switzerland_swiss_foreigners.choropleth(geo_data=switzerland_topojson_path, data=switzerland_strangers_df,\n",
    "             columns=['code', 'unemployment_rate'],\n",
    "             key_on='feature.id',\n",
    "             fill_color='YlOrRd', fill_opacity=0.3, line_opacity=0.2,\n",
    "             legend_name='Unemployment rate - Foreign population (%)', \n",
    "             name='Unemployment rates - Foreign population',\n",
    "             topojson='objects.cantons')\n",
    "\n",
    "folium.LayerControl(collapsed=False).add_to(m_switzerland_swiss_foreigners)\n",
    "\n",
    "m_switzerland_swiss_foreigners\n",
    "m_switzerland_swiss_foreigners.save('maps/unemployment_switzerland_swiss_foreigners.html')"
   ]
  },
  {
   "cell_type": "code",
   "execution_count": 22,
   "metadata": {
    "collapsed": true
   },
   "outputs": [],
   "source": [
    "# TODO: Do a bar plot to see distribution between swiss and foreigners"
   ]
  },
  {
   "cell_type": "markdown",
   "metadata": {},
   "source": [
    "### 3.2 - Nationality and age groups\n",
    "\n",
    "Now let's refine the analysis by adding the differences between age groups. As you may have guessed it is nearly impossible to plot so many variables on a map. Make a bar plot, which is a better suited visualization tool for this type of multivariate data."
   ]
  },
  {
   "cell_type": "markdown",
   "metadata": {},
   "source": [
    "#### Assumptions\n",
    "We don't achieve to get unemployment rates for all classes (age and nationality).<br>\n",
    "As a matter of fact, we decided to show the distribution between all the subclasses using one final horizontal barplot."
   ]
  },
  {
   "cell_type": "code",
   "execution_count": 23,
   "metadata": {
    "collapsed": true
   },
   "outputs": [],
   "source": [
    "def define_age_classes(x):\n",
    "    if(x == '1'):\n",
    "        return ' 15 - 24 years'\n",
    "    elif(x == '2'):\n",
    "        return ' 25 - 49 years'\n",
    "    else:\n",
    "        return ' 50+ years'"
   ]
  },
  {
   "cell_type": "code",
   "execution_count": 24,
   "metadata": {},
   "outputs": [
    {
     "data": {
      "text/html": [
       "<div>\n",
       "<style>\n",
       "    .dataframe thead tr:only-child th {\n",
       "        text-align: right;\n",
       "    }\n",
       "\n",
       "    .dataframe thead th {\n",
       "        text-align: left;\n",
       "    }\n",
       "\n",
       "    .dataframe tbody tr th {\n",
       "        vertical-align: top;\n",
       "    }\n",
       "</style>\n",
       "<table border=\"1\" class=\"dataframe\">\n",
       "  <thead>\n",
       "    <tr style=\"text-align: right;\">\n",
       "      <th>Nationality + age</th>\n",
       "      <th>Etrangers  15 - 24 years</th>\n",
       "      <th>Etrangers  25 - 49 years</th>\n",
       "      <th>Etrangers  50+ years</th>\n",
       "      <th>Suisses  15 - 24 years</th>\n",
       "      <th>Suisses  25 - 49 years</th>\n",
       "      <th>Suisses  50+ years</th>\n",
       "    </tr>\n",
       "    <tr>\n",
       "      <th>Canton</th>\n",
       "      <th></th>\n",
       "      <th></th>\n",
       "      <th></th>\n",
       "      <th></th>\n",
       "      <th></th>\n",
       "      <th></th>\n",
       "    </tr>\n",
       "  </thead>\n",
       "  <tbody>\n",
       "    <tr>\n",
       "      <th>Appenzell Rhodes-Extérieures</th>\n",
       "      <td>29</td>\n",
       "      <td>231</td>\n",
       "      <td>95</td>\n",
       "      <td>89</td>\n",
       "      <td>262</td>\n",
       "      <td>244</td>\n",
       "    </tr>\n",
       "    <tr>\n",
       "      <th>Appenzell Rhodes-Intérieures</th>\n",
       "      <td>7</td>\n",
       "      <td>35</td>\n",
       "      <td>18</td>\n",
       "      <td>12</td>\n",
       "      <td>33</td>\n",
       "      <td>34</td>\n",
       "    </tr>\n",
       "    <tr>\n",
       "      <th>Argovie</th>\n",
       "      <td>797</td>\n",
       "      <td>5316</td>\n",
       "      <td>1625</td>\n",
       "      <td>1166</td>\n",
       "      <td>4139</td>\n",
       "      <td>2929</td>\n",
       "    </tr>\n",
       "    <tr>\n",
       "      <th>Berne</th>\n",
       "      <td>679</td>\n",
       "      <td>5455</td>\n",
       "      <td>1644</td>\n",
       "      <td>1872</td>\n",
       "      <td>6287</td>\n",
       "      <td>4145</td>\n",
       "    </tr>\n",
       "    <tr>\n",
       "      <th>Bâle-Campagne</th>\n",
       "      <td>194</td>\n",
       "      <td>1727</td>\n",
       "      <td>543</td>\n",
       "      <td>416</td>\n",
       "      <td>1782</td>\n",
       "      <td>1195</td>\n",
       "    </tr>\n",
       "    <tr>\n",
       "      <th>Bâle-Ville</th>\n",
       "      <td>224</td>\n",
       "      <td>2117</td>\n",
       "      <td>597</td>\n",
       "      <td>352</td>\n",
       "      <td>1482</td>\n",
       "      <td>728</td>\n",
       "    </tr>\n",
       "    <tr>\n",
       "      <th>Fribourg</th>\n",
       "      <td>421</td>\n",
       "      <td>2832</td>\n",
       "      <td>761</td>\n",
       "      <td>590</td>\n",
       "      <td>2350</td>\n",
       "      <td>1342</td>\n",
       "    </tr>\n",
       "    <tr>\n",
       "      <th>Genève</th>\n",
       "      <td>471</td>\n",
       "      <td>6381</td>\n",
       "      <td>1547</td>\n",
       "      <td>817</td>\n",
       "      <td>5347</td>\n",
       "      <td>2028</td>\n",
       "    </tr>\n",
       "    <tr>\n",
       "      <th>Glaris</th>\n",
       "      <td>49</td>\n",
       "      <td>290</td>\n",
       "      <td>120</td>\n",
       "      <td>62</td>\n",
       "      <td>179</td>\n",
       "      <td>145</td>\n",
       "    </tr>\n",
       "    <tr>\n",
       "      <th>Grisons</th>\n",
       "      <td>122</td>\n",
       "      <td>1352</td>\n",
       "      <td>427</td>\n",
       "      <td>228</td>\n",
       "      <td>751</td>\n",
       "      <td>620</td>\n",
       "    </tr>\n",
       "    <tr>\n",
       "      <th>Jura</th>\n",
       "      <td>94</td>\n",
       "      <td>557</td>\n",
       "      <td>161</td>\n",
       "      <td>301</td>\n",
       "      <td>790</td>\n",
       "      <td>508</td>\n",
       "    </tr>\n",
       "    <tr>\n",
       "      <th>Lucerne</th>\n",
       "      <td>363</td>\n",
       "      <td>2194</td>\n",
       "      <td>697</td>\n",
       "      <td>684</td>\n",
       "      <td>2123</td>\n",
       "      <td>1404</td>\n",
       "    </tr>\n",
       "    <tr>\n",
       "      <th>Neuchâtel</th>\n",
       "      <td>306</td>\n",
       "      <td>2311</td>\n",
       "      <td>617</td>\n",
       "      <td>672</td>\n",
       "      <td>2198</td>\n",
       "      <td>1063</td>\n",
       "    </tr>\n",
       "    <tr>\n",
       "      <th>Nidwald</th>\n",
       "      <td>15</td>\n",
       "      <td>131</td>\n",
       "      <td>48</td>\n",
       "      <td>38</td>\n",
       "      <td>137</td>\n",
       "      <td>141</td>\n",
       "    </tr>\n",
       "    <tr>\n",
       "      <th>Obwald</th>\n",
       "      <td>16</td>\n",
       "      <td>108</td>\n",
       "      <td>44</td>\n",
       "      <td>32</td>\n",
       "      <td>93</td>\n",
       "      <td>80</td>\n",
       "    </tr>\n",
       "    <tr>\n",
       "      <th>Schaffhouse</th>\n",
       "      <td>139</td>\n",
       "      <td>900</td>\n",
       "      <td>281</td>\n",
       "      <td>215</td>\n",
       "      <td>629</td>\n",
       "      <td>399</td>\n",
       "    </tr>\n",
       "    <tr>\n",
       "      <th>Schwyz</th>\n",
       "      <td>99</td>\n",
       "      <td>677</td>\n",
       "      <td>310</td>\n",
       "      <td>139</td>\n",
       "      <td>549</td>\n",
       "      <td>512</td>\n",
       "    </tr>\n",
       "    <tr>\n",
       "      <th>Soleure</th>\n",
       "      <td>385</td>\n",
       "      <td>2067</td>\n",
       "      <td>613</td>\n",
       "      <td>590</td>\n",
       "      <td>1849</td>\n",
       "      <td>1366</td>\n",
       "    </tr>\n",
       "    <tr>\n",
       "      <th>St-Gall</th>\n",
       "      <td>632</td>\n",
       "      <td>3884</td>\n",
       "      <td>1227</td>\n",
       "      <td>980</td>\n",
       "      <td>2861</td>\n",
       "      <td>1963</td>\n",
       "    </tr>\n",
       "    <tr>\n",
       "      <th>Tessin</th>\n",
       "      <td>304</td>\n",
       "      <td>2967</td>\n",
       "      <td>1170</td>\n",
       "      <td>825</td>\n",
       "      <td>2609</td>\n",
       "      <td>1481</td>\n",
       "    </tr>\n",
       "    <tr>\n",
       "      <th>Thurgovie</th>\n",
       "      <td>328</td>\n",
       "      <td>2015</td>\n",
       "      <td>716</td>\n",
       "      <td>536</td>\n",
       "      <td>1485</td>\n",
       "      <td>1062</td>\n",
       "    </tr>\n",
       "    <tr>\n",
       "      <th>Uri</th>\n",
       "      <td>9</td>\n",
       "      <td>133</td>\n",
       "      <td>46</td>\n",
       "      <td>29</td>\n",
       "      <td>76</td>\n",
       "      <td>67</td>\n",
       "    </tr>\n",
       "    <tr>\n",
       "      <th>Valais</th>\n",
       "      <td>523</td>\n",
       "      <td>3744</td>\n",
       "      <td>1286</td>\n",
       "      <td>851</td>\n",
       "      <td>2654</td>\n",
       "      <td>1517</td>\n",
       "    </tr>\n",
       "    <tr>\n",
       "      <th>Vaud</th>\n",
       "      <td>1074</td>\n",
       "      <td>9765</td>\n",
       "      <td>2701</td>\n",
       "      <td>1672</td>\n",
       "      <td>7474</td>\n",
       "      <td>3549</td>\n",
       "    </tr>\n",
       "    <tr>\n",
       "      <th>Zoug</th>\n",
       "      <td>88</td>\n",
       "      <td>826</td>\n",
       "      <td>330</td>\n",
       "      <td>154</td>\n",
       "      <td>724</td>\n",
       "      <td>529</td>\n",
       "    </tr>\n",
       "    <tr>\n",
       "      <th>Zurich</th>\n",
       "      <td>1366</td>\n",
       "      <td>12394</td>\n",
       "      <td>3141</td>\n",
       "      <td>2879</td>\n",
       "      <td>10885</td>\n",
       "      <td>6119</td>\n",
       "    </tr>\n",
       "  </tbody>\n",
       "</table>\n",
       "</div>"
      ],
      "text/plain": [
       "Nationality + age             Etrangers  15 - 24 years  \\\n",
       "Canton                                                   \n",
       "Appenzell Rhodes-Extérieures                        29   \n",
       "Appenzell Rhodes-Intérieures                         7   \n",
       "Argovie                                            797   \n",
       "Berne                                              679   \n",
       "Bâle-Campagne                                      194   \n",
       "Bâle-Ville                                         224   \n",
       "Fribourg                                           421   \n",
       "Genève                                             471   \n",
       "Glaris                                              49   \n",
       "Grisons                                            122   \n",
       "Jura                                                94   \n",
       "Lucerne                                            363   \n",
       "Neuchâtel                                          306   \n",
       "Nidwald                                             15   \n",
       "Obwald                                              16   \n",
       "Schaffhouse                                        139   \n",
       "Schwyz                                              99   \n",
       "Soleure                                            385   \n",
       "St-Gall                                            632   \n",
       "Tessin                                             304   \n",
       "Thurgovie                                          328   \n",
       "Uri                                                  9   \n",
       "Valais                                             523   \n",
       "Vaud                                              1074   \n",
       "Zoug                                                88   \n",
       "Zurich                                            1366   \n",
       "\n",
       "Nationality + age             Etrangers  25 - 49 years  Etrangers  50+ years  \\\n",
       "Canton                                                                         \n",
       "Appenzell Rhodes-Extérieures                       231                    95   \n",
       "Appenzell Rhodes-Intérieures                        35                    18   \n",
       "Argovie                                           5316                  1625   \n",
       "Berne                                             5455                  1644   \n",
       "Bâle-Campagne                                     1727                   543   \n",
       "Bâle-Ville                                        2117                   597   \n",
       "Fribourg                                          2832                   761   \n",
       "Genève                                            6381                  1547   \n",
       "Glaris                                             290                   120   \n",
       "Grisons                                           1352                   427   \n",
       "Jura                                               557                   161   \n",
       "Lucerne                                           2194                   697   \n",
       "Neuchâtel                                         2311                   617   \n",
       "Nidwald                                            131                    48   \n",
       "Obwald                                             108                    44   \n",
       "Schaffhouse                                        900                   281   \n",
       "Schwyz                                             677                   310   \n",
       "Soleure                                           2067                   613   \n",
       "St-Gall                                           3884                  1227   \n",
       "Tessin                                            2967                  1170   \n",
       "Thurgovie                                         2015                   716   \n",
       "Uri                                                133                    46   \n",
       "Valais                                            3744                  1286   \n",
       "Vaud                                              9765                  2701   \n",
       "Zoug                                               826                   330   \n",
       "Zurich                                           12394                  3141   \n",
       "\n",
       "Nationality + age             Suisses  15 - 24 years  Suisses  25 - 49 years  \\\n",
       "Canton                                                                         \n",
       "Appenzell Rhodes-Extérieures                      89                     262   \n",
       "Appenzell Rhodes-Intérieures                      12                      33   \n",
       "Argovie                                         1166                    4139   \n",
       "Berne                                           1872                    6287   \n",
       "Bâle-Campagne                                    416                    1782   \n",
       "Bâle-Ville                                       352                    1482   \n",
       "Fribourg                                         590                    2350   \n",
       "Genève                                           817                    5347   \n",
       "Glaris                                            62                     179   \n",
       "Grisons                                          228                     751   \n",
       "Jura                                             301                     790   \n",
       "Lucerne                                          684                    2123   \n",
       "Neuchâtel                                        672                    2198   \n",
       "Nidwald                                           38                     137   \n",
       "Obwald                                            32                      93   \n",
       "Schaffhouse                                      215                     629   \n",
       "Schwyz                                           139                     549   \n",
       "Soleure                                          590                    1849   \n",
       "St-Gall                                          980                    2861   \n",
       "Tessin                                           825                    2609   \n",
       "Thurgovie                                        536                    1485   \n",
       "Uri                                               29                      76   \n",
       "Valais                                           851                    2654   \n",
       "Vaud                                            1672                    7474   \n",
       "Zoug                                             154                     724   \n",
       "Zurich                                          2879                   10885   \n",
       "\n",
       "Nationality + age             Suisses  50+ years  \n",
       "Canton                                            \n",
       "Appenzell Rhodes-Extérieures                 244  \n",
       "Appenzell Rhodes-Intérieures                  34  \n",
       "Argovie                                     2929  \n",
       "Berne                                       4145  \n",
       "Bâle-Campagne                               1195  \n",
       "Bâle-Ville                                   728  \n",
       "Fribourg                                    1342  \n",
       "Genève                                      2028  \n",
       "Glaris                                       145  \n",
       "Grisons                                      620  \n",
       "Jura                                         508  \n",
       "Lucerne                                     1404  \n",
       "Neuchâtel                                   1063  \n",
       "Nidwald                                      141  \n",
       "Obwald                                        80  \n",
       "Schaffhouse                                  399  \n",
       "Schwyz                                       512  \n",
       "Soleure                                     1366  \n",
       "St-Gall                                     1963  \n",
       "Tessin                                      1481  \n",
       "Thurgovie                                   1062  \n",
       "Uri                                           67  \n",
       "Valais                                      1517  \n",
       "Vaud                                        3549  \n",
       "Zoug                                         529  \n",
       "Zurich                                      6119  "
      ]
     },
     "execution_count": 24,
     "metadata": {},
     "output_type": "execute_result"
    }
   ],
   "source": [
    "switzerland_age_groups_path = 'data/unemployment_nationality_age.csv'\n",
    "\n",
    "#Some preprocessing \n",
    "switzerland_age_df = pd.read_csv(open(switzerland_age_groups_path, encoding='utf-16'), header=[1,2], thousands='\\'')\n",
    "switzerland_age_df = switzerland_age_df[~switzerland_age_df.isin(['Total'])] #Remove total rows : useless for us\n",
    "switzerland_age_df = switzerland_age_df.drop(['Mesures', 'Unnamed: 3_level_1'], axis=1, level=1).dropna()\n",
    "switzerland_age_df.rename(columns={'Classes d\\'âge 15-24, 25-49, 50 ans et plus': 'classes', }, inplace=True)\n",
    "switzerland_age_df.columns = switzerland_age_df.columns.droplevel(1)\n",
    "switzerland_age_df['Total'] = np.round(switzerland_age_df.mean(axis=1).astype('int64'))\n",
    "switzerland_age_df['classes'] = switzerland_age_df['classes'].apply(lambda x: define_age_classes(x))\n",
    "switzerland_age_df['Nationality + age'] = switzerland_age_df['Nationalité'] + ' ' + switzerland_age_df['classes']\n",
    "\n",
    "# Use pivot function for horizontal bar plot\n",
    "switzerland_age_df = switzerland_age_df.pivot(index='Canton', columns='Nationality + age', values='Total')\n",
    "switzerland_age_df"
   ]
  },
  {
   "cell_type": "markdown",
   "metadata": {},
   "source": [
    "### Analysis on the distribution"
   ]
  },
  {
   "cell_type": "code",
   "execution_count": 25,
   "metadata": {
    "scrolled": true
   },
   "outputs": [
    {
     "data": {
      "text/plain": [
       "<matplotlib.legend.Legend at 0x1e7a877dac8>"
      ]
     },
     "execution_count": 25,
     "metadata": {},
     "output_type": "execute_result"
    },
    {
     "data": {
      "image/png": "[encoded data removed]",
      "text/plain": [
       "<matplotlib.figure.Figure at 0x1e7a877db70>"
      ]
     },
     "metadata": {},
     "output_type": "display_data"
    }
   ],
   "source": [
    "sns.set_palette(\"Set2\")\n",
    "fig, ax = plt.subplots(figsize=(16,12))\n",
    "switzerland_age_df.plot.barh(stacked=True, grid=True, width=0.8, ax=ax)\n",
    "plt.xlabel('Number of registered unemployed people',fontsize=14)\n",
    "plt.ylabel('Canton', fontsize=14)\n",
    "plt.yticks(fontsize=12)\n",
    "plt.legend()"
   ]
  },
  {
   "cell_type": "markdown",
   "metadata": {},
   "source": [
    "#### Observations\n",
    "TODO"
   ]
  },
  {
   "cell_type": "markdown",
   "metadata": {},
   "source": [
    "# Bonus part : Röstigraben\n",
    "\n",
    "Using the map you have just built, and the geographical information contained in it, could you give a rough estimate of the difference in unemployment rates between the areas divided by the Röstigraben?"
   ]
  },
  {
   "cell_type": "markdown",
   "metadata": {},
   "source": [
    "## Methodology"
   ]
  },
  {
   "cell_type": "markdown",
   "metadata": {},
   "source": [
    "In order to see nicely the three Rostigraben groups on the map, we plot cantons with different bording colors, according if people speak French, Deutch or Italian."
   ]
  },
  {
   "cell_type": "code",
   "execution_count": 26,
   "metadata": {
    "collapsed": true
   },
   "outputs": [],
   "source": [
    "def rostigraben_colors(feature_id):\n",
    "    IT = ['TI']\n",
    "    FR = ['GE', 'VD', 'FR', 'NE', 'VS', 'JU']\n",
    "    \n",
    "    if feature_id in IT:\n",
    "            return '#4daf4a';\n",
    "    elif feature_id in FR:\n",
    "        return '#377eb8'\n",
    "    else:\n",
    "        return '#e41a1c'"
   ]
  },
  {
   "cell_type": "code",
   "execution_count": 27,
   "metadata": {},
   "outputs": [
    {
     "data": {
      "text/plain": [
       "<folium.map.LayerControl at 0x1e7a8b329b0>"
      ]
     },
     "execution_count": 27,
     "metadata": {},
     "output_type": "execute_result"
    }
   ],
   "source": [
    "rostigraben_map = folium.Map([46.8001, 8.1958], tiles='cartodbpositron', zoom_start=8)\n",
    "\n",
    "# Layer 1: unemployment rate for swiss people\n",
    "rostigraben_map.choropleth(geo_data=switzerland_topojson_path, data=switzerland_suisses_df,\n",
    "             columns=['code', 'unemployment_rate'],\n",
    "             key_on='feature.id',\n",
    "             fill_color='YlOrRd', fill_opacity=0.3, line_opacity=0,\n",
    "             legend_name='Unemployment rate - Swiss population (%)',\n",
    "             name='Unemployment rates - Swiss population',\n",
    "             topojson='objects.cantons', threshold_scale=define_threshold(switzerland_suisses_df, 'unemployment_rate', 'equal', 5))\n",
    "\n",
    "# Layer 2: unemployment rate for foreign people\n",
    "rostigraben_map.choropleth(geo_data=switzerland_topojson_path, data=switzerland_strangers_df,\n",
    "             columns=['code', 'unemployment_rate'],\n",
    "             key_on='feature.id',\n",
    "             fill_color='YlOrRd', fill_opacity=0.3, line_opacity=0,\n",
    "             legend_name='Unemployment rate - Foreign population (%)', \n",
    "             name='Unemployment rates - Foreign population',\n",
    "             topojson='objects.cantons', threshold_scale=define_threshold(switzerland_strangers_df, 'unemployment_rate', 'equal', 5))\n",
    "\n",
    "# Layer 3: cantons borders according to rostigraben regions\n",
    "folium.TopoJson(\n",
    "    switzerland_topojson_path,\n",
    "    name = 'Languages spoken according to Rostigraben',\n",
    "    object_path ='objects.cantons',\n",
    "    style_function=lambda feature: {\n",
    "        'fill_color': 'white',\n",
    "        'fillOpacity': 0,\n",
    "        'weight' : 3,\n",
    "        'color': rostigraben_colors(feature['id']),\n",
    "        'opacity': 1\n",
    "        \n",
    "    }\n",
    ").add_to(rostigraben_map)\n",
    "\n",
    "folium.LayerControl(collapsed=False).add_to(rostigraben_map)"
   ]
  },
  {
   "cell_type": "markdown",
   "metadata": {},
   "source": [
    "## Final results"
   ]
  },
  {
   "cell_type": "markdown",
   "metadata": {},
   "source": [
    "### 1 - Map"
   ]
  },
  {
   "cell_type": "code",
   "execution_count": 28,
   "metadata": {},
   "outputs": [],
   "source": [
    "rostigraben_map\n",
    "rostigraben_map.save('maps/unemployment_switzerland_rostigraben.html')"
   ]
  },
  {
   "cell_type": "markdown",
   "metadata": {},
   "source": [
    "### 2 - Statistics data"
   ]
  },
  {
   "cell_type": "code",
   "execution_count": 29,
   "metadata": {
    "collapsed": true
   },
   "outputs": [],
   "source": [
    "# TODO : nice array or graph to show mean and variance of unemployement rates between rostigraben regions"
   ]
  },
  {
   "cell_type": "markdown",
   "metadata": {},
   "source": [
    "## Observations"
   ]
  },
  {
   "cell_type": "code",
   "execution_count": null,
   "metadata": {
    "collapsed": true
   },
   "outputs": [],
   "source": []
  }
 ],
 "metadata": {
  "kernelspec": {
   "display_name": "Python 3",
   "language": "python",
   "name": "python3"
  },
  "language_info": {
   "codemirror_mode": {
    "name": "ipython",
    "version": 3
   },
   "file_extension": ".py",
   "mimetype": "text/x-python",
   "name": "python",
   "nbconvert_exporter": "python",
   "pygments_lexer": "ipython3",
   "version": "3.6.3"
  }
 },
 "nbformat": 4,
 "nbformat_minor": 2
}
