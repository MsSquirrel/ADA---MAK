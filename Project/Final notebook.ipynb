{
 "cells": [
  {
   "cell_type": "markdown",
   "metadata": {},
   "source": [
    "# Project - Final notebook\n",
    "\n",
    "\n",
    "How to choose phone's brand according to Amazon ?"
   ]
  },
  {
   "cell_type": "code",
   "execution_count": 1,
   "metadata": {
    "collapsed": true
   },
   "outputs": [],
   "source": [
    "%matplotlib inline\n",
    "import os\n",
    "import pandas as pd\n",
    "import numpy as np\n",
    "import matplotlib.pyplot as plt\n",
    "import seaborn as sns\n",
    "import json\n",
    "from pandas.io.json import json_normalize\n",
    "import gzip\n",
    "sns.set()\n",
    "sns.axes_style(\"darkgrid\")\n",
    "sns.set_palette(\"Set2\")"
   ]
  },
  {
   "cell_type": "markdown",
   "metadata": {},
   "source": [
    "# Datasets we use"
   ]
  },
  {
   "cell_type": "markdown",
   "metadata": {},
   "source": [
    "### http://jmcauley.ucsd.edu/data/amazon/\n",
    "- Cell Phones and Accessories reviews : Amazon reviews for phones and accessories category\n",
    "- Cell Phones and Accessories metadata : Metadata of products in phones and accessories category \n",
    "\n",
    "### https://www.kaggle.com/arwinneil/gsmarena-phone-dataset/\n",
    "- GSMArena Phone Dataset : 8000+ phones specifications scraped from GSMArena Website"
   ]
  },
  {
   "cell_type": "markdown",
   "metadata": {},
   "source": [
    "<a id='#read_the_data'></a>\n",
    "# Read the data\n",
    "\n",
    "\n",
    "We decided to save the different datasets to CSV files because of the efficency at the loading. We have another notebook that generates the files (in */scripts* path)\n"
   ]
  },
  {
   "cell_type": "code",
   "execution_count": 2,
   "metadata": {
    "collapsed": true
   },
   "outputs": [],
   "source": [
    "# read the data from previosly created csv files\n",
    "reviews_df = pd.read_csv('./data/reviews_cellphones.csv')"
   ]
  },
  {
   "cell_type": "code",
   "execution_count": 3,
   "metadata": {
    "collapsed": true
   },
   "outputs": [],
   "source": [
    "metadata_df = pd.read_csv('./data/metadata_cellphones.csv')"
   ]
  },
  {
   "cell_type": "code",
   "execution_count": 4,
   "metadata": {
    "collapsed": true
   },
   "outputs": [],
   "source": [
    "ratings_cols = ['reviewerID', 'asin', 'overall', 'unixReviewTime']\n",
    "ratings_df = reviews_df[ratings_cols]"
   ]
  },
  {
   "cell_type": "code",
   "execution_count": 5,
   "metadata": {},
   "outputs": [
    {
     "data": {
      "text/html": [
       "<div>\n",
       "<style>\n",
       "    .dataframe thead tr:only-child th {\n",
       "        text-align: right;\n",
       "    }\n",
       "\n",
       "    .dataframe thead th {\n",
       "        text-align: left;\n",
       "    }\n",
       "\n",
       "    .dataframe tbody tr th {\n",
       "        vertical-align: top;\n",
       "    }\n",
       "</style>\n",
       "<table border=\"1\" class=\"dataframe\">\n",
       "  <thead>\n",
       "    <tr style=\"text-align: right;\">\n",
       "      <th></th>\n",
       "      <th>Unnamed: 0</th>\n",
       "      <th>reviewerID</th>\n",
       "      <th>asin</th>\n",
       "      <th>reviewerName</th>\n",
       "      <th>helpful</th>\n",
       "      <th>reviewText</th>\n",
       "      <th>overall</th>\n",
       "      <th>summary</th>\n",
       "      <th>unixReviewTime</th>\n",
       "      <th>reviewTime</th>\n",
       "    </tr>\n",
       "  </thead>\n",
       "  <tbody>\n",
       "    <tr>\n",
       "      <th>0</th>\n",
       "      <td>0</td>\n",
       "      <td>A1EWN6KZ4HMLT7</td>\n",
       "      <td>011040047X</td>\n",
       "      <td>S. Prescott</td>\n",
       "      <td>[2, 2]</td>\n",
       "      <td>The case pictured is a soft violet color, but ...</td>\n",
       "      <td>1.0</td>\n",
       "      <td>Wrong color</td>\n",
       "      <td>1344902400</td>\n",
       "      <td>08 14, 2012</td>\n",
       "    </tr>\n",
       "    <tr>\n",
       "      <th>1</th>\n",
       "      <td>1</td>\n",
       "      <td>A1YX2RBMS1L9L</td>\n",
       "      <td>0110400550</td>\n",
       "      <td>Andrea Busch</td>\n",
       "      <td>[0, 0]</td>\n",
       "      <td>Saw this same case at a theme park store for 2...</td>\n",
       "      <td>5.0</td>\n",
       "      <td>Great product</td>\n",
       "      <td>1353542400</td>\n",
       "      <td>11 22, 2012</td>\n",
       "    </tr>\n",
       "    <tr>\n",
       "      <th>2</th>\n",
       "      <td>2</td>\n",
       "      <td>A180NNPPKWCCU0</td>\n",
       "      <td>0110400550</td>\n",
       "      <td>Aniya pennington</td>\n",
       "      <td>[3, 3]</td>\n",
       "      <td>case fits perfectly and I always gets complime...</td>\n",
       "      <td>5.0</td>\n",
       "      <td>Perfect</td>\n",
       "      <td>1374105600</td>\n",
       "      <td>07 18, 2013</td>\n",
       "    </tr>\n",
       "    <tr>\n",
       "      <th>3</th>\n",
       "      <td>3</td>\n",
       "      <td>A3HVRXV0LVJN7</td>\n",
       "      <td>0110400550</td>\n",
       "      <td>BiancaNicole</td>\n",
       "      <td>[4, 4]</td>\n",
       "      <td>Best phone case ever . Everywhere I go I get a...</td>\n",
       "      <td>5.0</td>\n",
       "      <td>A++++</td>\n",
       "      <td>1358035200</td>\n",
       "      <td>01 13, 2013</td>\n",
       "    </tr>\n",
       "    <tr>\n",
       "      <th>4</th>\n",
       "      <td>4</td>\n",
       "      <td>A292527VPX98P8</td>\n",
       "      <td>0110400550</td>\n",
       "      <td>Cebell</td>\n",
       "      <td>[0, 1]</td>\n",
       "      <td>It may look cute. This case started off pretty...</td>\n",
       "      <td>1.0</td>\n",
       "      <td>Do NOT GET IT!!</td>\n",
       "      <td>1353888000</td>\n",
       "      <td>11 26, 2012</td>\n",
       "    </tr>\n",
       "  </tbody>\n",
       "</table>\n",
       "</div>"
      ],
      "text/plain": [
       "   Unnamed: 0      reviewerID        asin      reviewerName helpful  \\\n",
       "0           0  A1EWN6KZ4HMLT7  011040047X       S. Prescott  [2, 2]   \n",
       "1           1   A1YX2RBMS1L9L  0110400550      Andrea Busch  [0, 0]   \n",
       "2           2  A180NNPPKWCCU0  0110400550  Aniya pennington  [3, 3]   \n",
       "3           3   A3HVRXV0LVJN7  0110400550      BiancaNicole  [4, 4]   \n",
       "4           4  A292527VPX98P8  0110400550            Cebell  [0, 1]   \n",
       "\n",
       "                                          reviewText  overall  \\\n",
       "0  The case pictured is a soft violet color, but ...      1.0   \n",
       "1  Saw this same case at a theme park store for 2...      5.0   \n",
       "2  case fits perfectly and I always gets complime...      5.0   \n",
       "3  Best phone case ever . Everywhere I go I get a...      5.0   \n",
       "4  It may look cute. This case started off pretty...      1.0   \n",
       "\n",
       "           summary  unixReviewTime   reviewTime  \n",
       "0      Wrong color      1344902400  08 14, 2012  \n",
       "1    Great product      1353542400  11 22, 2012  \n",
       "2          Perfect      1374105600  07 18, 2013  \n",
       "3            A++++      1358035200  01 13, 2013  \n",
       "4  Do NOT GET IT!!      1353888000  11 26, 2012  "
      ]
     },
     "execution_count": 5,
     "metadata": {},
     "output_type": "execute_result"
    }
   ],
   "source": [
    "reviews_df.head()"
   ]
  },
  {
   "cell_type": "code",
   "execution_count": 6,
   "metadata": {},
   "outputs": [
    {
     "data": {
      "text/html": [
       "<div>\n",
       "<style>\n",
       "    .dataframe thead tr:only-child th {\n",
       "        text-align: right;\n",
       "    }\n",
       "\n",
       "    .dataframe thead th {\n",
       "        text-align: left;\n",
       "    }\n",
       "\n",
       "    .dataframe tbody tr th {\n",
       "        vertical-align: top;\n",
       "    }\n",
       "</style>\n",
       "<table border=\"1\" class=\"dataframe\">\n",
       "  <thead>\n",
       "    <tr style=\"text-align: right;\">\n",
       "      <th></th>\n",
       "      <th>Unnamed: 0</th>\n",
       "      <th>asin</th>\n",
       "      <th>related</th>\n",
       "      <th>title</th>\n",
       "      <th>price</th>\n",
       "      <th>salesRank</th>\n",
       "      <th>imUrl</th>\n",
       "      <th>brand</th>\n",
       "      <th>categories</th>\n",
       "      <th>description</th>\n",
       "    </tr>\n",
       "  </thead>\n",
       "  <tbody>\n",
       "    <tr>\n",
       "      <th>0</th>\n",
       "      <td>0</td>\n",
       "      <td>0110400550</td>\n",
       "      <td>{'also_bought': ['B00C56IXFG', 'B008ZUQWOK', '...</td>\n",
       "      <td>Pink &amp;amp; White 3d Melt Ice-cream Skin Hard C...</td>\n",
       "      <td>3.33</td>\n",
       "      <td>{'Cell Phones &amp; Accessories': 83460}</td>\n",
       "      <td>http://ecx.images-amazon.com/images/I/31zn6SOL...</td>\n",
       "      <td>NaN</td>\n",
       "      <td>[['Cell Phones &amp; Accessories', 'Cases', 'Basic...</td>\n",
       "      <td>Pink &amp; White 3D Melt Ice-Cream Skin Hard Case ...</td>\n",
       "    </tr>\n",
       "    <tr>\n",
       "      <th>1</th>\n",
       "      <td>1</td>\n",
       "      <td>011040047X</td>\n",
       "      <td>{'buy_after_viewing': ['B008RU7UL2', 'B00698LY...</td>\n",
       "      <td>Purple Hard Case Cover for Iphone 4 4s 4g with...</td>\n",
       "      <td>1.94</td>\n",
       "      <td>{'Cell Phones &amp; Accessories': 495795}</td>\n",
       "      <td>http://ecx.images-amazon.com/images/I/41WCZc2d...</td>\n",
       "      <td>NaN</td>\n",
       "      <td>[['Cell Phones &amp; Accessories', 'Cases', 'Basic...</td>\n",
       "      <td>Purple Hard Case Cover for iPhone 4 4S 4G With...</td>\n",
       "    </tr>\n",
       "    <tr>\n",
       "      <th>2</th>\n",
       "      <td>2</td>\n",
       "      <td>0195866479</td>\n",
       "      <td>{'buy_after_viewing': ['B00530RXP2', 'B004SH9B...</td>\n",
       "      <td>Hello Kitty Light-weighted Chrome Case Black C...</td>\n",
       "      <td>2.94</td>\n",
       "      <td>{'Cell Phones &amp; Accessories': 371302}</td>\n",
       "      <td>http://ecx.images-amazon.com/images/I/41fy1%2B...</td>\n",
       "      <td>NaN</td>\n",
       "      <td>[['Cell Phones &amp; Accessories', 'Cases', 'Basic...</td>\n",
       "      <td>Thin and light weighted,\\r\\nCase's unique desi...</td>\n",
       "    </tr>\n",
       "    <tr>\n",
       "      <th>3</th>\n",
       "      <td>3</td>\n",
       "      <td>0214514706</td>\n",
       "      <td>{'buy_after_viewing': ['B0042FV2SI', 'B00869D2...</td>\n",
       "      <td>Cool Summer Breeze in the Ocean Beach Collecti...</td>\n",
       "      <td>0.94</td>\n",
       "      <td>{'Cell Phones &amp; Accessories': 778100}</td>\n",
       "      <td>http://ecx.images-amazon.com/images/I/415cmp6Q...</td>\n",
       "      <td>NaN</td>\n",
       "      <td>[['Cell Phones &amp; Accessories', 'Cases', 'Basic...</td>\n",
       "      <td>Product Name:  Cool Summer Breeze In The Ocean...</td>\n",
       "    </tr>\n",
       "    <tr>\n",
       "      <th>4</th>\n",
       "      <td>4</td>\n",
       "      <td>0214714705</td>\n",
       "      <td>{'buy_after_viewing': ['B008EU7HRM', 'B00869D2...</td>\n",
       "      <td>Cool Summer Breeze In The Ocean Beach Collecti...</td>\n",
       "      <td>5.79</td>\n",
       "      <td>{'Cell Phones &amp; Accessories': 654894}</td>\n",
       "      <td>http://ecx.images-amazon.com/images/I/41XDwPt2...</td>\n",
       "      <td>NaN</td>\n",
       "      <td>[['Cell Phones &amp; Accessories', 'Cases', 'Basic...</td>\n",
       "      <td>Product Name:  Cool Summer Breeze In The Ocean...</td>\n",
       "    </tr>\n",
       "  </tbody>\n",
       "</table>\n",
       "</div>"
      ],
      "text/plain": [
       "   Unnamed: 0        asin                                            related  \\\n",
       "0           0  0110400550  {'also_bought': ['B00C56IXFG', 'B008ZUQWOK', '...   \n",
       "1           1  011040047X  {'buy_after_viewing': ['B008RU7UL2', 'B00698LY...   \n",
       "2           2  0195866479  {'buy_after_viewing': ['B00530RXP2', 'B004SH9B...   \n",
       "3           3  0214514706  {'buy_after_viewing': ['B0042FV2SI', 'B00869D2...   \n",
       "4           4  0214714705  {'buy_after_viewing': ['B008EU7HRM', 'B00869D2...   \n",
       "\n",
       "                                               title  price  \\\n",
       "0  Pink &amp; White 3d Melt Ice-cream Skin Hard C...   3.33   \n",
       "1  Purple Hard Case Cover for Iphone 4 4s 4g with...   1.94   \n",
       "2  Hello Kitty Light-weighted Chrome Case Black C...   2.94   \n",
       "3  Cool Summer Breeze in the Ocean Beach Collecti...   0.94   \n",
       "4  Cool Summer Breeze In The Ocean Beach Collecti...   5.79   \n",
       "\n",
       "                               salesRank  \\\n",
       "0   {'Cell Phones & Accessories': 83460}   \n",
       "1  {'Cell Phones & Accessories': 495795}   \n",
       "2  {'Cell Phones & Accessories': 371302}   \n",
       "3  {'Cell Phones & Accessories': 778100}   \n",
       "4  {'Cell Phones & Accessories': 654894}   \n",
       "\n",
       "                                               imUrl brand  \\\n",
       "0  http://ecx.images-amazon.com/images/I/31zn6SOL...   NaN   \n",
       "1  http://ecx.images-amazon.com/images/I/41WCZc2d...   NaN   \n",
       "2  http://ecx.images-amazon.com/images/I/41fy1%2B...   NaN   \n",
       "3  http://ecx.images-amazon.com/images/I/415cmp6Q...   NaN   \n",
       "4  http://ecx.images-amazon.com/images/I/41XDwPt2...   NaN   \n",
       "\n",
       "                                          categories  \\\n",
       "0  [['Cell Phones & Accessories', 'Cases', 'Basic...   \n",
       "1  [['Cell Phones & Accessories', 'Cases', 'Basic...   \n",
       "2  [['Cell Phones & Accessories', 'Cases', 'Basic...   \n",
       "3  [['Cell Phones & Accessories', 'Cases', 'Basic...   \n",
       "4  [['Cell Phones & Accessories', 'Cases', 'Basic...   \n",
       "\n",
       "                                         description  \n",
       "0  Pink & White 3D Melt Ice-Cream Skin Hard Case ...  \n",
       "1  Purple Hard Case Cover for iPhone 4 4S 4G With...  \n",
       "2  Thin and light weighted,\\r\\nCase's unique desi...  \n",
       "3  Product Name:  Cool Summer Breeze In The Ocean...  \n",
       "4  Product Name:  Cool Summer Breeze In The Ocean...  "
      ]
     },
     "execution_count": 6,
     "metadata": {},
     "output_type": "execute_result"
    }
   ],
   "source": [
    "metadata_df.head()"
   ]
  },
  {
   "cell_type": "code",
   "execution_count": 7,
   "metadata": {},
   "outputs": [
    {
     "data": {
      "text/html": [
       "<div>\n",
       "<style>\n",
       "    .dataframe thead tr:only-child th {\n",
       "        text-align: right;\n",
       "    }\n",
       "\n",
       "    .dataframe thead th {\n",
       "        text-align: left;\n",
       "    }\n",
       "\n",
       "    .dataframe tbody tr th {\n",
       "        vertical-align: top;\n",
       "    }\n",
       "</style>\n",
       "<table border=\"1\" class=\"dataframe\">\n",
       "  <thead>\n",
       "    <tr style=\"text-align: right;\">\n",
       "      <th></th>\n",
       "      <th>reviewerID</th>\n",
       "      <th>asin</th>\n",
       "      <th>overall</th>\n",
       "      <th>unixReviewTime</th>\n",
       "    </tr>\n",
       "  </thead>\n",
       "  <tbody>\n",
       "    <tr>\n",
       "      <th>0</th>\n",
       "      <td>A1EWN6KZ4HMLT7</td>\n",
       "      <td>011040047X</td>\n",
       "      <td>1.0</td>\n",
       "      <td>1344902400</td>\n",
       "    </tr>\n",
       "    <tr>\n",
       "      <th>1</th>\n",
       "      <td>A1YX2RBMS1L9L</td>\n",
       "      <td>0110400550</td>\n",
       "      <td>5.0</td>\n",
       "      <td>1353542400</td>\n",
       "    </tr>\n",
       "    <tr>\n",
       "      <th>2</th>\n",
       "      <td>A180NNPPKWCCU0</td>\n",
       "      <td>0110400550</td>\n",
       "      <td>5.0</td>\n",
       "      <td>1374105600</td>\n",
       "    </tr>\n",
       "    <tr>\n",
       "      <th>3</th>\n",
       "      <td>A3HVRXV0LVJN7</td>\n",
       "      <td>0110400550</td>\n",
       "      <td>5.0</td>\n",
       "      <td>1358035200</td>\n",
       "    </tr>\n",
       "    <tr>\n",
       "      <th>4</th>\n",
       "      <td>A292527VPX98P8</td>\n",
       "      <td>0110400550</td>\n",
       "      <td>1.0</td>\n",
       "      <td>1353888000</td>\n",
       "    </tr>\n",
       "  </tbody>\n",
       "</table>\n",
       "</div>"
      ],
      "text/plain": [
       "       reviewerID        asin  overall  unixReviewTime\n",
       "0  A1EWN6KZ4HMLT7  011040047X      1.0      1344902400\n",
       "1   A1YX2RBMS1L9L  0110400550      5.0      1353542400\n",
       "2  A180NNPPKWCCU0  0110400550      5.0      1374105600\n",
       "3   A3HVRXV0LVJN7  0110400550      5.0      1358035200\n",
       "4  A292527VPX98P8  0110400550      1.0      1353888000"
      ]
     },
     "execution_count": 7,
     "metadata": {},
     "output_type": "execute_result"
    }
   ],
   "source": [
    "ratings_df.head()"
   ]
  },
  {
   "cell_type": "markdown",
   "metadata": {},
   "source": [
    "\n",
    "# Descriptive statistics\n",
    " "
   ]
  },
  {
   "cell_type": "markdown",
   "metadata": {},
   "source": [
    "## Reviews analysis"
   ]
  },
  {
   "cell_type": "markdown",
   "metadata": {},
   "source": [
    "First, we take a look at the entire reviews dataset for cellphones and accessories."
   ]
  },
  {
   "cell_type": "code",
   "execution_count": 8,
   "metadata": {},
   "outputs": [
    {
     "name": "stdout",
     "output_type": "stream",
     "text": [
      "Shape:  (3447249, 10)\n",
      "Ratings values:  [ 1.  5.  2.  3.  4.]\n",
      "Min review unix time:  942796800\n",
      "Max review unix time:  1406073600\n",
      "Percentage of unique reviewers:  65.5898369975595\n",
      "Percentage of unique products:  9.273423532793831\n"
     ]
    }
   ],
   "source": [
    "unique_reviewers = reviews_df['reviewerID'].unique()\n",
    "unique_reviewers_percent = len(unique_reviewers) / reviews_df.shape[0] *100\n",
    "unique_products = reviews_df['asin'].unique()\n",
    "unique_products_percent = len(unique_products) / reviews_df.shape[0] *100\n",
    "print (\"Shape: \", reviews_df.shape)\n",
    "print (\"Ratings values: \", reviews_df.overall.unique())\n",
    "print (\"Min review unix time: \", reviews_df.unixReviewTime.min())\n",
    "print (\"Max review unix time: \", reviews_df.unixReviewTime.max())\n",
    "print (\"Percentage of unique reviewers: \", unique_reviewers_percent)\n",
    "print (\"Percentage of unique products: \", unique_products_percent)"
   ]
  },
  {
   "cell_type": "markdown",
   "metadata": {},
   "source": [
    "### Overall ratings"
   ]
  },
  {
   "cell_type": "code",
   "execution_count": 9,
   "metadata": {},
   "outputs": [
    {
     "data": {
      "image/png": "[encoded data removed]",
      "text/plain": [
       "<matplotlib.figure.Figure at 0x1c436441390>"
      ]
     },
     "metadata": {},
     "output_type": "display_data"
    }
   ],
   "source": [
    "fig, ax = plt.subplots(1, 2, figsize=(16,3))\n",
    "ax1 = sns.boxplot(reviews_df.overall, ax=ax[0])\n",
    "ax2 = sns.distplot(reviews_df.overall, ax=ax[1], kde=False)\n",
    "ax1.set_title('Distribution of ratings')\n",
    "ax2.set_title('Distribution of ratings')\n",
    "plt.show()"
   ]
  },
  {
   "cell_type": "markdown",
   "metadata": {},
   "source": [
    "### Reviews through time\n",
    "We plot the distribution of reviews through years, and for 2013."
   ]
  },
  {
   "cell_type": "code",
   "execution_count": 10,
   "metadata": {
    "collapsed": true
   },
   "outputs": [],
   "source": [
    "#Re-compute datetime with unixReviewTime\n",
    "reviews_df['datetime'] = pd.to_datetime(reviews_df.unixReviewTime, unit='s')"
   ]
  },
  {
   "cell_type": "code",
   "execution_count": 11,
   "metadata": {
    "scrolled": true
   },
   "outputs": [
    {
     "data": {
      "image/png": "[encoded data removed]",
      "text/plain": [
       "<matplotlib.figure.Figure at 0x1c3d8a340b8>"
      ]
     },
     "metadata": {},
     "output_type": "display_data"
    }
   ],
   "source": [
    "#By year in general\n",
    "year = reviews_df.groupby([reviews_df.datetime.dt.year])['asin'].count()\n",
    "fig, ax = plt.subplots(figsize=(16,5))\n",
    "year_df = pd.DataFrame(year)\n",
    "ax = sns.barplot(year_df.index, year_df.asin)\n",
    "for p in ax.patches:\n",
    "    height = p.get_height()\n",
    "    ax.text(p.get_x()+p.get_width()/2.,\n",
    "            height + 10000,\n",
    "            '{:1.0f}'.format(height),\n",
    "            ha=\"center\") "
   ]
  },
  {
   "cell_type": "code",
   "execution_count": 12,
   "metadata": {},
   "outputs": [
    {
     "data": {
      "image/png": "[encoded data removed]",
      "text/plain": [
       "<matplotlib.figure.Figure at 0x1c3d3c24438>"
      ]
     },
     "metadata": {},
     "output_type": "display_data"
    }
   ],
   "source": [
    "#In 2013 for example\n",
    "year = reviews_df.groupby([reviews_df.datetime.dt.year, reviews_df.datetime.dt.month])['asin'].count()\n",
    "year_2013 = year[(2013, )]\n",
    "fig, ax = plt.subplots(figsize=(16,5))\n",
    "year_2013_df = pd.DataFrame(year_2013)\n",
    "ax = sns.barplot(year_2013_df.index, year_2013_df.asin)\n",
    "for p in ax.patches:\n",
    "    height = p.get_height()\n",
    "    ax.text(p.get_x()+p.get_width()/2.,\n",
    "            height + 1000,\n",
    "            '{:1.0f}'.format(height),\n",
    "            ha=\"center\") "
   ]
  },
  {
   "cell_type": "markdown",
   "metadata": {},
   "source": [
    "## Metadata dataset"
   ]
  },
  {
   "cell_type": "markdown",
   "metadata": {},
   "source": [
    "We also use the metadata dataset, to get more details on the products."
   ]
  },
  {
   "cell_type": "markdown",
   "metadata": {},
   "source": [
    "### Row data analysis\n",
    "Here, we analyse the dataset that contains phones and accessories."
   ]
  },
  {
   "cell_type": "code",
   "execution_count": null,
   "metadata": {},
   "outputs": [
    {
     "name": "stdout",
     "output_type": "stream",
     "text": [
      "Number of products:  346793\n",
      "Percentage of null prices:  18.4098294948\n",
      "Percentage of null brands:  77.3873751777\n"
     ]
    }
   ],
   "source": [
    "null_price = metadata_df.price.isnull().sum()\n",
    "null_price_percent = null_price / metadata_df.shape[0] *100\n",
    "null_brand = metadata_df.brand.isnull().sum()\n",
    "null_brand_percent = null_brand / metadata_df.shape[0] *100\n",
    "print (\"Number of products: \", metadata_df.shape[0])\n",
    "print (\"Percentage of null prices: \", null_price_percent)\n",
    "print (\"Percentage of null brands: \", null_brand_percent)"
   ]
  },
  {
   "cell_type": "code",
   "execution_count": null,
   "metadata": {},
   "outputs": [
    {
     "data": {
      "text/plain": [
       "array([[<matplotlib.axes._subplots.AxesSubplot object at 0x000001C4364416A0>]], dtype=object)"
      ]
     },
     "execution_count": 14,
     "metadata": {},
     "output_type": "execute_result"
    }
   ],
   "source": [
    "metadata_df.hist(column='price', bins=90)"
   ]
  },
  {
   "cell_type": "markdown",
   "metadata": {
    "collapsed": true
   },
   "source": [
    "As we can see, we have missing values concerning the prices."
   ]
  },
  {
   "cell_type": "markdown",
   "metadata": {},
   "source": [
    "## Phones analysis\n",
    "\n",
    "We decide to create a new meta dataframe that only contains information about phones."
   ]
  },
  {
   "cell_type": "code",
   "execution_count": null,
   "metadata": {},
   "outputs": [],
   "source": [
    "phones_df = metadata_df[metadata_df.categories.str.\n",
    "            startswith(\"[['Cell Phones & Accessories', 'Cell Phones', 'Unlocked \")]\n",
    "phones_df = phones_df[(pd.notnull(phones_df['brand'])) & (phones_df['brand'] != '')]\n",
    "print(\"Phones count:\", len(phones_df))\n",
    "phones_df.head()"
   ]
  },
  {
   "cell_type": "markdown",
   "metadata": {
    "collapsed": true
   },
   "source": [
    "### Brand names"
   ]
  },
  {
   "cell_type": "markdown",
   "metadata": {},
   "source": [
    "We decide to use a public dataset from GSMArena, which contains more than 8000 phones specifications scraped GSMArena Website.<br>\n",
    "This dataset is available here: https://www.kaggle.com/arwinneil/gsmarena-phone-dataset/version/1 <br>\n",
    "The last update is Jun 2017."
   ]
  },
  {
   "cell_type": "code",
   "execution_count": null,
   "metadata": {
    "scrolled": false
   },
   "outputs": [],
   "source": [
    "gsmarena_df = pd.read_csv('./data/phone_dataset.csv', error_bad_lines=False)\n",
    "gsmarena_df.head()"
   ]
  },
  {
   "cell_type": "markdown",
   "metadata": {},
   "source": [
    "This dataset enables to filter the phones in our Amazon Phones dataframe using the phone brand."
   ]
  },
  {
   "cell_type": "code",
   "execution_count": null,
   "metadata": {
    "collapsed": true
   },
   "outputs": [],
   "source": [
    "list_brands_accepted = gsmarena_df.brand.str.lower().unique()"
   ]
  },
  {
   "cell_type": "code",
   "execution_count": null,
   "metadata": {},
   "outputs": [],
   "source": [
    "#Keep only phones contained in list of accepted brands\n",
    "print(phones_df['brand'].str.lower().unique())\n",
    "brands_number_before = len(phones_df['brand'].str.lower().unique())\n",
    "phones_df_filtered = phones_df[phones_df['brand'].str.lower().isin(list_brands_accepted)]\n",
    "brands_number_after = len(phones_df_filtered['brand'].str.lower().unique())\n",
    "print('')\n",
    "print('Before processing (# of brands, # of phones):', brands_number_before, len(phones_df))\n",
    "print('After processing (# of brands, # of phones):', brands_number_after, len(phones_df_filtered))\n"
   ]
  },
  {
   "cell_type": "markdown",
   "metadata": {},
   "source": [
    "### Phone prices"
   ]
  },
  {
   "cell_type": "code",
   "execution_count": null,
   "metadata": {},
   "outputs": [],
   "source": [
    "print('Number of phones with NaN price:', phones_df_filtered.price.isnull().sum())"
   ]
  },
  {
   "cell_type": "markdown",
   "metadata": {},
   "source": [
    "We can see that the prices for almost all phones are known, and most of them are in range 50-300 euros. "
   ]
  },
  {
   "cell_type": "code",
   "execution_count": null,
   "metadata": {},
   "outputs": [],
   "source": [
    "fig, ax = plt.subplots(figsize=(15,8))\n",
    "avg_prices = phones_df_filtered.groupby('brand')['price'].mean().sort_values(ascending=False)\n",
    "d = [i for i in range(0, len(avg_prices))]\n",
    "ax = sns.stripplot(d, avg_prices,size=8, palette=\"Reds_r\")\n",
    "ax.set_xticklabels(avg_prices.index, rotation='vertical')\n",
    "ax.set_title('Median prices of brands')\n",
    "plt.show()"
   ]
  },
  {
   "cell_type": "code",
   "execution_count": null,
   "metadata": {},
   "outputs": [],
   "source": [
    "fig, ax = plt.subplots(1, 2, figsize=(16,3))\n",
    "ax1 = sns.boxplot(avg_prices, ax=ax[0])\n",
    "ax2 = phones_df_filtered.hist(column='price', bins=70, ax=ax[1])\n",
    "ax1.set_title('Distribution of median brand price')\n",
    "ax1.set_title('Distribution of median brand price')\n",
    "plt.show()"
   ]
  },
  {
   "cell_type": "markdown",
   "metadata": {},
   "source": [
    "### Number of phones per brand"
   ]
  },
  {
   "cell_type": "code",
   "execution_count": null,
   "metadata": {},
   "outputs": [],
   "source": [
    "phone_counts = phones_df_filtered.groupby('brand')['asin'].count().sort_values(ascending=False)\n",
    "\n",
    "fig, ax = plt.subplots(figsize=(15,8))\n",
    "d = [i for i in range(0, len(phone_counts))]\n",
    "ax = sns.stripplot(d, phone_counts, size=8, palette=\"Reds_r\")\n",
    "ax.set_xticklabels(phone_counts.index, rotation='vertical')\n",
    "ax.set_title('Phone counts per brand')\n",
    "plt.show()"
   ]
  },
  {
   "cell_type": "markdown",
   "metadata": {},
   "source": [
    "More than 200 phones are Samsung phones, Apple is the 5th."
   ]
  },
  {
   "cell_type": "markdown",
   "metadata": {},
   "source": [
    "## Merged dataframes for reviews and phones metadata\n",
    "\n",
    "\n",
    "We will now merge these two dataframes and check statistics for new dataframe. "
   ]
  },
  {
   "cell_type": "code",
   "execution_count": null,
   "metadata": {},
   "outputs": [],
   "source": [
    "final_df = pd.merge(phones_df_filtered, reviews_df, on='asin', how='inner')\n",
    "print('Number of reviews in total:', len(final_df))"
   ]
  },
  {
   "cell_type": "code",
   "execution_count": null,
   "metadata": {},
   "outputs": [],
   "source": [
    "final_df.head()"
   ]
  },
  {
   "cell_type": "code",
   "execution_count": null,
   "metadata": {
    "scrolled": true
   },
   "outputs": [],
   "source": [
    "# Distribution of phone prices\n",
    "final_df.hist(column='price', bins=70)"
   ]
  },
  {
   "cell_type": "markdown",
   "metadata": {},
   "source": [
    "## Phone reviews through time"
   ]
  },
  {
   "cell_type": "code",
   "execution_count": null,
   "metadata": {},
   "outputs": [],
   "source": [
    "#By year in general\n",
    "year = final_df.groupby([final_df.datetime.dt.year])['asin'].count()\n",
    "fig, ax = plt.subplots(figsize=(16,5))\n",
    "year_df = pd.DataFrame(year)\n",
    "ax = sns.barplot(year_df.index, year_df.asin)\n",
    "for p in ax.patches:\n",
    "    height = p.get_height()\n",
    "    ax.text(p.get_x()+p.get_width()/2.,\n",
    "            height + 100,\n",
    "            '{:1.0f}'.format(height),\n",
    "            ha=\"center\") "
   ]
  },
  {
   "cell_type": "markdown",
   "metadata": {},
   "source": [
    "We observe that the most important part of the reviews are from 2013-2014."
   ]
  },
  {
   "cell_type": "markdown",
   "metadata": {},
   "source": [
    "## Mean ratings of brands"
   ]
  },
  {
   "cell_type": "code",
   "execution_count": null,
   "metadata": {},
   "outputs": [],
   "source": [
    "### Top10 prominent brands\n",
    "brand_ratings = final_df.groupby('brand').agg({'overall':['mean','std']})\n",
    "\n",
    "brand_ratings_df = pd.DataFrame(brand_ratings.overall)\n",
    "brand_ratings_df.sort_values('mean', ascending=False)"
   ]
  },
  {
   "cell_type": "code",
   "execution_count": null,
   "metadata": {},
   "outputs": [],
   "source": [
    "# TOP 10 Products by brands\n",
    "brands = np.array(phone_counts.head(10).index)\n",
    "brands"
   ]
  },
  {
   "cell_type": "code",
   "execution_count": null,
   "metadata": {
    "collapsed": true
   },
   "outputs": [],
   "source": [
    "top_products = final_df.groupby(['brand','title']).agg({'overall':['mean','std'], 'asin':'count'})\n",
    "top_products.columns = top_products.columns.droplevel()\n",
    "top_products_df = pd.DataFrame(top_products)"
   ]
  },
  {
   "cell_type": "markdown",
   "metadata": {},
   "source": [
    "## TOP 10 reviewed phones by brand"
   ]
  },
  {
   "cell_type": "code",
   "execution_count": null,
   "metadata": {},
   "outputs": [],
   "source": [
    "#TOP 10 reviewed phones\n",
    "top_reviewed_brands_list = []\n",
    "for brand in brands:\n",
    "    top10_reviewed = top_products_df.iloc[top_products_df.index.get_level_values('brand') == brand]\n",
    "    top_reviewed_brands_list.append(top10_reviewed.sort_values(['count'], ascending=False).head(10))\n",
    "    \n",
    "top_reviewed_brands = pd.concat(top_reviewed_brands_list)\n",
    "top_reviewed_brands"
   ]
  },
  {
   "cell_type": "markdown",
   "metadata": {},
   "source": [
    "## TOP 10 best rated phones by brand\n",
    "Be careful, some phones are high-rated, but they have only one review."
   ]
  },
  {
   "cell_type": "code",
   "execution_count": null,
   "metadata": {},
   "outputs": [],
   "source": [
    "#TOP 10 best phones\n",
    "top_best_brands_list = []\n",
    "for brand in brands:\n",
    "    top10_best = top_products_df.iloc[top_products_df.index.get_level_values('brand') == brand]\n",
    "    top_best_brands_list.append(top10_best.sort_values(['mean'], ascending=False).head(10))\n",
    "    \n",
    "top_best_brands = pd.concat(top_best_brands_list)\n",
    "top_best_brands"
   ]
  },
  {
   "cell_type": "markdown",
   "metadata": {},
   "source": [
    "## Correlations\n",
    "A high price does not mean necessarily a good grade."
   ]
  },
  {
   "cell_type": "code",
   "execution_count": null,
   "metadata": {},
   "outputs": [],
   "source": [
    "#Correlation between price and overall\n",
    "final_df['price'].corr(final_df['overall'])"
   ]
  },
  {
   "cell_type": "markdown",
   "metadata": {},
   "source": [
    "## Important words in general in reviews\n",
    "\n",
    "Here, we want to show the feature importance of words, correlated with the total overall for each brands.<br>\n",
    "We use CountVectorizer in order to convert the collection of reviews to a matrix of token counts.<br>\n",
    "Then, this matrix containing all the features is pushed in SelectKBest() function which reduce the dimension (we choose 10) according to the k highest scores.<br>\n",
    "\n",
    "Then, we plot the correlation between words. A high correlation means that the two words are highly correlated with the rate of the products (good or bad)."
   ]
  },
  {
   "cell_type": "code",
   "execution_count": null,
   "metadata": {
    "collapsed": true
   },
   "outputs": [],
   "source": [
    "from sklearn.feature_extraction.text import CountVectorizer\n",
    "from sklearn.feature_selection import SelectKBest"
   ]
  },
  {
   "cell_type": "code",
   "execution_count": null,
   "metadata": {
    "scrolled": false
   },
   "outputs": [],
   "source": [
    "for brand in brands:\n",
    "    top10 = final_df[final_df.brand == brand]\n",
    "    # Use CountVectorizer to get most important words in reviews for each brands\n",
    "    vectorizer = CountVectorizer(max_features=25, stop_words='english')\n",
    "    X = vectorizer.fit_transform(top10.reviewText.values.astype('U'))\n",
    "    word_list = vectorizer.get_feature_names()\n",
    "    \n",
    "    model = SelectKBest(k=10).fit(X, top10.overall) # X:model and Y:score\n",
    "    informative_words_index = model.get_support(indices=True)\n",
    "    labels = [word_list[i] for i in informative_words_index]\n",
    "    data = pd.DataFrame(X[:, informative_words_index].todense(), columns=labels)\n",
    "    \n",
    "    correlation_matrix = data.corr()\n",
    "    fig, ax = plt.subplots(figsize=(10, 8))\n",
    "    mask = np.zeros_like(correlation_matrix, dtype=np.bool)\n",
    "    mask[np.triu_indices_from(mask)] = True\n",
    "    ax = sns.heatmap(correlation_matrix, mask=mask, cmap=sns.cubehelix_palette(8), ax=ax)\n",
    "    ax.set_title(brand)\n",
    "    fig.show()"
   ]
  },
  {
   "cell_type": "markdown",
   "metadata": {},
   "source": [
    "# Additional analysis"
   ]
  },
  {
   "cell_type": "code",
   "execution_count": null,
   "metadata": {},
   "outputs": [],
   "source": [
    "import nltk\n",
    "import string\n",
    "from nltk.corpus import stopwords\n",
    "from nltk.classify import SklearnClassifier\n",
    "from nltk.stem import PorterStemmer, WordNetLemmatizer\n",
    "nltk.download('stopwords')\n",
    "nltk.download('wordnet')\n",
    "nltk.download('sentiwordnet')\n",
    "nltk.download('vader_lexicon')"
   ]
  },
  {
   "cell_type": "markdown",
   "metadata": {},
   "source": [
    "Here, we distinguish positive and negative reviews:\n",
    "- if rate <= 2 : it is a negative review\n",
    "- if rate == 3: it is a neutral review (not taken in account here)\n",
    "- if rate >= 4 : it is a positive review"
   ]
  },
  {
   "cell_type": "code",
   "execution_count": null,
   "metadata": {},
   "outputs": [],
   "source": [
    "print('Number of reviews:', final_df.reviewText.count())\n",
    "\n",
    "review_number = final_df.groupby('brand')['reviewText'].count().sort_values(ascending=False)\n",
    "negative_ratings = final_df.query('overall <= 2')\n",
    "positive_ratings = final_df.query('overall >= 4')\n",
    "\n",
    "negative = negative_ratings.groupby('brand')['reviewText'].count().sort_values(ascending=False)\n",
    "positive = positive_ratings.groupby('brand')['reviewText'].count().sort_values(ascending=False)"
   ]
  },
  {
   "cell_type": "code",
   "execution_count": null,
   "metadata": {},
   "outputs": [],
   "source": [
    "fig, ax = plt.subplots(figsize=(15,8))\n",
    "\n",
    "d = [i for i in range(0, len(review_number))]\n",
    "ax = sns.stripplot(d, review_number, size=8, palette=\"Reds_r\")\n",
    "ax = sns.stripplot(d, negative, size=8, palette=\"Greens_r\")\n",
    "\n",
    "ax.set_xticklabels(review_number.index, rotation='vertical')\n",
    "ax.set_title('Number of reviews per brand')\n",
    "plt.show()"
   ]
  },
  {
   "cell_type": "markdown",
   "metadata": {},
   "source": [
    "We use the previous pipeline to get most important words in **negative** reviews for one example of phone (Samsung Galaxy S3 model)"
   ]
  },
  {
   "cell_type": "code",
   "execution_count": null,
   "metadata": {},
   "outputs": [],
   "source": [
    "#print (\"Brand: \", brand)\n",
    "#top10 = positive_ratings[positive_ratings.brand == 'Samsung']\n",
    "top10 = negative_ratings.query('title == \\'Samsung Galaxy S3 GT-i8190 Mini Blue 8GB factory Unlocked 3G 900/1900/2100\\'')\n",
    "print (\"size: \", top10.shape)\n",
    "    \n",
    "vectorizer = CountVectorizer(max_features=25, stop_words='english')\n",
    "X = vectorizer.fit_transform(top10.reviewText.values.astype('U'))\n",
    "word_list = vectorizer.get_feature_names()\n",
    "model = SelectKBest(k=20).fit(X, top10.overall) # X:model and Y:score\n",
    "informative_words_index = model.get_support(indices=True)\n",
    "labels = [word_list[i] for i in informative_words_index]\n",
    "data = pd.DataFrame(X[:, informative_words_index].todense(), columns=labels)\n",
    "    \n",
    "correlation_matrix = data.corr()\n",
    "fig, ax = plt.subplots(figsize=(10, 8))\n",
    "mask = np.zeros_like(correlation_matrix, dtype=np.bool)\n",
    "mask[np.triu_indices_from(mask)] = True\n",
    "ax = sns.heatmap(correlation_matrix, mask=mask,  ax=ax)\n",
    "ax.set_title(\"Samsung Galaxy S3\")\n",
    "fig.show()"
   ]
  },
  {
   "cell_type": "markdown",
   "metadata": {},
   "source": [
    "# First approach"
   ]
  },
  {
   "cell_type": "markdown",
   "metadata": {},
   "source": [
    "For our first approach, we want to apply supervised learning in order to predict of some new reviews is positive or negative.\n",
    "\n",
    "The plan is the following:\n",
    "1. Tokenize reviews (stopwords are removed)\n",
    "2. Lemmatization\n",
    "3. Split reviews in two groups: training set (90% of data) and validation set (10% of data)\n",
    "4. Train a Naive Bayes Classifier and compute the accuracy"
   ]
  },
  {
   "cell_type": "code",
   "execution_count": null,
   "metadata": {},
   "outputs": [],
   "source": [
    "lemmatizer = WordNetLemmatizer()\n",
    "\n",
    "def get_words(review):\n",
    "    stop = stopwords.words('english') + list(string.punctuation) + [\"...\"] + [\"'s\"]\n",
    "    tokens = nltk.tokenize.word_tokenize(str(review))\n",
    "    tokens_filtered = [token.lower() for token in tokens]\n",
    "    tokens_filtered = [token for token in tokens_filtered if token not in stop]\n",
    "    tokens_filtered = [lemmatizer.lemmatize(token) for token in tokens_filtered]\n",
    "    return tokens_filtered\n",
    "\n",
    "def form_review(review):\n",
    "    p = get_words(review)\n",
    "    s = {word: True for word in get_words(review)}\n",
    "    return s\n",
    "\n",
    "positive_model_reviews = positive_ratings\n",
    "negative_model_reviews  = negative_ratings\n",
    "\n",
    "print (positive_model_reviews.shape)\n",
    "print (negative_model_reviews.shape)\n",
    "\n",
    "positive_reviews_list = list(positive_model_reviews.reviewText)\n",
    "negative_reviews_list = list(negative_model_reviews.reviewText)\n",
    "\n",
    "positive_data = []\n",
    "negative_data = []\n",
    "\n",
    "\n",
    "for review in positive_reviews_list[0:10000]:\n",
    "    positive_data.append([form_review(review), 'pos'])\n",
    "    \n",
    "for review in negative_reviews_list[0:10000]:\n",
    "    negative_data.append([form_review(review), 'neg'])\n",
    "\n",
    "train_data = positive_data[0:9000] + negative_data[0:9000]\n",
    "test_data = positive_data[9000:] + negative_data[9000:]\n",
    "\n",
    "print('Size train data:', len(train_data))\n",
    "print('Size test data:', len(test_data))"
   ]
  },
  {
   "cell_type": "code",
   "execution_count": null,
   "metadata": {
    "collapsed": true
   },
   "outputs": [],
   "source": [
    "from nltk import NaiveBayesClassifier\n",
    "\n",
    "model = NaiveBayesClassifier.train(train_data)"
   ]
  },
  {
   "cell_type": "code",
   "execution_count": null,
   "metadata": {},
   "outputs": [],
   "source": [
    "print(\"Classifier accuracy percent:\",(nltk.classify.accuracy(model, test_data))*100)"
   ]
  },
  {
   "cell_type": "code",
   "execution_count": null,
   "metadata": {},
   "outputs": [],
   "source": [
    "model.show_most_informative_features(5)"
   ]
  },
  {
   "cell_type": "markdown",
   "metadata": {},
   "source": [
    "### Sentiment analysis on all reviews"
   ]
  },
  {
   "cell_type": "code",
   "execution_count": null,
   "metadata": {},
   "outputs": [],
   "source": [
    "from nltk.sentiment.vader import SentimentIntensityAnalyzer\n",
    "\n",
    "sid = SentimentIntensityAnalyzer()\n",
    "\n",
    "# Show the first 10 reviews\n",
    "for sentence in positive_reviews_list[:10]:\n",
    "    print(sentence)\n",
    "    ss = sid.polarity_scores(sentence)\n",
    "    for k in ss:\n",
    "        print(k,\" : \", ss[k])\n",
    "    print()"
   ]
  },
  {
   "cell_type": "markdown",
   "metadata": {
    "collapsed": true
   },
   "source": [
    "# Second approach"
   ]
  },
  {
   "cell_type": "markdown",
   "metadata": {},
   "source": [
    "On the second approch, we focus only on reviews according to a brand.\n",
    "Here is the plan:\n",
    "1. First, we split the reviews according to the grade (5 groups from 1 to 5).\n",
    "2. **Topic modelling**: with words vectors and LDA (Latent Dirichlet Allocation) approach: reviews are seen as a bag of words, and topics as a distribution over a fixed vocabulary. Words are generated from document specific topic distributions. As the output of this step we have 10 topics with 10 most import words for each topic (for each brand).\n",
    "3. **Tag a sentiment on topic words** : We use the previous Sentiment Analyzer to get a weighted sentiment for the topic.<BR>\n",
    "We consider two kind of words:\n",
    "    - Feature words (which is one phone feature like battery, price, etc.)\n",
    "    - Non-feature words (all the others, including 'great', 'bad', 'awesome', 'problem', etc.)\n",
    "All the non-feature words which are on the topic will be sentiment analyzed. \n",
    "\n",
    "4. The weighted scores of all the non-feature words will be given to all the feature words in the following topic. If a topic not contains feature words, we simply skip it.\n",
    "5. At the end, we group the results to get an overview for all the reviews (all grades) : we count the density of appearence for each feature words in topics, and we also show the sum of polarity scores for each feautre word."
   ]
  },
  {
   "cell_type": "code",
   "execution_count": null,
   "metadata": {
    "collapsed": true
   },
   "outputs": [],
   "source": [
    "from sklearn.feature_extraction import text \n",
    "from sklearn.feature_extraction.text import CountVectorizer\n",
    "from sklearn.decomposition import LatentDirichletAllocation\n",
    "\n",
    "ratings = np.unique(final_df['overall'])\n",
    "stop_words = text.ENGLISH_STOP_WORDS.union(['phone', 'phones', 'iphone', 'apple', 'samsung', 'amazon']) # Common words\n",
    "\n",
    "NUMBER_TOPICS = 10\n",
    "MAX_ITER = 25\n",
    "MAX_FEATURES = 250\n",
    "TOP_WORDS = 10\n",
    "\n",
    "\n",
    "df = pd.DataFrame()\n",
    "\n",
    "for brand in brands:\n",
    "    for rate in ratings:\n",
    "        reviews = final_df.query('brand==@brand & overall==@rate')['reviewText'].dropna()\n",
    "        tf_vectorizer = CountVectorizer(max_features=MAX_FEATURES, stop_words=stop_words)\n",
    "        tf = tf_vectorizer.fit_transform(reviews)\n",
    "        tf_feature_names = tf_vectorizer.get_feature_names()\n",
    "\n",
    "        lda = LatentDirichletAllocation(n_components=NUMBER_TOPICS, max_iter=MAX_ITER, random_state=0, learning_method='batch').fit(tf)\n",
    "\n",
    "        #Normalize\n",
    "        lda.components_ /= lda.components_.sum(axis=1)[:, np.newaxis]\n",
    "\n",
    "        for topic_idx, topic in enumerate(lda.components_):\n",
    "            temp_df = pd.DataFrame()\n",
    "            for i in topic.argsort()[:-TOP_WORDS - 1:-1]:\n",
    "                df = df.append({'brand': brand, 'overall':rate, 'topic_id':topic_idx + 1, 'score': topic[i], 'word':tf_feature_names[i]}, ignore_index=True)\n"
   ]
  },
  {
   "cell_type": "code",
   "execution_count": null,
   "metadata": {
    "collapsed": true
   },
   "outputs": [],
   "source": [
    "# init sentiment 'analysis'\n",
    "df[\"pos_score\"] = 0.0\n",
    "df[\"neg_score\"] = 0.0\n",
    "df[\"neu_score\"] = 0.0\n",
    "df[\"comp_score\"] = 0.0"
   ]
  },
  {
   "cell_type": "code",
   "execution_count": null,
   "metadata": {},
   "outputs": [],
   "source": [
    "df.head()"
   ]
  },
  {
   "cell_type": "code",
   "execution_count": null,
   "metadata": {
    "collapsed": true
   },
   "outputs": [],
   "source": [
    "feature_words = [\"apps\", \"camera\", \"price\", \"battery\", \"charge\", \"sound\", \"memory\", \"screen\", \"speaker\"]"
   ]
  },
  {
   "cell_type": "code",
   "execution_count": null,
   "metadata": {
    "collapsed": true
   },
   "outputs": [],
   "source": [
    "score = dict()\n",
    "for row_num in range(0, len(df), 1):\n",
    "    word = df['word'][row_num]\n",
    "    \n",
    "    # Give score only to non feature words\n",
    "    if not word in feature_words:\n",
    "        score = sid.polarity_scores(word)\n",
    "        pos_score = score['pos'] * df['score'][row_num] * 100\n",
    "        neg_score = score['neg'] * df['score'][row_num] * 100\n",
    "        neu_score = score['neu'] * df['score'][row_num] * 100\n",
    "        comp_score = score['compound'] * df['score'][row_num] * 100\n",
    "\n",
    "        df.set_value(row_num, 'pos_score', pos_score)\n",
    "        df.set_value(row_num, 'neg_score', neg_score)\n",
    "        df.set_value(row_num, 'neu_score', neu_score)\n",
    "        df.set_value(row_num, 'comp_score', comp_score)"
   ]
  },
  {
   "cell_type": "code",
   "execution_count": null,
   "metadata": {
    "collapsed": true
   },
   "outputs": [],
   "source": [
    "after_filtering = pd.DataFrame(data=df)\n",
    "\n",
    "topics = np.unique(df['topic_id'])\n",
    "overall = np.unique(df['overall'])\n",
    "\n",
    "# SKIP ALL TOPICS THAT NOT HAVE FEATURE WORD\n",
    "for brand in brands:\n",
    "    for topic in topics:\n",
    "        for rate in overall:\n",
    "            temp_df = pd.DataFrame(df.query('brand == @brand & topic_id == @topic & overall == @rate')).reset_index(drop=True)\n",
    "\n",
    "            in_feature_word = False\n",
    "            for row_num in range(0, len(temp_df), 1):\n",
    "\n",
    "                word = temp_df['word'][row_num]\n",
    "\n",
    "                if word in feature_words:\n",
    "                    in_feature_word = True\n",
    "                    break\n",
    "                else:\n",
    "                    in_feature_word = False\n",
    "\n",
    "            if not in_feature_word:\n",
    "                useless_topics = df[\n",
    "                    (df['topic_id'] == topic) & (df['brand'] == brand) & (df['overall'] == rate)].index.tolist()\n",
    "                after_filtering = after_filtering.drop(useless_topics, axis=0)\n"
   ]
  },
  {
   "cell_type": "code",
   "execution_count": null,
   "metadata": {},
   "outputs": [],
   "source": [
    "after_filtering.head()"
   ]
  },
  {
   "cell_type": "code",
   "execution_count": null,
   "metadata": {
    "collapsed": true
   },
   "outputs": [],
   "source": [
    "result = []\n",
    "\n",
    "# FOR EACH FEATURE WORD WE SUM THE SCORE OF ALL THE WORDS IN THE TOPIC\n",
    "for brand in brands:\n",
    "    for topic in topics:\n",
    "        for rate in overall:\n",
    "            temp_df = pd.DataFrame(after_filtering.query('brand == @brand & topic_id == @topic & overall == @rate')).reset_index(drop=True)\n",
    "\n",
    "            temp_df_wo_ftr = pd.DataFrame(temp_df[~temp_df['word'].isin(feature_words)]).reset_index(drop=True)\n",
    "            temp_df_w_ftr = pd.DataFrame(temp_df[temp_df['word'].isin(feature_words)]).reset_index(drop=True)\n",
    "\n",
    "            pos = temp_df_wo_ftr['pos_score'].sum()\n",
    "            neg = temp_df_wo_ftr['neg_score'].sum()\n",
    "            neu = temp_df_wo_ftr['neu_score'].sum()\n",
    "            comp = temp_df_wo_ftr['comp_score'].sum()\n",
    "\n",
    "            for row_num in range(0, len(temp_df_w_ftr), 1):\n",
    "\n",
    "                word = temp_df_w_ftr['word'][row_num]\n",
    "                append_list_pos = [brand, word, 1, \"Positive\", pos]\n",
    "                append_list_neg = [brand, word, 1, \"Negative\", neg]\n",
    "                append_list_neu = [brand, word, 1, \"Neutral\", neu]\n",
    "                append_list_comp =[brand, word, 1, \"Compound\", comp]\n",
    "                result.extend([append_list_pos, append_list_neg, append_list_neu, append_list_comp])"
   ]
  },
  {
   "cell_type": "code",
   "execution_count": null,
   "metadata": {
    "collapsed": true
   },
   "outputs": [],
   "source": [
    "result = pd.DataFrame(data=result,\n",
    "                      columns=[\"Brand\", \"Feature\", \"Density\", \"Category\", \"Score\"])\n",
    "results_grouped = pd.DataFrame(data=result.groupby([\"Brand\", \"Category\", \"Feature\"]).sum())"
   ]
  },
  {
   "cell_type": "code",
   "execution_count": null,
   "metadata": {
    "collapsed": true
   },
   "outputs": [],
   "source": [
    "rg = results_grouped.reset_index()\n",
    "\n",
    "# Kind of normalization to compare brands\n",
    "rg['Score'] = rg['Score'] / rg['Density']"
   ]
  },
  {
   "cell_type": "markdown",
   "metadata": {},
   "source": [
    "## Results - Conclusion"
   ]
  },
  {
   "cell_type": "markdown",
   "metadata": {},
   "source": [
    "Now, we have all the sentiment analysis results according all the feature words.<br>\n",
    "An interesting thing to do is to compare different brands. All generated plots for all brands are available in the folder \"**results**\".\n",
    "\n",
    "We obtain two kind of plots:\n",
    "1. Composition of positive/negative/neutral scores for each feature words\n",
    "2. The average score for each feature words (Compound value of Vader sentiment analysis)"
   ]
  },
  {
   "cell_type": "code",
   "execution_count": null,
   "metadata": {},
   "outputs": [],
   "source": [
    "# Positive rate, negative rate, and neutral rate\n",
    "for brand in brands:\n",
    "    result_brand = rg.query('Brand == @brand').sort_values(by=\"Density\", ascending=False)\n",
    "    fig, ax = plt.subplots(figsize=(16, 8))\n",
    "    ax1 = sns.barplot(x=\"Feature\", y=\"Score\", hue=\"Category\", data=result_brand, ci=None, palette=sns.color_palette(\"coolwarm\", 3), hue_order=[\"Positive\", \"Neutral\", \"Negative\"])\n",
    "    ax1.set_title(brand)\n",
    "    plt.savefig('./results/' + brand + '_composition.png', bbox_inches='tight', pad_inches=0)"
   ]
  },
  {
   "cell_type": "code",
   "execution_count": null,
   "metadata": {},
   "outputs": [],
   "source": [
    "# Aggregated score (compound) provided by vader sentiment analysis\n",
    "for brand in brands:\n",
    "    result_brand = rg.query('Brand == @brand & Category == \"Compound\"').sort_values(by=\"Density\", ascending=False)\n",
    "    fig, ax = plt.subplots(figsize=(16, 8))\n",
    "    ax1 = sns.barplot(data=result_brand, x=\"Feature\", y=\"Score\", palette=sns.color_palette(\"GnBu_d\"))\n",
    "    ax1.set_title(brand)\n",
    "    plt.savefig('./results/' + brand + '_compound.png', bbox_inches='tight', pad_inches=0)"
   ]
  },
  {
   "cell_type": "code",
   "execution_count": null,
   "metadata": {
    "collapsed": true
   },
   "outputs": [],
   "source": []
  }
 ],
 "metadata": {
  "kernelspec": {
   "display_name": "Python 3",
   "language": "python",
   "name": "python3"
  },
  "language_info": {
   "codemirror_mode": {
    "name": "ipython",
    "version": 3
   },
   "file_extension": ".py",
   "mimetype": "text/x-python",
   "name": "python",
   "nbconvert_exporter": "python",
   "pygments_lexer": "ipython3",
   "version": "3.6.3"
  }
 },
 "nbformat": 4,
 "nbformat_minor": 2
}
