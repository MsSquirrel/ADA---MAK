{
 "cells": [
  {
   "cell_type": "markdown",
   "metadata": {},
   "source": [
    "# Project  \n",
    "\n",
    "\n",
    "Content: \n",
    "1. [Read the data](#read_the_data)\n",
    "2. [Descriptive statistics](#descriptive_statistics)\n",
    "3. TODO..."
   ]
  },
  {
   "cell_type": "code",
   "execution_count": 2,
   "metadata": {
    "collapsed": true
   },
   "outputs": [],
   "source": [
    "%matplotlib inline\n",
    "import os\n",
    "import pandas as pd\n",
    "import numpy as np\n",
    "import matplotlib.pyplot as plt\n",
    "import seaborn as sns\n",
    "import json\n",
    "from pandas.io.json import json_normalize\n",
    "import gzip\n",
    "sns.set()\n",
    "sns.axes_style(\"darkgrid\")\n",
    "sns.set_palette(\"Set2\")"
   ]
  },
  {
   "cell_type": "markdown",
   "metadata": {},
   "source": [
    "<a id='#read_the_data'></a>\n",
    "# Read the data\n",
    "\n",
    "\n",
    "TODO: explain what you did with hdf5 files, and why decided to save to csv\n"
   ]
  },
  {
   "cell_type": "code",
   "execution_count": 3,
   "metadata": {
    "collapsed": true
   },
   "outputs": [],
   "source": [
    "# read the data from previosly created csv files\n",
    "reviews_df = pd.read_csv('./data/reviews_cellphones.csv')"
   ]
  },
  {
   "cell_type": "code",
   "execution_count": 4,
   "metadata": {
    "collapsed": true
   },
   "outputs": [],
   "source": [
    "metadata_df = pd.read_csv('./data/metadata_cellphones.csv')"
   ]
  },
  {
   "cell_type": "code",
   "execution_count": 5,
   "metadata": {
    "collapsed": true
   },
   "outputs": [],
   "source": [
    "ratings_cols = ['reviewerID', 'asin', 'overall', 'unixReviewTime']\n",
    "ratings_df = reviews_df[ratings_cols]"
   ]
  },
  {
   "cell_type": "code",
   "execution_count": 6,
   "metadata": {},
   "outputs": [
    {
     "data": {
      "text/html": [
       "<div>\n",
       "<style>\n",
       "    .dataframe thead tr:only-child th {\n",
       "        text-align: right;\n",
       "    }\n",
       "\n",
       "    .dataframe thead th {\n",
       "        text-align: left;\n",
       "    }\n",
       "\n",
       "    .dataframe tbody tr th {\n",
       "        vertical-align: top;\n",
       "    }\n",
       "</style>\n",
       "<table border=\"1\" class=\"dataframe\">\n",
       "  <thead>\n",
       "    <tr style=\"text-align: right;\">\n",
       "      <th></th>\n",
       "      <th>Unnamed: 0</th>\n",
       "      <th>reviewerID</th>\n",
       "      <th>asin</th>\n",
       "      <th>reviewerName</th>\n",
       "      <th>helpful</th>\n",
       "      <th>reviewText</th>\n",
       "      <th>overall</th>\n",
       "      <th>summary</th>\n",
       "      <th>unixReviewTime</th>\n",
       "      <th>reviewTime</th>\n",
       "    </tr>\n",
       "  </thead>\n",
       "  <tbody>\n",
       "    <tr>\n",
       "      <th>0</th>\n",
       "      <td>0</td>\n",
       "      <td>A1EWN6KZ4HMLT7</td>\n",
       "      <td>011040047X</td>\n",
       "      <td>S. Prescott</td>\n",
       "      <td>[2, 2]</td>\n",
       "      <td>The case pictured is a soft violet color, but ...</td>\n",
       "      <td>1.0</td>\n",
       "      <td>Wrong color</td>\n",
       "      <td>1344902400</td>\n",
       "      <td>08 14, 2012</td>\n",
       "    </tr>\n",
       "    <tr>\n",
       "      <th>1</th>\n",
       "      <td>1</td>\n",
       "      <td>A1YX2RBMS1L9L</td>\n",
       "      <td>0110400550</td>\n",
       "      <td>Andrea Busch</td>\n",
       "      <td>[0, 0]</td>\n",
       "      <td>Saw this same case at a theme park store for 2...</td>\n",
       "      <td>5.0</td>\n",
       "      <td>Great product</td>\n",
       "      <td>1353542400</td>\n",
       "      <td>11 22, 2012</td>\n",
       "    </tr>\n",
       "    <tr>\n",
       "      <th>2</th>\n",
       "      <td>2</td>\n",
       "      <td>A180NNPPKWCCU0</td>\n",
       "      <td>0110400550</td>\n",
       "      <td>Aniya pennington</td>\n",
       "      <td>[3, 3]</td>\n",
       "      <td>case fits perfectly and I always gets complime...</td>\n",
       "      <td>5.0</td>\n",
       "      <td>Perfect</td>\n",
       "      <td>1374105600</td>\n",
       "      <td>07 18, 2013</td>\n",
       "    </tr>\n",
       "    <tr>\n",
       "      <th>3</th>\n",
       "      <td>3</td>\n",
       "      <td>A3HVRXV0LVJN7</td>\n",
       "      <td>0110400550</td>\n",
       "      <td>BiancaNicole</td>\n",
       "      <td>[4, 4]</td>\n",
       "      <td>Best phone case ever . Everywhere I go I get a...</td>\n",
       "      <td>5.0</td>\n",
       "      <td>A++++</td>\n",
       "      <td>1358035200</td>\n",
       "      <td>01 13, 2013</td>\n",
       "    </tr>\n",
       "    <tr>\n",
       "      <th>4</th>\n",
       "      <td>4</td>\n",
       "      <td>A292527VPX98P8</td>\n",
       "      <td>0110400550</td>\n",
       "      <td>Cebell</td>\n",
       "      <td>[0, 1]</td>\n",
       "      <td>It may look cute. This case started off pretty...</td>\n",
       "      <td>1.0</td>\n",
       "      <td>Do NOT GET IT!!</td>\n",
       "      <td>1353888000</td>\n",
       "      <td>11 26, 2012</td>\n",
       "    </tr>\n",
       "  </tbody>\n",
       "</table>\n",
       "</div>"
      ],
      "text/plain": [
       "   Unnamed: 0      reviewerID        asin      reviewerName helpful  \\\n",
       "0           0  A1EWN6KZ4HMLT7  011040047X       S. Prescott  [2, 2]   \n",
       "1           1   A1YX2RBMS1L9L  0110400550      Andrea Busch  [0, 0]   \n",
       "2           2  A180NNPPKWCCU0  0110400550  Aniya pennington  [3, 3]   \n",
       "3           3   A3HVRXV0LVJN7  0110400550      BiancaNicole  [4, 4]   \n",
       "4           4  A292527VPX98P8  0110400550            Cebell  [0, 1]   \n",
       "\n",
       "                                          reviewText  overall  \\\n",
       "0  The case pictured is a soft violet color, but ...      1.0   \n",
       "1  Saw this same case at a theme park store for 2...      5.0   \n",
       "2  case fits perfectly and I always gets complime...      5.0   \n",
       "3  Best phone case ever . Everywhere I go I get a...      5.0   \n",
       "4  It may look cute. This case started off pretty...      1.0   \n",
       "\n",
       "           summary  unixReviewTime   reviewTime  \n",
       "0      Wrong color      1344902400  08 14, 2012  \n",
       "1    Great product      1353542400  11 22, 2012  \n",
       "2          Perfect      1374105600  07 18, 2013  \n",
       "3            A++++      1358035200  01 13, 2013  \n",
       "4  Do NOT GET IT!!      1353888000  11 26, 2012  "
      ]
     },
     "execution_count": 6,
     "metadata": {},
     "output_type": "execute_result"
    }
   ],
   "source": [
    "reviews_df.head()"
   ]
  },
  {
   "cell_type": "code",
   "execution_count": 6,
   "metadata": {},
   "outputs": [
    {
     "data": {
      "text/html": [
       "<div>\n",
       "<style>\n",
       "    .dataframe thead tr:only-child th {\n",
       "        text-align: right;\n",
       "    }\n",
       "\n",
       "    .dataframe thead th {\n",
       "        text-align: left;\n",
       "    }\n",
       "\n",
       "    .dataframe tbody tr th {\n",
       "        vertical-align: top;\n",
       "    }\n",
       "</style>\n",
       "<table border=\"1\" class=\"dataframe\">\n",
       "  <thead>\n",
       "    <tr style=\"text-align: right;\">\n",
       "      <th></th>\n",
       "      <th>Unnamed: 0</th>\n",
       "      <th>asin</th>\n",
       "      <th>related</th>\n",
       "      <th>title</th>\n",
       "      <th>price</th>\n",
       "      <th>salesRank</th>\n",
       "      <th>imUrl</th>\n",
       "      <th>brand</th>\n",
       "      <th>categories</th>\n",
       "      <th>description</th>\n",
       "    </tr>\n",
       "  </thead>\n",
       "  <tbody>\n",
       "    <tr>\n",
       "      <th>0</th>\n",
       "      <td>0</td>\n",
       "      <td>0110400550</td>\n",
       "      <td>{'also_bought': ['B00C56IXFG', 'B008ZUQWOK', '...</td>\n",
       "      <td>Pink &amp;amp; White 3d Melt Ice-cream Skin Hard C...</td>\n",
       "      <td>3.33</td>\n",
       "      <td>{'Cell Phones &amp; Accessories': 83460}</td>\n",
       "      <td>http://ecx.images-amazon.com/images/I/31zn6SOL...</td>\n",
       "      <td>NaN</td>\n",
       "      <td>[['Cell Phones &amp; Accessories', 'Cases', 'Basic...</td>\n",
       "      <td>Pink &amp; White 3D Melt Ice-Cream Skin Hard Case ...</td>\n",
       "    </tr>\n",
       "    <tr>\n",
       "      <th>1</th>\n",
       "      <td>1</td>\n",
       "      <td>011040047X</td>\n",
       "      <td>{'buy_after_viewing': ['B008RU7UL2', 'B00698LY...</td>\n",
       "      <td>Purple Hard Case Cover for Iphone 4 4s 4g with...</td>\n",
       "      <td>1.94</td>\n",
       "      <td>{'Cell Phones &amp; Accessories': 495795}</td>\n",
       "      <td>http://ecx.images-amazon.com/images/I/41WCZc2d...</td>\n",
       "      <td>NaN</td>\n",
       "      <td>[['Cell Phones &amp; Accessories', 'Cases', 'Basic...</td>\n",
       "      <td>Purple Hard Case Cover for iPhone 4 4S 4G With...</td>\n",
       "    </tr>\n",
       "    <tr>\n",
       "      <th>2</th>\n",
       "      <td>2</td>\n",
       "      <td>0195866479</td>\n",
       "      <td>{'buy_after_viewing': ['B00530RXP2', 'B004SH9B...</td>\n",
       "      <td>Hello Kitty Light-weighted Chrome Case Black C...</td>\n",
       "      <td>2.94</td>\n",
       "      <td>{'Cell Phones &amp; Accessories': 371302}</td>\n",
       "      <td>http://ecx.images-amazon.com/images/I/41fy1%2B...</td>\n",
       "      <td>NaN</td>\n",
       "      <td>[['Cell Phones &amp; Accessories', 'Cases', 'Basic...</td>\n",
       "      <td>Thin and light weighted,\\r\\nCase's unique desi...</td>\n",
       "    </tr>\n",
       "    <tr>\n",
       "      <th>3</th>\n",
       "      <td>3</td>\n",
       "      <td>0214514706</td>\n",
       "      <td>{'buy_after_viewing': ['B0042FV2SI', 'B00869D2...</td>\n",
       "      <td>Cool Summer Breeze in the Ocean Beach Collecti...</td>\n",
       "      <td>0.94</td>\n",
       "      <td>{'Cell Phones &amp; Accessories': 778100}</td>\n",
       "      <td>http://ecx.images-amazon.com/images/I/415cmp6Q...</td>\n",
       "      <td>NaN</td>\n",
       "      <td>[['Cell Phones &amp; Accessories', 'Cases', 'Basic...</td>\n",
       "      <td>Product Name:  Cool Summer Breeze In The Ocean...</td>\n",
       "    </tr>\n",
       "    <tr>\n",
       "      <th>4</th>\n",
       "      <td>4</td>\n",
       "      <td>0214714705</td>\n",
       "      <td>{'buy_after_viewing': ['B008EU7HRM', 'B00869D2...</td>\n",
       "      <td>Cool Summer Breeze In The Ocean Beach Collecti...</td>\n",
       "      <td>5.79</td>\n",
       "      <td>{'Cell Phones &amp; Accessories': 654894}</td>\n",
       "      <td>http://ecx.images-amazon.com/images/I/41XDwPt2...</td>\n",
       "      <td>NaN</td>\n",
       "      <td>[['Cell Phones &amp; Accessories', 'Cases', 'Basic...</td>\n",
       "      <td>Product Name:  Cool Summer Breeze In The Ocean...</td>\n",
       "    </tr>\n",
       "  </tbody>\n",
       "</table>\n",
       "</div>"
      ],
      "text/plain": [
       "   Unnamed: 0        asin                                            related  \\\n",
       "0           0  0110400550  {'also_bought': ['B00C56IXFG', 'B008ZUQWOK', '...   \n",
       "1           1  011040047X  {'buy_after_viewing': ['B008RU7UL2', 'B00698LY...   \n",
       "2           2  0195866479  {'buy_after_viewing': ['B00530RXP2', 'B004SH9B...   \n",
       "3           3  0214514706  {'buy_after_viewing': ['B0042FV2SI', 'B00869D2...   \n",
       "4           4  0214714705  {'buy_after_viewing': ['B008EU7HRM', 'B00869D2...   \n",
       "\n",
       "                                               title  price  \\\n",
       "0  Pink &amp; White 3d Melt Ice-cream Skin Hard C...   3.33   \n",
       "1  Purple Hard Case Cover for Iphone 4 4s 4g with...   1.94   \n",
       "2  Hello Kitty Light-weighted Chrome Case Black C...   2.94   \n",
       "3  Cool Summer Breeze in the Ocean Beach Collecti...   0.94   \n",
       "4  Cool Summer Breeze In The Ocean Beach Collecti...   5.79   \n",
       "\n",
       "                               salesRank  \\\n",
       "0   {'Cell Phones & Accessories': 83460}   \n",
       "1  {'Cell Phones & Accessories': 495795}   \n",
       "2  {'Cell Phones & Accessories': 371302}   \n",
       "3  {'Cell Phones & Accessories': 778100}   \n",
       "4  {'Cell Phones & Accessories': 654894}   \n",
       "\n",
       "                                               imUrl brand  \\\n",
       "0  http://ecx.images-amazon.com/images/I/31zn6SOL...   NaN   \n",
       "1  http://ecx.images-amazon.com/images/I/41WCZc2d...   NaN   \n",
       "2  http://ecx.images-amazon.com/images/I/41fy1%2B...   NaN   \n",
       "3  http://ecx.images-amazon.com/images/I/415cmp6Q...   NaN   \n",
       "4  http://ecx.images-amazon.com/images/I/41XDwPt2...   NaN   \n",
       "\n",
       "                                          categories  \\\n",
       "0  [['Cell Phones & Accessories', 'Cases', 'Basic...   \n",
       "1  [['Cell Phones & Accessories', 'Cases', 'Basic...   \n",
       "2  [['Cell Phones & Accessories', 'Cases', 'Basic...   \n",
       "3  [['Cell Phones & Accessories', 'Cases', 'Basic...   \n",
       "4  [['Cell Phones & Accessories', 'Cases', 'Basic...   \n",
       "\n",
       "                                         description  \n",
       "0  Pink & White 3D Melt Ice-Cream Skin Hard Case ...  \n",
       "1  Purple Hard Case Cover for iPhone 4 4S 4G With...  \n",
       "2  Thin and light weighted,\\r\\nCase's unique desi...  \n",
       "3  Product Name:  Cool Summer Breeze In The Ocean...  \n",
       "4  Product Name:  Cool Summer Breeze In The Ocean...  "
      ]
     },
     "execution_count": 6,
     "metadata": {},
     "output_type": "execute_result"
    }
   ],
   "source": [
    "metadata_df.head()"
   ]
  },
  {
   "cell_type": "code",
   "execution_count": 7,
   "metadata": {},
   "outputs": [
    {
     "data": {
      "text/html": [
       "<div>\n",
       "<style>\n",
       "    .dataframe thead tr:only-child th {\n",
       "        text-align: right;\n",
       "    }\n",
       "\n",
       "    .dataframe thead th {\n",
       "        text-align: left;\n",
       "    }\n",
       "\n",
       "    .dataframe tbody tr th {\n",
       "        vertical-align: top;\n",
       "    }\n",
       "</style>\n",
       "<table border=\"1\" class=\"dataframe\">\n",
       "  <thead>\n",
       "    <tr style=\"text-align: right;\">\n",
       "      <th></th>\n",
       "      <th>reviewerID</th>\n",
       "      <th>asin</th>\n",
       "      <th>overall</th>\n",
       "      <th>unixReviewTime</th>\n",
       "    </tr>\n",
       "  </thead>\n",
       "  <tbody>\n",
       "    <tr>\n",
       "      <th>0</th>\n",
       "      <td>A1EWN6KZ4HMLT7</td>\n",
       "      <td>011040047X</td>\n",
       "      <td>1.0</td>\n",
       "      <td>1344902400</td>\n",
       "    </tr>\n",
       "    <tr>\n",
       "      <th>1</th>\n",
       "      <td>A1YX2RBMS1L9L</td>\n",
       "      <td>0110400550</td>\n",
       "      <td>5.0</td>\n",
       "      <td>1353542400</td>\n",
       "    </tr>\n",
       "    <tr>\n",
       "      <th>2</th>\n",
       "      <td>A180NNPPKWCCU0</td>\n",
       "      <td>0110400550</td>\n",
       "      <td>5.0</td>\n",
       "      <td>1374105600</td>\n",
       "    </tr>\n",
       "    <tr>\n",
       "      <th>3</th>\n",
       "      <td>A3HVRXV0LVJN7</td>\n",
       "      <td>0110400550</td>\n",
       "      <td>5.0</td>\n",
       "      <td>1358035200</td>\n",
       "    </tr>\n",
       "    <tr>\n",
       "      <th>4</th>\n",
       "      <td>A292527VPX98P8</td>\n",
       "      <td>0110400550</td>\n",
       "      <td>1.0</td>\n",
       "      <td>1353888000</td>\n",
       "    </tr>\n",
       "  </tbody>\n",
       "</table>\n",
       "</div>"
      ],
      "text/plain": [
       "       reviewerID        asin  overall  unixReviewTime\n",
       "0  A1EWN6KZ4HMLT7  011040047X      1.0      1344902400\n",
       "1   A1YX2RBMS1L9L  0110400550      5.0      1353542400\n",
       "2  A180NNPPKWCCU0  0110400550      5.0      1374105600\n",
       "3   A3HVRXV0LVJN7  0110400550      5.0      1358035200\n",
       "4  A292527VPX98P8  0110400550      1.0      1353888000"
      ]
     },
     "execution_count": 7,
     "metadata": {},
     "output_type": "execute_result"
    }
   ],
   "source": [
    "ratings_df.head()"
   ]
  },
  {
   "cell_type": "markdown",
   "metadata": {},
   "source": [
    "<a id='#descriptive_statistics'></a>\n",
    "\n",
    "# Descriptive statistics\n",
    "\n",
    "TODO:\n",
    " - basic histograms and charts\n",
    " - Sort by timestamps, and check again the stats?\n",
    " - Check how many people gave the comments\n",
    " "
   ]
  },
  {
   "cell_type": "markdown",
   "metadata": {},
   "source": [
    "## Reviews analysis"
   ]
  },
  {
   "cell_type": "markdown",
   "metadata": {},
   "source": [
    "First, we take a look at the entire reviews dataset for cellphones and accessories."
   ]
  },
  {
   "cell_type": "code",
   "execution_count": 8,
   "metadata": {},
   "outputs": [
    {
     "name": "stdout",
     "output_type": "stream",
     "text": [
      "Shape:  (3447249, 10)\n",
      "Ratings values:  [ 1.  5.  2.  3.  4.]\n",
      "Min review unix time:  942796800\n",
      "Max review unix time:  1406073600\n",
      "Percentage of unique reviewers:  65.5898369975595\n",
      "Percentage of unique products:  9.273423532793831\n"
     ]
    }
   ],
   "source": [
    "unique_reviewers = reviews_df['reviewerID'].unique()\n",
    "unique_reviewers_percent = len(unique_reviewers) / reviews_df.shape[0] *100\n",
    "unique_products = reviews_df['asin'].unique()\n",
    "unique_products_percent = len(unique_products) / reviews_df.shape[0] *100\n",
    "print (\"Shape: \", reviews_df.shape)\n",
    "print (\"Ratings values: \", reviews_df.overall.unique())\n",
    "print (\"Min review unix time: \", reviews_df.unixReviewTime.min())\n",
    "print (\"Max review unix time: \", reviews_df.unixReviewTime.max())\n",
    "print (\"Percentage of unique reviewers: \", unique_reviewers_percent)\n",
    "print (\"Percentage of unique products: \", unique_products_percent)"
   ]
  },
  {
   "cell_type": "markdown",
   "metadata": {},
   "source": [
    "### Overall ratings"
   ]
  },
  {
   "cell_type": "code",
   "execution_count": 9,
   "metadata": {},
   "outputs": [
    {
     "data": {
      "image/png": "[encoded data removed]",
      "text/plain": [
       "<matplotlib.figure.Figure at 0x1f64ed19780>"
      ]
     },
     "metadata": {},
     "output_type": "display_data"
    }
   ],
   "source": [
    "fig, ax = plt.subplots(1, 2, figsize=(16,3))\n",
    "ax1 = sns.boxplot(reviews_df.overall, ax=ax[0])\n",
    "ax2 = sns.distplot(reviews_df.overall, ax=ax[1])\n",
    "ax1.set_title('Distribution of ratings')\n",
    "ax2.set_title('Distribution of ratings')\n",
    "plt.show()"
   ]
  },
  {
   "cell_type": "markdown",
   "metadata": {},
   "source": [
    "### Reviews through time"
   ]
  },
  {
   "cell_type": "code",
   "execution_count": 14,
   "metadata": {},
   "outputs": [],
   "source": [
    "#Re-compute datetime with unixReviewTime\n",
    "reviews_df['datetime'] = pd.to_datetime(reviews_df.unixReviewTime, unit='s')"
   ]
  },
  {
   "cell_type": "code",
   "execution_count": 49,
   "metadata": {
    "scrolled": true
   },
   "outputs": [
    {
     "data": {
      "image/png": "[encoded data removed]",
      "text/plain": [
       "<matplotlib.figure.Figure at 0x1f6a26e25c0>"
      ]
     },
     "metadata": {},
     "output_type": "display_data"
    }
   ],
   "source": [
    "#By year in general\n",
    "year = reviews_df.groupby([reviews_df.datetime.dt.year])['asin'].count()\n",
    "fig, ax = plt.subplots(figsize=(16,5))\n",
    "year_df = pd.DataFrame(year)\n",
    "ax = sns.barplot(year_df.index, year_df.asin)\n",
    "for p in ax.patches:\n",
    "    height = p.get_height()\n",
    "    ax.text(p.get_x()+p.get_width()/2.,\n",
    "            height + 10000,\n",
    "            '{:1.0f}'.format(height),\n",
    "            ha=\"center\") "
   ]
  },
  {
   "cell_type": "code",
   "execution_count": 72,
   "metadata": {},
   "outputs": [
    {
     "data": {
      "image/png": "[encoded data removed]",
      "text/plain": [
       "<matplotlib.figure.Figure at 0x1f6533eed68>"
      ]
     },
     "metadata": {},
     "output_type": "display_data"
    }
   ],
   "source": [
    "#In 2013 for example\n",
    "year = reviews_df.groupby([reviews_df.datetime.dt.year, reviews_df.datetime.dt.month])['asin'].count()\n",
    "year_2013 = year[(2013, )]\n",
    "fig, ax = plt.subplots(figsize=(16,5))\n",
    "year_2013_df = pd.DataFrame(year_2013)\n",
    "ax = sns.barplot(year_2013_df.index, year_2013_df.asin)\n",
    "for p in ax.patches:\n",
    "    height = p.get_height()\n",
    "    ax.text(p.get_x()+p.get_width()/2.,\n",
    "            height + 1000,\n",
    "            '{:1.0f}'.format(height),\n",
    "            ha=\"center\") "
   ]
  },
  {
   "cell_type": "markdown",
   "metadata": {},
   "source": [
    "## Metadata dataset"
   ]
  },
  {
   "cell_type": "markdown",
   "metadata": {},
   "source": [
    "### Row data analysis"
   ]
  },
  {
   "cell_type": "code",
   "execution_count": 73,
   "metadata": {},
   "outputs": [
    {
     "name": "stdout",
     "output_type": "stream",
     "text": [
      "Number of products:  346793\n",
      "Percentage of null prices:  18.4098294948\n",
      "Percentage of null brands:  77.3873751777\n"
     ]
    }
   ],
   "source": [
    "null_price = metadata_df.price.isnull().sum()\n",
    "null_price_percent = null_price / metadata_df.shape[0] *100\n",
    "null_brand = metadata_df.brand.isnull().sum()\n",
    "null_brand_percent = null_brand / metadata_df.shape[0] *100\n",
    "print (\"Number of products: \", metadata_df.shape[0])\n",
    "print (\"Percentage of null prices: \", null_price_percent)\n",
    "print (\"Percentage of null brands: \", null_brand_percent)"
   ]
  },
  {
   "cell_type": "code",
   "execution_count": 74,
   "metadata": {},
   "outputs": [
    {
     "data": {
      "text/plain": [
       "array([[<matplotlib.axes._subplots.AxesSubplot object at 0x000001F652973860>]], dtype=object)"
      ]
     },
     "execution_count": 74,
     "metadata": {},
     "output_type": "execute_result"
    },
    {
     "data": {
      "image/png": "[encoded data removed]",
      "text/plain": [
       "<matplotlib.figure.Figure at 0x1f6a26c9c50>"
      ]
     },
     "metadata": {},
     "output_type": "display_data"
    }
   ],
   "source": [
    "metadata_df.hist(column='price', bins=90)"
   ]
  },
  {
   "cell_type": "code",
   "execution_count": 75,
   "metadata": {
    "collapsed": true
   },
   "outputs": [],
   "source": [
    "# ^ something is not fine with the prices, seems like too much of the prices are 0\n",
    "# but when we count, around 18% of the prices is null\n",
    "# TODO: determine the brands\n",
    "# TODO: find the average price per brand\n",
    "# TODO: check if you have metadata for each phone from the reviews list"
   ]
  },
  {
   "cell_type": "code",
   "execution_count": 76,
   "metadata": {
    "collapsed": true
   },
   "outputs": [],
   "source": [
    "#metadata_df.categories[346768].split('[[')[1].split(\",\")[1].replace('\\'', '')"
   ]
  },
  {
   "cell_type": "markdown",
   "metadata": {},
   "source": [
    "## Phones analysis\n",
    "\n",
    "\n",
    "Creating new meta dataframe that only contains information about phones."
   ]
  },
  {
   "cell_type": "code",
   "execution_count": 77,
   "metadata": {},
   "outputs": [
    {
     "name": "stdout",
     "output_type": "stream",
     "text": [
      "Phones count: 1343\n"
     ]
    },
    {
     "data": {
      "text/html": [
       "<div>\n",
       "<style>\n",
       "    .dataframe thead tr:only-child th {\n",
       "        text-align: right;\n",
       "    }\n",
       "\n",
       "    .dataframe thead th {\n",
       "        text-align: left;\n",
       "    }\n",
       "\n",
       "    .dataframe tbody tr th {\n",
       "        vertical-align: top;\n",
       "    }\n",
       "</style>\n",
       "<table border=\"1\" class=\"dataframe\">\n",
       "  <thead>\n",
       "    <tr style=\"text-align: right;\">\n",
       "      <th></th>\n",
       "      <th>Unnamed: 0</th>\n",
       "      <th>asin</th>\n",
       "      <th>related</th>\n",
       "      <th>title</th>\n",
       "      <th>price</th>\n",
       "      <th>salesRank</th>\n",
       "      <th>imUrl</th>\n",
       "      <th>brand</th>\n",
       "      <th>categories</th>\n",
       "      <th>description</th>\n",
       "    </tr>\n",
       "  </thead>\n",
       "  <tbody>\n",
       "    <tr>\n",
       "      <th>2861</th>\n",
       "      <td>2861</td>\n",
       "      <td>B0002Z8CSA</td>\n",
       "      <td>{'also_viewed': ['B007N0RAXK', 'B00BNFLGM2', '...</td>\n",
       "      <td>Motorola V400 Unlocked Cell Phone--U.S. Versio...</td>\n",
       "      <td>81.95</td>\n",
       "      <td>{'Cell Phones &amp; Accessories': 602817}</td>\n",
       "      <td>http://ecx.images-amazon.com/images/I/4142320E...</td>\n",
       "      <td>Motorola</td>\n",
       "      <td>[['Cell Phones &amp; Accessories', 'Cell Phones', ...</td>\n",
       "      <td>The quad-band Motorola V400 cell phone feature...</td>\n",
       "    </tr>\n",
       "    <tr>\n",
       "      <th>3702</th>\n",
       "      <td>3702</td>\n",
       "      <td>B0009FCAJA</td>\n",
       "      <td>{'also_bought': ['B000IN5ZHM', 'B0016JDE34', '...</td>\n",
       "      <td>Motorola RAZR V3 Unlocked Phone with Camera, a...</td>\n",
       "      <td>69.99</td>\n",
       "      <td>{'Cell Phones &amp; Accessories': 10173}</td>\n",
       "      <td>http://ecx.images-amazon.com/images/I/41294T68...</td>\n",
       "      <td>Motorola</td>\n",
       "      <td>[['Cell Phones &amp; Accessories', 'Cell Phones', ...</td>\n",
       "      <td>When the Motorola RAZR V3 was launched last ye...</td>\n",
       "    </tr>\n",
       "    <tr>\n",
       "      <th>5456</th>\n",
       "      <td>5456</td>\n",
       "      <td>B000GGO5KO</td>\n",
       "      <td>{'also_viewed': ['B000PEOLAG', 'B00A6D9WLY', '...</td>\n",
       "      <td>Sony Ericsson M600i Unlocked Cell Phone with 3...</td>\n",
       "      <td>120.00</td>\n",
       "      <td>{'Cell Phones &amp; Accessories': 1178113}</td>\n",
       "      <td>http://ecx.images-amazon.com/images/I/21I6mmuz...</td>\n",
       "      <td>Sony Ericsson</td>\n",
       "      <td>[['Cell Phones &amp; Accessories', 'Cell Phones', ...</td>\n",
       "      <td>Put your office in your pocket with the incred...</td>\n",
       "    </tr>\n",
       "    <tr>\n",
       "      <th>6575</th>\n",
       "      <td>6575</td>\n",
       "      <td>B000J0YH9Q</td>\n",
       "      <td>{'also_viewed': ['B0014TAFPG'], 'buy_after_vie...</td>\n",
       "      <td>Motorola RIZR Z3 Unlocked GSM Quadband Cell Ph...</td>\n",
       "      <td>99.99</td>\n",
       "      <td>{'Cell Phones &amp; Accessories': 697207}</td>\n",
       "      <td>http://ecx.images-amazon.com/images/I/51opABnP...</td>\n",
       "      <td>Motorola</td>\n",
       "      <td>[['Cell Phones &amp; Accessories', 'Cell Phones', ...</td>\n",
       "      <td>The Motorola RIZR Z3 features an ultra smooth ...</td>\n",
       "    </tr>\n",
       "    <tr>\n",
       "      <th>6654</th>\n",
       "      <td>6654</td>\n",
       "      <td>B000J6EXTY</td>\n",
       "      <td>{'also_bought': ['B000IN5ZHM', 'B0009H2M1Y', '...</td>\n",
       "      <td>Motorola RAZR V3i Dolce &amp;amp; Gabbana Unlocked...</td>\n",
       "      <td>69.95</td>\n",
       "      <td>{'Cell Phones &amp; Accessories': 16025}</td>\n",
       "      <td>http://ecx.images-amazon.com/images/I/41VTMFSG...</td>\n",
       "      <td>Motorola</td>\n",
       "      <td>[['Cell Phones &amp; Accessories', 'Cell Phones', ...</td>\n",
       "      <td>You've probably seen the wildly popular Motoro...</td>\n",
       "    </tr>\n",
       "  </tbody>\n",
       "</table>\n",
       "</div>"
      ],
      "text/plain": [
       "      Unnamed: 0        asin  \\\n",
       "2861        2861  B0002Z8CSA   \n",
       "3702        3702  B0009FCAJA   \n",
       "5456        5456  B000GGO5KO   \n",
       "6575        6575  B000J0YH9Q   \n",
       "6654        6654  B000J6EXTY   \n",
       "\n",
       "                                                related  \\\n",
       "2861  {'also_viewed': ['B007N0RAXK', 'B00BNFLGM2', '...   \n",
       "3702  {'also_bought': ['B000IN5ZHM', 'B0016JDE34', '...   \n",
       "5456  {'also_viewed': ['B000PEOLAG', 'B00A6D9WLY', '...   \n",
       "6575  {'also_viewed': ['B0014TAFPG'], 'buy_after_vie...   \n",
       "6654  {'also_bought': ['B000IN5ZHM', 'B0009H2M1Y', '...   \n",
       "\n",
       "                                                  title   price  \\\n",
       "2861  Motorola V400 Unlocked Cell Phone--U.S. Versio...   81.95   \n",
       "3702  Motorola RAZR V3 Unlocked Phone with Camera, a...   69.99   \n",
       "5456  Sony Ericsson M600i Unlocked Cell Phone with 3...  120.00   \n",
       "6575  Motorola RIZR Z3 Unlocked GSM Quadband Cell Ph...   99.99   \n",
       "6654  Motorola RAZR V3i Dolce &amp; Gabbana Unlocked...   69.95   \n",
       "\n",
       "                                   salesRank  \\\n",
       "2861   {'Cell Phones & Accessories': 602817}   \n",
       "3702    {'Cell Phones & Accessories': 10173}   \n",
       "5456  {'Cell Phones & Accessories': 1178113}   \n",
       "6575   {'Cell Phones & Accessories': 697207}   \n",
       "6654    {'Cell Phones & Accessories': 16025}   \n",
       "\n",
       "                                                  imUrl          brand  \\\n",
       "2861  http://ecx.images-amazon.com/images/I/4142320E...       Motorola   \n",
       "3702  http://ecx.images-amazon.com/images/I/41294T68...       Motorola   \n",
       "5456  http://ecx.images-amazon.com/images/I/21I6mmuz...  Sony Ericsson   \n",
       "6575  http://ecx.images-amazon.com/images/I/51opABnP...       Motorola   \n",
       "6654  http://ecx.images-amazon.com/images/I/41VTMFSG...       Motorola   \n",
       "\n",
       "                                             categories  \\\n",
       "2861  [['Cell Phones & Accessories', 'Cell Phones', ...   \n",
       "3702  [['Cell Phones & Accessories', 'Cell Phones', ...   \n",
       "5456  [['Cell Phones & Accessories', 'Cell Phones', ...   \n",
       "6575  [['Cell Phones & Accessories', 'Cell Phones', ...   \n",
       "6654  [['Cell Phones & Accessories', 'Cell Phones', ...   \n",
       "\n",
       "                                            description  \n",
       "2861  The quad-band Motorola V400 cell phone feature...  \n",
       "3702  When the Motorola RAZR V3 was launched last ye...  \n",
       "5456  Put your office in your pocket with the incred...  \n",
       "6575  The Motorola RIZR Z3 features an ultra smooth ...  \n",
       "6654  You've probably seen the wildly popular Motoro...  "
      ]
     },
     "execution_count": 77,
     "metadata": {},
     "output_type": "execute_result"
    }
   ],
   "source": [
    "phones_df = metadata_df[metadata_df.categories.str.\n",
    "            startswith(\"[['Cell Phones & Accessories', 'Cell Phones', 'Unlocked \")]\n",
    "phones_df = phones_df[(pd.notnull(phones_df['brand'])) & (phones_df['brand'] != '')]\n",
    "print(\"Phones count:\", len(phones_df))\n",
    "phones_df.head()"
   ]
  },
  {
   "cell_type": "markdown",
   "metadata": {
    "collapsed": true
   },
   "source": [
    "### Brand names"
   ]
  },
  {
   "cell_type": "code",
   "execution_count": 78,
   "metadata": {
    "scrolled": false
   },
   "outputs": [
    {
     "name": "stderr",
     "output_type": "stream",
     "text": [
      "b'Skipping line 821: expected 40 fields, saw 41\\nSkipping line 6060: expected 40 fields, saw 41\\nSkipping line 6663: expected 40 fields, saw 41\\n'\n"
     ]
    },
    {
     "data": {
      "text/html": [
       "<div>\n",
       "<style>\n",
       "    .dataframe thead tr:only-child th {\n",
       "        text-align: right;\n",
       "    }\n",
       "\n",
       "    .dataframe thead th {\n",
       "        text-align: left;\n",
       "    }\n",
       "\n",
       "    .dataframe tbody tr th {\n",
       "        vertical-align: top;\n",
       "    }\n",
       "</style>\n",
       "<table border=\"1\" class=\"dataframe\">\n",
       "  <thead>\n",
       "    <tr style=\"text-align: right;\">\n",
       "      <th></th>\n",
       "      <th>brand</th>\n",
       "      <th>model</th>\n",
       "      <th>network_technology</th>\n",
       "      <th>2G_bands</th>\n",
       "      <th>3G_bands</th>\n",
       "      <th>4G_bands</th>\n",
       "      <th>network_speed</th>\n",
       "      <th>GPRS</th>\n",
       "      <th>EDGE</th>\n",
       "      <th>announced</th>\n",
       "      <th>...</th>\n",
       "      <th>bluetooth</th>\n",
       "      <th>GPS</th>\n",
       "      <th>NFC</th>\n",
       "      <th>radio</th>\n",
       "      <th>USB</th>\n",
       "      <th>sensors</th>\n",
       "      <th>battery</th>\n",
       "      <th>colors</th>\n",
       "      <th>approx_price_EUR</th>\n",
       "      <th>img_url</th>\n",
       "    </tr>\n",
       "  </thead>\n",
       "  <tbody>\n",
       "    <tr>\n",
       "      <th>0</th>\n",
       "      <td>Acer</td>\n",
       "      <td>Iconia Talk S</td>\n",
       "      <td>GSM / HSPA / LTE</td>\n",
       "      <td>GSM 850 / 900 / 1800 / 1900 - SIM 1 &amp; SIM 2</td>\n",
       "      <td>HSDPA 850 / 1900 / 2100</td>\n",
       "      <td>LTE band 1(2100)| 3(1800)| 7(2600)| 8(900)| 20...</td>\n",
       "      <td>HSPA 42.2/11.5 Mbps  LTE Cat4 150/50 Mbps</td>\n",
       "      <td>Yes</td>\n",
       "      <td>Yes</td>\n",
       "      <td>2016  August</td>\n",
       "      <td>...</td>\n",
       "      <td>4.0| A2DP</td>\n",
       "      <td>Yes with A-GPS GLONASS</td>\n",
       "      <td>NaN</td>\n",
       "      <td>FM radio</td>\n",
       "      <td>microUSB 2.0</td>\n",
       "      <td>Accelerometer| proximity</td>\n",
       "      <td>Non-removable Li-Ion 3400 mAh battery (12.92 Wh)</td>\n",
       "      <td>Black</td>\n",
       "      <td>170.0</td>\n",
       "      <td>http://cdn2.gsmarena.com/vv/bigpic/acer-iconia...</td>\n",
       "    </tr>\n",
       "    <tr>\n",
       "      <th>1</th>\n",
       "      <td>Acer</td>\n",
       "      <td>Liquid Z6 Plus</td>\n",
       "      <td>GSM / HSPA / LTE</td>\n",
       "      <td>GSM 850 / 900 / 1800 / 1900 - SIM 1 &amp; SIM 2 (d...</td>\n",
       "      <td>HSDPA</td>\n",
       "      <td>LTE</td>\n",
       "      <td>HSPA 42.2/5.76 Mbps  LTE Cat4 150/50 Mbps</td>\n",
       "      <td>Yes</td>\n",
       "      <td>Yes</td>\n",
       "      <td>2016  August</td>\n",
       "      <td>...</td>\n",
       "      <td>4.0| A2DP</td>\n",
       "      <td>Yes with A-GPS</td>\n",
       "      <td>NaN</td>\n",
       "      <td>FM radio</td>\n",
       "      <td>microUSB 2.0</td>\n",
       "      <td>Fingerprint (front-mounted)| accelerometer| pr...</td>\n",
       "      <td>Removable Li-Po 4080 mAh battery</td>\n",
       "      <td>Black| White</td>\n",
       "      <td>250.0</td>\n",
       "      <td>http://cdn2.gsmarena.com/vv/bigpic/acer-liquid...</td>\n",
       "    </tr>\n",
       "    <tr>\n",
       "      <th>2</th>\n",
       "      <td>Acer</td>\n",
       "      <td>Liquid Z6</td>\n",
       "      <td>GSM / HSPA / LTE</td>\n",
       "      <td>GSM 850 / 900 / 1800 / 1900 - SIM 1 &amp; SIM 2 (d...</td>\n",
       "      <td>HSDPA</td>\n",
       "      <td>LTE</td>\n",
       "      <td>HSPA  LTE</td>\n",
       "      <td>Yes</td>\n",
       "      <td>Yes</td>\n",
       "      <td>2016  August</td>\n",
       "      <td>...</td>\n",
       "      <td>Yes</td>\n",
       "      <td>Yes with A-GPS</td>\n",
       "      <td>NaN</td>\n",
       "      <td>FM radio</td>\n",
       "      <td>microUSB 2.0</td>\n",
       "      <td>Accelerometer| proximity</td>\n",
       "      <td>Removable Li-Ion 2000 mAh battery</td>\n",
       "      <td>Black| White</td>\n",
       "      <td>120.0</td>\n",
       "      <td>http://cdn2.gsmarena.com/vv/bigpic/acer-liquid...</td>\n",
       "    </tr>\n",
       "    <tr>\n",
       "      <th>3</th>\n",
       "      <td>Acer</td>\n",
       "      <td>Iconia Tab 10 A3-A40</td>\n",
       "      <td>No cellular connectivity</td>\n",
       "      <td>N/A</td>\n",
       "      <td>NaN</td>\n",
       "      <td>NaN</td>\n",
       "      <td>NaN</td>\n",
       "      <td>No</td>\n",
       "      <td>No</td>\n",
       "      <td>2016  April</td>\n",
       "      <td>...</td>\n",
       "      <td>Yes</td>\n",
       "      <td>NaN</td>\n",
       "      <td>NaN</td>\n",
       "      <td>No</td>\n",
       "      <td>microUSB 2.0</td>\n",
       "      <td>Accelerometer</td>\n",
       "      <td>Non-removable Li-Ion battery</td>\n",
       "      <td>Black</td>\n",
       "      <td>230.0</td>\n",
       "      <td>http://cdn2.gsmarena.com/vv/bigpic/acer-iconia...</td>\n",
       "    </tr>\n",
       "    <tr>\n",
       "      <th>4</th>\n",
       "      <td>Acer</td>\n",
       "      <td>Liquid X2</td>\n",
       "      <td>GSM / HSPA / LTE</td>\n",
       "      <td>GSM 850 / 900 / 1800 / 1900</td>\n",
       "      <td>HSDPA 900 / 1900 / 2100 - Europe| Taiwan</td>\n",
       "      <td>LTE 800 / 1800 / 2100 / 2600 - Europe</td>\n",
       "      <td>HSPA 42.2/5.76 Mbps  LTE Cat4 150/50 Mbps</td>\n",
       "      <td>Yes</td>\n",
       "      <td>Yes</td>\n",
       "      <td>2015  April</td>\n",
       "      <td>...</td>\n",
       "      <td>4.0| A2DP| LE</td>\n",
       "      <td>Yes with A-GPS</td>\n",
       "      <td>NaN</td>\n",
       "      <td>FM radio</td>\n",
       "      <td>microUSB 2.0</td>\n",
       "      <td>Accelerometer| proximity| compass</td>\n",
       "      <td>Removable Li-Po 4020 mAh battery</td>\n",
       "      <td>Black| Gold</td>\n",
       "      <td>230.0</td>\n",
       "      <td>http://cdn2.gsmarena.com/vv/bigpic/acer-liquid...</td>\n",
       "    </tr>\n",
       "  </tbody>\n",
       "</table>\n",
       "<p>5 rows × 40 columns</p>\n",
       "</div>"
      ],
      "text/plain": [
       "  brand                 model        network_technology  \\\n",
       "0  Acer         Iconia Talk S          GSM / HSPA / LTE   \n",
       "1  Acer        Liquid Z6 Plus          GSM / HSPA / LTE   \n",
       "2  Acer             Liquid Z6          GSM / HSPA / LTE   \n",
       "3  Acer  Iconia Tab 10 A3-A40  No cellular connectivity   \n",
       "4  Acer             Liquid X2          GSM / HSPA / LTE   \n",
       "\n",
       "                                            2G_bands  \\\n",
       "0        GSM 850 / 900 / 1800 / 1900 - SIM 1 & SIM 2   \n",
       "1  GSM 850 / 900 / 1800 / 1900 - SIM 1 & SIM 2 (d...   \n",
       "2  GSM 850 / 900 / 1800 / 1900 - SIM 1 & SIM 2 (d...   \n",
       "3                                                N/A   \n",
       "4                       GSM 850 / 900 / 1800 / 1900    \n",
       "\n",
       "                                   3G_bands  \\\n",
       "0                  HSDPA 850 / 1900 / 2100    \n",
       "1                                     HSDPA   \n",
       "2                                     HSDPA   \n",
       "3                                       NaN   \n",
       "4  HSDPA 900 / 1900 / 2100 - Europe| Taiwan   \n",
       "\n",
       "                                            4G_bands  \\\n",
       "0  LTE band 1(2100)| 3(1800)| 7(2600)| 8(900)| 20...   \n",
       "1                                                LTE   \n",
       "2                                                LTE   \n",
       "3                                                NaN   \n",
       "4              LTE 800 / 1800 / 2100 / 2600 - Europe   \n",
       "\n",
       "                               network_speed GPRS EDGE     announced  \\\n",
       "0  HSPA 42.2/11.5 Mbps  LTE Cat4 150/50 Mbps  Yes  Yes  2016  August   \n",
       "1  HSPA 42.2/5.76 Mbps  LTE Cat4 150/50 Mbps  Yes  Yes  2016  August   \n",
       "2                                  HSPA  LTE  Yes  Yes  2016  August   \n",
       "3                                        NaN   No   No   2016  April   \n",
       "4  HSPA 42.2/5.76 Mbps  LTE Cat4 150/50 Mbps  Yes  Yes   2015  April   \n",
       "\n",
       "                         ...                              bluetooth  \\\n",
       "0                        ...                              4.0| A2DP   \n",
       "1                        ...                              4.0| A2DP   \n",
       "2                        ...                                    Yes   \n",
       "3                        ...                                    Yes   \n",
       "4                        ...                          4.0| A2DP| LE   \n",
       "\n",
       "                      GPS  NFC     radio           USB  \\\n",
       "0  Yes with A-GPS GLONASS  NaN  FM radio  microUSB 2.0   \n",
       "1          Yes with A-GPS  NaN  FM radio  microUSB 2.0   \n",
       "2          Yes with A-GPS  NaN  FM radio  microUSB 2.0   \n",
       "3                     NaN  NaN        No  microUSB 2.0   \n",
       "4          Yes with A-GPS  NaN  FM radio  microUSB 2.0   \n",
       "\n",
       "                                             sensors  \\\n",
       "0                           Accelerometer| proximity   \n",
       "1  Fingerprint (front-mounted)| accelerometer| pr...   \n",
       "2                           Accelerometer| proximity   \n",
       "3                                      Accelerometer   \n",
       "4                  Accelerometer| proximity| compass   \n",
       "\n",
       "                                            battery        colors  \\\n",
       "0  Non-removable Li-Ion 3400 mAh battery (12.92 Wh)         Black   \n",
       "1                  Removable Li-Po 4080 mAh battery  Black| White   \n",
       "2                 Removable Li-Ion 2000 mAh battery  Black| White   \n",
       "3                      Non-removable Li-Ion battery         Black   \n",
       "4                  Removable Li-Po 4020 mAh battery   Black| Gold   \n",
       "\n",
       "  approx_price_EUR                                            img_url  \n",
       "0            170.0  http://cdn2.gsmarena.com/vv/bigpic/acer-iconia...  \n",
       "1            250.0  http://cdn2.gsmarena.com/vv/bigpic/acer-liquid...  \n",
       "2            120.0  http://cdn2.gsmarena.com/vv/bigpic/acer-liquid...  \n",
       "3            230.0  http://cdn2.gsmarena.com/vv/bigpic/acer-iconia...  \n",
       "4            230.0  http://cdn2.gsmarena.com/vv/bigpic/acer-liquid...  \n",
       "\n",
       "[5 rows x 40 columns]"
      ]
     },
     "execution_count": 78,
     "metadata": {},
     "output_type": "execute_result"
    }
   ],
   "source": [
    "gsmarena_df = pd.read_csv('./data/phone_dataset.csv', error_bad_lines=False)\n",
    "gsmarena_df.head()"
   ]
  },
  {
   "cell_type": "code",
   "execution_count": 79,
   "metadata": {
    "collapsed": true
   },
   "outputs": [],
   "source": [
    "list_brands_accepted = gsmarena_df.brand.str.lower().unique()"
   ]
  },
  {
   "cell_type": "code",
   "execution_count": 80,
   "metadata": {},
   "outputs": [
    {
     "name": "stdout",
     "output_type": "stream",
     "text": [
      "['motorola' 'sony ericsson' 'nokia' 'global star' 'sony' 'blackberry' 'lg'\n",
      " 'htc' 'apple' 'pharos' 'panasonic' 't mobile' 'palm' 'cricket' 'telular'\n",
      " 't-mobile' 'curve 8350i' 'samsung' 'inmarsat' 'vip-top sales watch phone'\n",
      " 'dell' 'droid' 'bolo brands' 'unlocked-cell-phones' 'huawei' 'pantech'\n",
      " 'hp' 'at&amp;t' 'verizon' 'victor' 'cellularfactory' 'sharp' 'unknown'\n",
      " 'casio' 'generic' 's lll' 'ulefone' 'phone merchant' 'greatcall'\n",
      " 'novatel wireless' 'star' 'unnecto' 'alcatel' 'jeg &amp; sons, inc.' 'svp'\n",
      " 'android' 'gray' 'fujimoto dengyo' 'newcay' 'flylink' 'ebest' 'px phone'\n",
      " 'digital family' 'huawei honor' 'albanese' 'jiayu g3t' 'kyocera' 'weikin'\n",
      " 'lenovo' 'zte' 'blu' 'fusion 2' 'etree' 'caterpillar' 'indigi'\n",
      " 'huhushop(tm)' 'zopo' 'toto' 'tomtop' 'samsung galaxy s4 - google edition'\n",
      " 'samsung galaxy mega' 'jiayu' 'ct-miami llc' 'terrapin' 'lumia'\n",
      " 'moneysaving4you' 'nec' 'tab 3 8&quot;' 'ocean cross' 'unassigned' 'thl'\n",
      " 'dracotek' 'yezz wireless' 'u watch' 'eson' 'lxl' 'migo' 'gifted living'\n",
      " 'flylinktech' 'keenan hunter zxj' 'cubot' 'bluesolar' 'purplelan'\n",
      " 'masai store' 'google' 'cobot' 'doogee' 'binatone' 'jiake' 'feiteng'\n",
      " 'smartq' 'mysaga' 'icare'\n",
      " 'original lenovo s750 waterproof smartphone quad core mtk6589 1.2ghz android 4.2 4.5 inch gorilla'\n",
      " 'huawei ascend'\n",
      " 'ulefone p6 smartphone android 4.2 mtk6582 1.3ghz 6.0 inch hd screen 3g gps gesture sensing nfc'\n",
      " 'inew' 'cnpgd' 'onetouch' 'zp980+'\n",
      " 'n3+ smartphone mtk6592 octa core 2gb 16gb 5.7 inch android 4.2 3g otg -black'\n",
      " 'mobile front' 'no.1' 'kingelon' 'szpax' 'e&#39;max' 'iocean' 'sasmsung'\n",
      " 'hero s / evo design' 'lightinthebox' 'asus' 'bobbi brown']\n",
      "\n",
      "Before processing (# of brands, # of phones): 122 1343\n",
      "After processing (# of brands, # of phones): 27 1146\n"
     ]
    }
   ],
   "source": [
    "#Keep only phones contained in list of accepted brands\n",
    "# TODO: becareful\n",
    "print(phones_df['brand'].str.lower().unique())\n",
    "brands_number_before = len(phones_df['brand'].str.lower().unique())\n",
    "phones_df_filtered = phones_df[phones_df['brand'].str.lower().isin(list_brands_accepted)]\n",
    "brands_number_after = len(phones_df_filtered['brand'].str.lower().unique())\n",
    "print('')\n",
    "print('Before processing (# of brands, # of phones):', brands_number_before, len(phones_df))\n",
    "print('After processing (# of brands, # of phones):', brands_number_after, len(phones_df_filtered))\n"
   ]
  },
  {
   "cell_type": "code",
   "execution_count": 81,
   "metadata": {},
   "outputs": [],
   "source": [
    "# TODO: process duplicates ?"
   ]
  },
  {
   "cell_type": "markdown",
   "metadata": {},
   "source": [
    "### Phone prices"
   ]
  },
  {
   "cell_type": "code",
   "execution_count": 82,
   "metadata": {},
   "outputs": [
    {
     "name": "stdout",
     "output_type": "stream",
     "text": [
      "Number of phones with NaN price: 2\n"
     ]
    }
   ],
   "source": [
    "print('Number of phones with NaN price:', phones_df_filtered.price.isnull().sum())"
   ]
  },
  {
   "cell_type": "markdown",
   "metadata": {},
   "source": [
    "We can see that the prices for almost all phones are known, and most of them are in range 50-300 euros. "
   ]
  },
  {
   "cell_type": "code",
   "execution_count": 83,
   "metadata": {},
   "outputs": [
    {
     "data": {
      "image/png": "[encoded data removed]",
      "text/plain": [
       "<matplotlib.figure.Figure at 0x1f6a26c6fd0>"
      ]
     },
     "metadata": {},
     "output_type": "display_data"
    }
   ],
   "source": [
    "fig, ax = plt.subplots(figsize=(15,8))\n",
    "avg_prices = phones_df_filtered.groupby('brand')['price'].mean().sort_values(ascending=False)\n",
    "d = [i for i in range(0, len(avg_prices))]\n",
    "ax = sns.stripplot(d, avg_prices,size=8, palette=\"Reds_r\")\n",
    "ax.set_xticklabels(avg_prices.index, rotation='vertical')\n",
    "ax.set_title('Median prices of brands')\n",
    "plt.show()\n",
    "\n",
    "#sns.barplot(x=avg_prices[0:20], y=phones_df.brand[0:20], palette=\"Greens_r\")"
   ]
  },
  {
   "cell_type": "code",
   "execution_count": 84,
   "metadata": {},
   "outputs": [
    {
     "data": {
      "image/png": "[encoded data removed]",
      "text/plain": [
       "<matplotlib.figure.Figure at 0x1f6baae0c88>"
      ]
     },
     "metadata": {},
     "output_type": "display_data"
    }
   ],
   "source": [
    "fig, ax = plt.subplots(1, 2, figsize=(16,3))\n",
    "ax1 = sns.boxplot(avg_prices, ax=ax[0])\n",
    "ax2 = phones_df_filtered.hist(column='price', bins=70, ax=ax[1])\n",
    "ax1.set_title('Distribution of median brand price')\n",
    "ax1.set_title('Distribution of median brand price')\n",
    "plt.show()"
   ]
  },
  {
   "cell_type": "markdown",
   "metadata": {},
   "source": [
    "### Number of phones per brand"
   ]
  },
  {
   "cell_type": "code",
   "execution_count": 85,
   "metadata": {},
   "outputs": [
    {
     "data": {
      "image/png": "[encoded data removed]",
      "text/plain": [
       "<matplotlib.figure.Figure at 0x1f6a26b0908>"
      ]
     },
     "metadata": {},
     "output_type": "display_data"
    }
   ],
   "source": [
    "phone_counts = phones_df_filtered.groupby('brand')['asin'].count().sort_values(ascending=False)\n",
    "\n",
    "fig, ax = plt.subplots(figsize=(15,8))\n",
    "d = [i for i in range(0, len(phone_counts))]\n",
    "ax = sns.stripplot(d, phone_counts, size=8, palette=\"Reds_r\")\n",
    "ax.set_xticklabels(phone_counts.index, rotation='vertical')\n",
    "ax.set_title('Phone counts per brand')\n",
    "plt.show()"
   ]
  },
  {
   "cell_type": "markdown",
   "metadata": {},
   "source": [
    "## Merged dataframes for reviews and phones metadata\n",
    "\n",
    "\n",
    "We will now merge these two dataframes and check statistics for new dataframe. "
   ]
  },
  {
   "cell_type": "code",
   "execution_count": 86,
   "metadata": {},
   "outputs": [
    {
     "name": "stdout",
     "output_type": "stream",
     "text": [
      "Number of reviews in total: 56222\n"
     ]
    }
   ],
   "source": [
    "final_df = pd.merge(phones_df_filtered, reviews_df, on='asin', how='inner')\n",
    "print('Number of reviews in total:', len(final_df))"
   ]
  },
  {
   "cell_type": "code",
   "execution_count": 87,
   "metadata": {},
   "outputs": [
    {
     "data": {
      "text/html": [
       "<div>\n",
       "<style>\n",
       "    .dataframe thead tr:only-child th {\n",
       "        text-align: right;\n",
       "    }\n",
       "\n",
       "    .dataframe thead th {\n",
       "        text-align: left;\n",
       "    }\n",
       "\n",
       "    .dataframe tbody tr th {\n",
       "        vertical-align: top;\n",
       "    }\n",
       "</style>\n",
       "<table border=\"1\" class=\"dataframe\">\n",
       "  <thead>\n",
       "    <tr style=\"text-align: right;\">\n",
       "      <th></th>\n",
       "      <th>Unnamed: 0_x</th>\n",
       "      <th>asin</th>\n",
       "      <th>related</th>\n",
       "      <th>title</th>\n",
       "      <th>price</th>\n",
       "      <th>salesRank</th>\n",
       "      <th>imUrl</th>\n",
       "      <th>brand</th>\n",
       "      <th>categories</th>\n",
       "      <th>description</th>\n",
       "      <th>Unnamed: 0_y</th>\n",
       "      <th>reviewerID</th>\n",
       "      <th>reviewerName</th>\n",
       "      <th>helpful</th>\n",
       "      <th>reviewText</th>\n",
       "      <th>overall</th>\n",
       "      <th>summary</th>\n",
       "      <th>unixReviewTime</th>\n",
       "      <th>reviewTime</th>\n",
       "      <th>datetime</th>\n",
       "    </tr>\n",
       "  </thead>\n",
       "  <tbody>\n",
       "    <tr>\n",
       "      <th>0</th>\n",
       "      <td>2861</td>\n",
       "      <td>B0002Z8CSA</td>\n",
       "      <td>{'also_viewed': ['B007N0RAXK', 'B00BNFLGM2', '...</td>\n",
       "      <td>Motorola V400 Unlocked Cell Phone--U.S. Versio...</td>\n",
       "      <td>81.95</td>\n",
       "      <td>{'Cell Phones &amp; Accessories': 602817}</td>\n",
       "      <td>http://ecx.images-amazon.com/images/I/4142320E...</td>\n",
       "      <td>Motorola</td>\n",
       "      <td>[['Cell Phones &amp; Accessories', 'Cell Phones', ...</td>\n",
       "      <td>The quad-band Motorola V400 cell phone feature...</td>\n",
       "      <td>20437</td>\n",
       "      <td>A1LZEEL11U755M</td>\n",
       "      <td>A. Le</td>\n",
       "      <td>[2, 2]</td>\n",
       "      <td>I didn't buy from this seller, but I owned thi...</td>\n",
       "      <td>5.0</td>\n",
       "      <td>sturdiest phone ever!</td>\n",
       "      <td>1240012800</td>\n",
       "      <td>04 18, 2009</td>\n",
       "      <td>2009-04-18</td>\n",
       "    </tr>\n",
       "    <tr>\n",
       "      <th>1</th>\n",
       "      <td>2861</td>\n",
       "      <td>B0002Z8CSA</td>\n",
       "      <td>{'also_viewed': ['B007N0RAXK', 'B00BNFLGM2', '...</td>\n",
       "      <td>Motorola V400 Unlocked Cell Phone--U.S. Versio...</td>\n",
       "      <td>81.95</td>\n",
       "      <td>{'Cell Phones &amp; Accessories': 602817}</td>\n",
       "      <td>http://ecx.images-amazon.com/images/I/4142320E...</td>\n",
       "      <td>Motorola</td>\n",
       "      <td>[['Cell Phones &amp; Accessories', 'Cell Phones', ...</td>\n",
       "      <td>The quad-band Motorola V400 cell phone feature...</td>\n",
       "      <td>20438</td>\n",
       "      <td>A21BFCRY0I0RD7</td>\n",
       "      <td>Jose Carlos P. Reyes \"otomed\"</td>\n",
       "      <td>[4, 4]</td>\n",
       "      <td>I've been using a Motorola V190 for well over ...</td>\n",
       "      <td>5.0</td>\n",
       "      <td>Good phone for day to day use</td>\n",
       "      <td>1261958400</td>\n",
       "      <td>12 28, 2009</td>\n",
       "      <td>2009-12-28</td>\n",
       "    </tr>\n",
       "    <tr>\n",
       "      <th>2</th>\n",
       "      <td>2861</td>\n",
       "      <td>B0002Z8CSA</td>\n",
       "      <td>{'also_viewed': ['B007N0RAXK', 'B00BNFLGM2', '...</td>\n",
       "      <td>Motorola V400 Unlocked Cell Phone--U.S. Versio...</td>\n",
       "      <td>81.95</td>\n",
       "      <td>{'Cell Phones &amp; Accessories': 602817}</td>\n",
       "      <td>http://ecx.images-amazon.com/images/I/4142320E...</td>\n",
       "      <td>Motorola</td>\n",
       "      <td>[['Cell Phones &amp; Accessories', 'Cell Phones', ...</td>\n",
       "      <td>The quad-band Motorola V400 cell phone feature...</td>\n",
       "      <td>20439</td>\n",
       "      <td>A2ND5GHEMRZV0D</td>\n",
       "      <td>Leonila Romualdo</td>\n",
       "      <td>[1, 5]</td>\n",
       "      <td>order took 2 weeks because the package came ba...</td>\n",
       "      <td>2.0</td>\n",
       "      <td>motorola from freehasslecell.com</td>\n",
       "      <td>1235433600</td>\n",
       "      <td>02 24, 2009</td>\n",
       "      <td>2009-02-24</td>\n",
       "    </tr>\n",
       "    <tr>\n",
       "      <th>3</th>\n",
       "      <td>3702</td>\n",
       "      <td>B0009FCAJA</td>\n",
       "      <td>{'also_bought': ['B000IN5ZHM', 'B0016JDE34', '...</td>\n",
       "      <td>Motorola RAZR V3 Unlocked Phone with Camera, a...</td>\n",
       "      <td>69.99</td>\n",
       "      <td>{'Cell Phones &amp; Accessories': 10173}</td>\n",
       "      <td>http://ecx.images-amazon.com/images/I/41294T68...</td>\n",
       "      <td>Motorola</td>\n",
       "      <td>[['Cell Phones &amp; Accessories', 'Cell Phones', ...</td>\n",
       "      <td>When the Motorola RAZR V3 was launched last ye...</td>\n",
       "      <td>37599</td>\n",
       "      <td>A36EJJUDZ37UHS</td>\n",
       "      <td>NaN</td>\n",
       "      <td>[4, 4]</td>\n",
       "      <td>I've ordered 3 of these phones from 2 differen...</td>\n",
       "      <td>1.0</td>\n",
       "      <td>phone is nothing but problems - not authentic ...</td>\n",
       "      <td>1200096000</td>\n",
       "      <td>01 12, 2008</td>\n",
       "      <td>2008-01-12</td>\n",
       "    </tr>\n",
       "    <tr>\n",
       "      <th>4</th>\n",
       "      <td>3702</td>\n",
       "      <td>B0009FCAJA</td>\n",
       "      <td>{'also_bought': ['B000IN5ZHM', 'B0016JDE34', '...</td>\n",
       "      <td>Motorola RAZR V3 Unlocked Phone with Camera, a...</td>\n",
       "      <td>69.99</td>\n",
       "      <td>{'Cell Phones &amp; Accessories': 10173}</td>\n",
       "      <td>http://ecx.images-amazon.com/images/I/41294T68...</td>\n",
       "      <td>Motorola</td>\n",
       "      <td>[['Cell Phones &amp; Accessories', 'Cell Phones', ...</td>\n",
       "      <td>When the Motorola RAZR V3 was launched last ye...</td>\n",
       "      <td>37600</td>\n",
       "      <td>A2T8YGL2PJJ93A</td>\n",
       "      <td>4004CII</td>\n",
       "      <td>[8, 9]</td>\n",
       "      <td>I read the other reviews, heard about the drea...</td>\n",
       "      <td>2.0</td>\n",
       "      <td>What a piece of junk!</td>\n",
       "      <td>1158710400</td>\n",
       "      <td>09 20, 2006</td>\n",
       "      <td>2006-09-20</td>\n",
       "    </tr>\n",
       "  </tbody>\n",
       "</table>\n",
       "</div>"
      ],
      "text/plain": [
       "   Unnamed: 0_x        asin  \\\n",
       "0          2861  B0002Z8CSA   \n",
       "1          2861  B0002Z8CSA   \n",
       "2          2861  B0002Z8CSA   \n",
       "3          3702  B0009FCAJA   \n",
       "4          3702  B0009FCAJA   \n",
       "\n",
       "                                             related  \\\n",
       "0  {'also_viewed': ['B007N0RAXK', 'B00BNFLGM2', '...   \n",
       "1  {'also_viewed': ['B007N0RAXK', 'B00BNFLGM2', '...   \n",
       "2  {'also_viewed': ['B007N0RAXK', 'B00BNFLGM2', '...   \n",
       "3  {'also_bought': ['B000IN5ZHM', 'B0016JDE34', '...   \n",
       "4  {'also_bought': ['B000IN5ZHM', 'B0016JDE34', '...   \n",
       "\n",
       "                                               title  price  \\\n",
       "0  Motorola V400 Unlocked Cell Phone--U.S. Versio...  81.95   \n",
       "1  Motorola V400 Unlocked Cell Phone--U.S. Versio...  81.95   \n",
       "2  Motorola V400 Unlocked Cell Phone--U.S. Versio...  81.95   \n",
       "3  Motorola RAZR V3 Unlocked Phone with Camera, a...  69.99   \n",
       "4  Motorola RAZR V3 Unlocked Phone with Camera, a...  69.99   \n",
       "\n",
       "                               salesRank  \\\n",
       "0  {'Cell Phones & Accessories': 602817}   \n",
       "1  {'Cell Phones & Accessories': 602817}   \n",
       "2  {'Cell Phones & Accessories': 602817}   \n",
       "3   {'Cell Phones & Accessories': 10173}   \n",
       "4   {'Cell Phones & Accessories': 10173}   \n",
       "\n",
       "                                               imUrl     brand  \\\n",
       "0  http://ecx.images-amazon.com/images/I/4142320E...  Motorola   \n",
       "1  http://ecx.images-amazon.com/images/I/4142320E...  Motorola   \n",
       "2  http://ecx.images-amazon.com/images/I/4142320E...  Motorola   \n",
       "3  http://ecx.images-amazon.com/images/I/41294T68...  Motorola   \n",
       "4  http://ecx.images-amazon.com/images/I/41294T68...  Motorola   \n",
       "\n",
       "                                          categories  \\\n",
       "0  [['Cell Phones & Accessories', 'Cell Phones', ...   \n",
       "1  [['Cell Phones & Accessories', 'Cell Phones', ...   \n",
       "2  [['Cell Phones & Accessories', 'Cell Phones', ...   \n",
       "3  [['Cell Phones & Accessories', 'Cell Phones', ...   \n",
       "4  [['Cell Phones & Accessories', 'Cell Phones', ...   \n",
       "\n",
       "                                         description  Unnamed: 0_y  \\\n",
       "0  The quad-band Motorola V400 cell phone feature...         20437   \n",
       "1  The quad-band Motorola V400 cell phone feature...         20438   \n",
       "2  The quad-band Motorola V400 cell phone feature...         20439   \n",
       "3  When the Motorola RAZR V3 was launched last ye...         37599   \n",
       "4  When the Motorola RAZR V3 was launched last ye...         37600   \n",
       "\n",
       "       reviewerID                   reviewerName helpful  \\\n",
       "0  A1LZEEL11U755M                          A. Le  [2, 2]   \n",
       "1  A21BFCRY0I0RD7  Jose Carlos P. Reyes \"otomed\"  [4, 4]   \n",
       "2  A2ND5GHEMRZV0D               Leonila Romualdo  [1, 5]   \n",
       "3  A36EJJUDZ37UHS                            NaN  [4, 4]   \n",
       "4  A2T8YGL2PJJ93A                        4004CII  [8, 9]   \n",
       "\n",
       "                                          reviewText  overall  \\\n",
       "0  I didn't buy from this seller, but I owned thi...      5.0   \n",
       "1  I've been using a Motorola V190 for well over ...      5.0   \n",
       "2  order took 2 weeks because the package came ba...      2.0   \n",
       "3  I've ordered 3 of these phones from 2 differen...      1.0   \n",
       "4  I read the other reviews, heard about the drea...      2.0   \n",
       "\n",
       "                                             summary  unixReviewTime  \\\n",
       "0                              sturdiest phone ever!      1240012800   \n",
       "1                      Good phone for day to day use      1261958400   \n",
       "2                   motorola from freehasslecell.com      1235433600   \n",
       "3  phone is nothing but problems - not authentic ...      1200096000   \n",
       "4                              What a piece of junk!      1158710400   \n",
       "\n",
       "    reviewTime   datetime  \n",
       "0  04 18, 2009 2009-04-18  \n",
       "1  12 28, 2009 2009-12-28  \n",
       "2  02 24, 2009 2009-02-24  \n",
       "3  01 12, 2008 2008-01-12  \n",
       "4  09 20, 2006 2006-09-20  "
      ]
     },
     "execution_count": 87,
     "metadata": {},
     "output_type": "execute_result"
    }
   ],
   "source": [
    "final_df.head()"
   ]
  },
  {
   "cell_type": "code",
   "execution_count": 88,
   "metadata": {},
   "outputs": [
    {
     "data": {
      "text/plain": [
       "array([[<matplotlib.axes._subplots.AxesSubplot object at 0x000001F6A2747EF0>]], dtype=object)"
      ]
     },
     "execution_count": 88,
     "metadata": {},
     "output_type": "execute_result"
    },
    {
     "data": {
      "image/png": "[encoded data removed]",
      "text/plain": [
       "<matplotlib.figure.Figure at 0x1f6a26b00f0>"
      ]
     },
     "metadata": {},
     "output_type": "display_data"
    }
   ],
   "source": [
    "final_df.hist(column='price', bins=70)"
   ]
  },
  {
   "cell_type": "code",
   "execution_count": 91,
   "metadata": {},
   "outputs": [
    {
     "data": {
      "image/png": "[encoded data removed]",
      "text/plain": [
       "<matplotlib.figure.Figure at 0x1f6531fa668>"
      ]
     },
     "metadata": {},
     "output_type": "display_data"
    }
   ],
   "source": [
    "#By year in general\n",
    "year = final_df.groupby([final_df.datetime.dt.year])['asin'].count()\n",
    "fig, ax = plt.subplots(figsize=(16,5))\n",
    "year_df = pd.DataFrame(year)\n",
    "ax = sns.barplot(year_df.index, year_df.asin)\n",
    "for p in ax.patches:\n",
    "    height = p.get_height()\n",
    "    ax.text(p.get_x()+p.get_width()/2.,\n",
    "            height + 100,\n",
    "            '{:1.0f}'.format(height),\n",
    "            ha=\"center\") "
   ]
  },
  {
   "cell_type": "code",
   "execution_count": 134,
   "metadata": {},
   "outputs": [
    {
     "data": {
      "text/html": [
       "<div>\n",
       "<style>\n",
       "    .dataframe thead tr:only-child th {\n",
       "        text-align: right;\n",
       "    }\n",
       "\n",
       "    .dataframe thead th {\n",
       "        text-align: left;\n",
       "    }\n",
       "\n",
       "    .dataframe tbody tr th {\n",
       "        vertical-align: top;\n",
       "    }\n",
       "</style>\n",
       "<table border=\"1\" class=\"dataframe\">\n",
       "  <thead>\n",
       "    <tr style=\"text-align: right;\">\n",
       "      <th></th>\n",
       "      <th>mean</th>\n",
       "      <th>std</th>\n",
       "    </tr>\n",
       "    <tr>\n",
       "      <th>brand</th>\n",
       "      <th></th>\n",
       "      <th></th>\n",
       "    </tr>\n",
       "  </thead>\n",
       "  <tbody>\n",
       "    <tr>\n",
       "      <th>Kyocera</th>\n",
       "      <td>4.416667</td>\n",
       "      <td>1.088300</td>\n",
       "    </tr>\n",
       "    <tr>\n",
       "      <th>Google</th>\n",
       "      <td>4.347534</td>\n",
       "      <td>1.160330</td>\n",
       "    </tr>\n",
       "    <tr>\n",
       "      <th>Panasonic</th>\n",
       "      <td>4.250000</td>\n",
       "      <td>1.035098</td>\n",
       "    </tr>\n",
       "    <tr>\n",
       "      <th>Sony</th>\n",
       "      <td>4.109865</td>\n",
       "      <td>1.310141</td>\n",
       "    </tr>\n",
       "    <tr>\n",
       "      <th>Asus</th>\n",
       "      <td>4.000000</td>\n",
       "      <td>1.549193</td>\n",
       "    </tr>\n",
       "    <tr>\n",
       "      <th>blu</th>\n",
       "      <td>3.949449</td>\n",
       "      <td>1.322714</td>\n",
       "    </tr>\n",
       "    <tr>\n",
       "      <th>Lenovo</th>\n",
       "      <td>3.921739</td>\n",
       "      <td>1.312209</td>\n",
       "    </tr>\n",
       "    <tr>\n",
       "      <th>Huawei</th>\n",
       "      <td>3.836177</td>\n",
       "      <td>1.458411</td>\n",
       "    </tr>\n",
       "    <tr>\n",
       "      <th>Samsung</th>\n",
       "      <td>3.808519</td>\n",
       "      <td>1.536949</td>\n",
       "    </tr>\n",
       "    <tr>\n",
       "      <th>NEC</th>\n",
       "      <td>3.777778</td>\n",
       "      <td>1.563472</td>\n",
       "    </tr>\n",
       "    <tr>\n",
       "      <th>Sony Ericsson</th>\n",
       "      <td>3.775439</td>\n",
       "      <td>1.574028</td>\n",
       "    </tr>\n",
       "    <tr>\n",
       "      <th>Nokia</th>\n",
       "      <td>3.756655</td>\n",
       "      <td>1.491493</td>\n",
       "    </tr>\n",
       "    <tr>\n",
       "      <th>Motorola</th>\n",
       "      <td>3.709160</td>\n",
       "      <td>1.569948</td>\n",
       "    </tr>\n",
       "    <tr>\n",
       "      <th>Casio</th>\n",
       "      <td>3.592233</td>\n",
       "      <td>1.543086</td>\n",
       "    </tr>\n",
       "    <tr>\n",
       "      <th>Pantech</th>\n",
       "      <td>3.577181</td>\n",
       "      <td>1.464108</td>\n",
       "    </tr>\n",
       "    <tr>\n",
       "      <th>HP</th>\n",
       "      <td>3.549020</td>\n",
       "      <td>1.616338</td>\n",
       "    </tr>\n",
       "    <tr>\n",
       "      <th>Apple</th>\n",
       "      <td>3.524578</td>\n",
       "      <td>1.665001</td>\n",
       "    </tr>\n",
       "    <tr>\n",
       "      <th>Palm</th>\n",
       "      <td>3.493506</td>\n",
       "      <td>1.504880</td>\n",
       "    </tr>\n",
       "    <tr>\n",
       "      <th>LG</th>\n",
       "      <td>3.464884</td>\n",
       "      <td>1.567689</td>\n",
       "    </tr>\n",
       "    <tr>\n",
       "      <th>ZTE</th>\n",
       "      <td>3.394495</td>\n",
       "      <td>1.557647</td>\n",
       "    </tr>\n",
       "    <tr>\n",
       "      <th>HTC</th>\n",
       "      <td>3.287366</td>\n",
       "      <td>1.658767</td>\n",
       "    </tr>\n",
       "    <tr>\n",
       "      <th>Sharp</th>\n",
       "      <td>3.245455</td>\n",
       "      <td>1.518148</td>\n",
       "    </tr>\n",
       "    <tr>\n",
       "      <th>BlackBerry</th>\n",
       "      <td>3.234198</td>\n",
       "      <td>1.695731</td>\n",
       "    </tr>\n",
       "    <tr>\n",
       "      <th>Alcatel</th>\n",
       "      <td>3.200000</td>\n",
       "      <td>1.472556</td>\n",
       "    </tr>\n",
       "    <tr>\n",
       "      <th>Dell</th>\n",
       "      <td>3.157377</td>\n",
       "      <td>1.662716</td>\n",
       "    </tr>\n",
       "    <tr>\n",
       "      <th>T-Mobile</th>\n",
       "      <td>2.956522</td>\n",
       "      <td>1.691644</td>\n",
       "    </tr>\n",
       "    <tr>\n",
       "      <th>Unnecto</th>\n",
       "      <td>2.500000</td>\n",
       "      <td>2.121320</td>\n",
       "    </tr>\n",
       "  </tbody>\n",
       "</table>\n",
       "</div>"
      ],
      "text/plain": [
       "                   mean       std\n",
       "brand                            \n",
       "Kyocera        4.416667  1.088300\n",
       "Google         4.347534  1.160330\n",
       "Panasonic      4.250000  1.035098\n",
       "Sony           4.109865  1.310141\n",
       "Asus           4.000000  1.549193\n",
       "blu            3.949449  1.322714\n",
       "Lenovo         3.921739  1.312209\n",
       "Huawei         3.836177  1.458411\n",
       "Samsung        3.808519  1.536949\n",
       "NEC            3.777778  1.563472\n",
       "Sony Ericsson  3.775439  1.574028\n",
       "Nokia          3.756655  1.491493\n",
       "Motorola       3.709160  1.569948\n",
       "Casio          3.592233  1.543086\n",
       "Pantech        3.577181  1.464108\n",
       "HP             3.549020  1.616338\n",
       "Apple          3.524578  1.665001\n",
       "Palm           3.493506  1.504880\n",
       "LG             3.464884  1.567689\n",
       "ZTE            3.394495  1.557647\n",
       "HTC            3.287366  1.658767\n",
       "Sharp          3.245455  1.518148\n",
       "BlackBerry     3.234198  1.695731\n",
       "Alcatel        3.200000  1.472556\n",
       "Dell           3.157377  1.662716\n",
       "T-Mobile       2.956522  1.691644\n",
       "Unnecto        2.500000  2.121320"
      ]
     },
     "execution_count": 134,
     "metadata": {},
     "output_type": "execute_result"
    }
   ],
   "source": [
    "### Top10 prominent brands\n",
    "brand_ratings = final_df.groupby('brand').agg({'overall':['mean','std']})\n",
    "\n",
    "brand_ratings_df = pd.DataFrame(brand_ratings.overall)\n",
    "#ax = sns.barplot(brand_ratings_df.index, brand_ratings_df['mean'].sort_values(ascending=False), palette=\"Greens_r\")\n",
    "brand_ratings_df.sort_values('mean', ascending=False)"
   ]
  },
  {
   "cell_type": "code",
   "execution_count": null,
   "metadata": {
    "collapsed": true
   },
   "outputs": [],
   "source": []
  }
 ],
 "metadata": {
  "kernelspec": {
   "display_name": "Python 3",
   "language": "python",
   "name": "python3"
  },
  "language_info": {
   "codemirror_mode": {
    "name": "ipython",
    "version": 3
   },
   "file_extension": ".py",
   "mimetype": "text/x-python",
   "name": "python",
   "nbconvert_exporter": "python",
   "pygments_lexer": "ipython3",
   "version": "3.6.3"
  }
 },
 "nbformat": 4,
 "nbformat_minor": 2
}
