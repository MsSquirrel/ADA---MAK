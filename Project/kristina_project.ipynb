{
 "cells": [
  {
   "cell_type": "code",
   "execution_count": 1,
   "metadata": {
    "collapsed": true
   },
   "outputs": [],
   "source": [
    "%matplotlib inline\n",
    "import os\n",
    "import pandas as pd\n",
    "import numpy as np\n",
    "import matplotlib.pyplot as plt\n",
    "import seaborn as sns\n",
    "import json\n",
    "from pandas.io.json import json_normalize\n",
    "import gzip\n",
    "sns.set()"
   ]
  },
  {
   "cell_type": "markdown",
   "metadata": {},
   "source": [
    "# Read the data\n",
    "\n",
    "\n",
    "TODO: explain what you did with hdf5 files, and why decided to save to csv\n"
   ]
  },
  {
   "cell_type": "code",
   "execution_count": 2,
   "metadata": {
    "collapsed": true
   },
   "outputs": [],
   "source": [
    "# read the data from previosly created csv files\n",
    "\n",
    "reviews_df = pd.read_csv('reviews_cellphones.csv')"
   ]
  },
  {
   "cell_type": "code",
   "execution_count": 3,
   "metadata": {
    "collapsed": true
   },
   "outputs": [],
   "source": [
    "metadata_df = pd.read_csv('metadata_cellphones.csv')"
   ]
  },
  {
   "cell_type": "code",
   "execution_count": 33,
   "metadata": {},
   "outputs": [],
   "source": [
    "cols = metadata_df.columns[1:-1]\n",
    "metadata_df = metadata_df[cols].copy()"
   ]
  },
  {
   "cell_type": "code",
   "execution_count": 4,
   "metadata": {
    "collapsed": true
   },
   "outputs": [],
   "source": [
    "ratings_cols = ['reviewerID', 'asin', 'overall', 'unixReviewTime']\n",
    "ratings_df = pd.DataFrame(pd.read_csv('data/ratings_Cell_Phones_and_Accessories.csv', header=None))\n",
    "ratings_df.columns = ratings_cols"
   ]
  },
  {
   "cell_type": "code",
   "execution_count": 5,
   "metadata": {
    "collapsed": true
   },
   "outputs": [],
   "source": [
    "cols = reviews_df.columns[1:-1]\n",
    "reviews_df = reviews_df[cols].copy()"
   ]
  },
  {
   "cell_type": "code",
   "execution_count": 6,
   "metadata": {},
   "outputs": [
    {
     "data": {
      "text/html": [
       "<div>\n",
       "<style>\n",
       "    .dataframe thead tr:only-child th {\n",
       "        text-align: right;\n",
       "    }\n",
       "\n",
       "    .dataframe thead th {\n",
       "        text-align: left;\n",
       "    }\n",
       "\n",
       "    .dataframe tbody tr th {\n",
       "        vertical-align: top;\n",
       "    }\n",
       "</style>\n",
       "<table border=\"1\" class=\"dataframe\">\n",
       "  <thead>\n",
       "    <tr style=\"text-align: right;\">\n",
       "      <th></th>\n",
       "      <th>reviewerID</th>\n",
       "      <th>asin</th>\n",
       "      <th>reviewerName</th>\n",
       "      <th>helpful</th>\n",
       "      <th>reviewText</th>\n",
       "      <th>overall</th>\n",
       "      <th>summary</th>\n",
       "      <th>unixReviewTime</th>\n",
       "    </tr>\n",
       "  </thead>\n",
       "  <tbody>\n",
       "    <tr>\n",
       "      <th>0</th>\n",
       "      <td>A1EWN6KZ4HMLT7</td>\n",
       "      <td>011040047X</td>\n",
       "      <td>S. Prescott</td>\n",
       "      <td>[2, 2]</td>\n",
       "      <td>The case pictured is a soft violet color, but ...</td>\n",
       "      <td>1.0</td>\n",
       "      <td>Wrong color</td>\n",
       "      <td>1344902400</td>\n",
       "    </tr>\n",
       "    <tr>\n",
       "      <th>1</th>\n",
       "      <td>A1YX2RBMS1L9L</td>\n",
       "      <td>0110400550</td>\n",
       "      <td>Andrea Busch</td>\n",
       "      <td>[0, 0]</td>\n",
       "      <td>Saw this same case at a theme park store for 2...</td>\n",
       "      <td>5.0</td>\n",
       "      <td>Great product</td>\n",
       "      <td>1353542400</td>\n",
       "    </tr>\n",
       "    <tr>\n",
       "      <th>2</th>\n",
       "      <td>A180NNPPKWCCU0</td>\n",
       "      <td>0110400550</td>\n",
       "      <td>Aniya pennington</td>\n",
       "      <td>[3, 3]</td>\n",
       "      <td>case fits perfectly and I always gets complime...</td>\n",
       "      <td>5.0</td>\n",
       "      <td>Perfect</td>\n",
       "      <td>1374105600</td>\n",
       "    </tr>\n",
       "    <tr>\n",
       "      <th>3</th>\n",
       "      <td>A3HVRXV0LVJN7</td>\n",
       "      <td>0110400550</td>\n",
       "      <td>BiancaNicole</td>\n",
       "      <td>[4, 4]</td>\n",
       "      <td>Best phone case ever . Everywhere I go I get a...</td>\n",
       "      <td>5.0</td>\n",
       "      <td>A++++</td>\n",
       "      <td>1358035200</td>\n",
       "    </tr>\n",
       "    <tr>\n",
       "      <th>4</th>\n",
       "      <td>A292527VPX98P8</td>\n",
       "      <td>0110400550</td>\n",
       "      <td>Cebell</td>\n",
       "      <td>[0, 1]</td>\n",
       "      <td>It may look cute. This case started off pretty...</td>\n",
       "      <td>1.0</td>\n",
       "      <td>Do NOT GET IT!!</td>\n",
       "      <td>1353888000</td>\n",
       "    </tr>\n",
       "  </tbody>\n",
       "</table>\n",
       "</div>"
      ],
      "text/plain": [
       "       reviewerID        asin      reviewerName helpful  \\\n",
       "0  A1EWN6KZ4HMLT7  011040047X       S. Prescott  [2, 2]   \n",
       "1   A1YX2RBMS1L9L  0110400550      Andrea Busch  [0, 0]   \n",
       "2  A180NNPPKWCCU0  0110400550  Aniya pennington  [3, 3]   \n",
       "3   A3HVRXV0LVJN7  0110400550      BiancaNicole  [4, 4]   \n",
       "4  A292527VPX98P8  0110400550            Cebell  [0, 1]   \n",
       "\n",
       "                                          reviewText  overall  \\\n",
       "0  The case pictured is a soft violet color, but ...      1.0   \n",
       "1  Saw this same case at a theme park store for 2...      5.0   \n",
       "2  case fits perfectly and I always gets complime...      5.0   \n",
       "3  Best phone case ever . Everywhere I go I get a...      5.0   \n",
       "4  It may look cute. This case started off pretty...      1.0   \n",
       "\n",
       "           summary  unixReviewTime  \n",
       "0      Wrong color      1344902400  \n",
       "1    Great product      1353542400  \n",
       "2          Perfect      1374105600  \n",
       "3            A++++      1358035200  \n",
       "4  Do NOT GET IT!!      1353888000  "
      ]
     },
     "execution_count": 6,
     "metadata": {},
     "output_type": "execute_result"
    }
   ],
   "source": [
    "reviews_df.head()"
   ]
  },
  {
   "cell_type": "code",
   "execution_count": 34,
   "metadata": {},
   "outputs": [
    {
     "data": {
      "text/html": [
       "<div>\n",
       "<style>\n",
       "    .dataframe thead tr:only-child th {\n",
       "        text-align: right;\n",
       "    }\n",
       "\n",
       "    .dataframe thead th {\n",
       "        text-align: left;\n",
       "    }\n",
       "\n",
       "    .dataframe tbody tr th {\n",
       "        vertical-align: top;\n",
       "    }\n",
       "</style>\n",
       "<table border=\"1\" class=\"dataframe\">\n",
       "  <thead>\n",
       "    <tr style=\"text-align: right;\">\n",
       "      <th></th>\n",
       "      <th>asin</th>\n",
       "      <th>related</th>\n",
       "      <th>title</th>\n",
       "      <th>price</th>\n",
       "      <th>salesRank</th>\n",
       "      <th>imUrl</th>\n",
       "      <th>brand</th>\n",
       "      <th>categories</th>\n",
       "    </tr>\n",
       "  </thead>\n",
       "  <tbody>\n",
       "    <tr>\n",
       "      <th>0</th>\n",
       "      <td>0110400550</td>\n",
       "      <td>{'also_bought': ['B00C56IXFG', 'B008ZUQWOK', '...</td>\n",
       "      <td>Pink &amp;amp; White 3d Melt Ice-cream Skin Hard C...</td>\n",
       "      <td>3.33</td>\n",
       "      <td>{'Cell Phones &amp; Accessories': 83460}</td>\n",
       "      <td>http://ecx.images-amazon.com/images/I/31zn6SOL...</td>\n",
       "      <td>NaN</td>\n",
       "      <td>[['Cell Phones &amp; Accessories', 'Cases', 'Basic...</td>\n",
       "    </tr>\n",
       "    <tr>\n",
       "      <th>1</th>\n",
       "      <td>011040047X</td>\n",
       "      <td>{'buy_after_viewing': ['B008RU7UL2', 'B00698LY...</td>\n",
       "      <td>Purple Hard Case Cover for Iphone 4 4s 4g with...</td>\n",
       "      <td>1.94</td>\n",
       "      <td>{'Cell Phones &amp; Accessories': 495795}</td>\n",
       "      <td>http://ecx.images-amazon.com/images/I/41WCZc2d...</td>\n",
       "      <td>NaN</td>\n",
       "      <td>[['Cell Phones &amp; Accessories', 'Cases', 'Basic...</td>\n",
       "    </tr>\n",
       "    <tr>\n",
       "      <th>2</th>\n",
       "      <td>0195866479</td>\n",
       "      <td>{'buy_after_viewing': ['B00530RXP2', 'B004SH9B...</td>\n",
       "      <td>Hello Kitty Light-weighted Chrome Case Black C...</td>\n",
       "      <td>2.94</td>\n",
       "      <td>{'Cell Phones &amp; Accessories': 371302}</td>\n",
       "      <td>http://ecx.images-amazon.com/images/I/41fy1%2B...</td>\n",
       "      <td>NaN</td>\n",
       "      <td>[['Cell Phones &amp; Accessories', 'Cases', 'Basic...</td>\n",
       "    </tr>\n",
       "    <tr>\n",
       "      <th>3</th>\n",
       "      <td>0214514706</td>\n",
       "      <td>{'buy_after_viewing': ['B0042FV2SI', 'B00869D2...</td>\n",
       "      <td>Cool Summer Breeze in the Ocean Beach Collecti...</td>\n",
       "      <td>0.94</td>\n",
       "      <td>{'Cell Phones &amp; Accessories': 778100}</td>\n",
       "      <td>http://ecx.images-amazon.com/images/I/415cmp6Q...</td>\n",
       "      <td>NaN</td>\n",
       "      <td>[['Cell Phones &amp; Accessories', 'Cases', 'Basic...</td>\n",
       "    </tr>\n",
       "    <tr>\n",
       "      <th>4</th>\n",
       "      <td>0214714705</td>\n",
       "      <td>{'buy_after_viewing': ['B008EU7HRM', 'B00869D2...</td>\n",
       "      <td>Cool Summer Breeze In The Ocean Beach Collecti...</td>\n",
       "      <td>5.79</td>\n",
       "      <td>{'Cell Phones &amp; Accessories': 654894}</td>\n",
       "      <td>http://ecx.images-amazon.com/images/I/41XDwPt2...</td>\n",
       "      <td>NaN</td>\n",
       "      <td>[['Cell Phones &amp; Accessories', 'Cases', 'Basic...</td>\n",
       "    </tr>\n",
       "  </tbody>\n",
       "</table>\n",
       "</div>"
      ],
      "text/plain": [
       "         asin                                            related  \\\n",
       "0  0110400550  {'also_bought': ['B00C56IXFG', 'B008ZUQWOK', '...   \n",
       "1  011040047X  {'buy_after_viewing': ['B008RU7UL2', 'B00698LY...   \n",
       "2  0195866479  {'buy_after_viewing': ['B00530RXP2', 'B004SH9B...   \n",
       "3  0214514706  {'buy_after_viewing': ['B0042FV2SI', 'B00869D2...   \n",
       "4  0214714705  {'buy_after_viewing': ['B008EU7HRM', 'B00869D2...   \n",
       "\n",
       "                                               title  price  \\\n",
       "0  Pink &amp; White 3d Melt Ice-cream Skin Hard C...   3.33   \n",
       "1  Purple Hard Case Cover for Iphone 4 4s 4g with...   1.94   \n",
       "2  Hello Kitty Light-weighted Chrome Case Black C...   2.94   \n",
       "3  Cool Summer Breeze in the Ocean Beach Collecti...   0.94   \n",
       "4  Cool Summer Breeze In The Ocean Beach Collecti...   5.79   \n",
       "\n",
       "                               salesRank  \\\n",
       "0   {'Cell Phones & Accessories': 83460}   \n",
       "1  {'Cell Phones & Accessories': 495795}   \n",
       "2  {'Cell Phones & Accessories': 371302}   \n",
       "3  {'Cell Phones & Accessories': 778100}   \n",
       "4  {'Cell Phones & Accessories': 654894}   \n",
       "\n",
       "                                               imUrl brand  \\\n",
       "0  http://ecx.images-amazon.com/images/I/31zn6SOL...   NaN   \n",
       "1  http://ecx.images-amazon.com/images/I/41WCZc2d...   NaN   \n",
       "2  http://ecx.images-amazon.com/images/I/41fy1%2B...   NaN   \n",
       "3  http://ecx.images-amazon.com/images/I/415cmp6Q...   NaN   \n",
       "4  http://ecx.images-amazon.com/images/I/41XDwPt2...   NaN   \n",
       "\n",
       "                                          categories  \n",
       "0  [['Cell Phones & Accessories', 'Cases', 'Basic...  \n",
       "1  [['Cell Phones & Accessories', 'Cases', 'Basic...  \n",
       "2  [['Cell Phones & Accessories', 'Cases', 'Basic...  \n",
       "3  [['Cell Phones & Accessories', 'Cases', 'Basic...  \n",
       "4  [['Cell Phones & Accessories', 'Cases', 'Basic...  "
      ]
     },
     "execution_count": 34,
     "metadata": {},
     "output_type": "execute_result"
    }
   ],
   "source": [
    "metadata_df.head()"
   ]
  },
  {
   "cell_type": "code",
   "execution_count": 8,
   "metadata": {},
   "outputs": [
    {
     "data": {
      "text/html": [
       "<div>\n",
       "<style>\n",
       "    .dataframe thead tr:only-child th {\n",
       "        text-align: right;\n",
       "    }\n",
       "\n",
       "    .dataframe thead th {\n",
       "        text-align: left;\n",
       "    }\n",
       "\n",
       "    .dataframe tbody tr th {\n",
       "        vertical-align: top;\n",
       "    }\n",
       "</style>\n",
       "<table border=\"1\" class=\"dataframe\">\n",
       "  <thead>\n",
       "    <tr style=\"text-align: right;\">\n",
       "      <th></th>\n",
       "      <th>reviewerID</th>\n",
       "      <th>asin</th>\n",
       "      <th>overall</th>\n",
       "      <th>unixReviewTime</th>\n",
       "    </tr>\n",
       "  </thead>\n",
       "  <tbody>\n",
       "    <tr>\n",
       "      <th>0</th>\n",
       "      <td>A1EWN6KZ4HMLT7</td>\n",
       "      <td>011040047X</td>\n",
       "      <td>1.0</td>\n",
       "      <td>1344902400</td>\n",
       "    </tr>\n",
       "    <tr>\n",
       "      <th>1</th>\n",
       "      <td>A1YX2RBMS1L9L</td>\n",
       "      <td>0110400550</td>\n",
       "      <td>5.0</td>\n",
       "      <td>1353542400</td>\n",
       "    </tr>\n",
       "    <tr>\n",
       "      <th>2</th>\n",
       "      <td>A180NNPPKWCCU0</td>\n",
       "      <td>0110400550</td>\n",
       "      <td>5.0</td>\n",
       "      <td>1374105600</td>\n",
       "    </tr>\n",
       "    <tr>\n",
       "      <th>3</th>\n",
       "      <td>A3HVRXV0LVJN7</td>\n",
       "      <td>0110400550</td>\n",
       "      <td>5.0</td>\n",
       "      <td>1358035200</td>\n",
       "    </tr>\n",
       "    <tr>\n",
       "      <th>4</th>\n",
       "      <td>A292527VPX98P8</td>\n",
       "      <td>0110400550</td>\n",
       "      <td>1.0</td>\n",
       "      <td>1353888000</td>\n",
       "    </tr>\n",
       "  </tbody>\n",
       "</table>\n",
       "</div>"
      ],
      "text/plain": [
       "       reviewerID        asin  overall  unixReviewTime\n",
       "0  A1EWN6KZ4HMLT7  011040047X      1.0      1344902400\n",
       "1   A1YX2RBMS1L9L  0110400550      5.0      1353542400\n",
       "2  A180NNPPKWCCU0  0110400550      5.0      1374105600\n",
       "3   A3HVRXV0LVJN7  0110400550      5.0      1358035200\n",
       "4  A292527VPX98P8  0110400550      1.0      1353888000"
      ]
     },
     "execution_count": 8,
     "metadata": {},
     "output_type": "execute_result"
    }
   ],
   "source": [
    "ratings_df.head()"
   ]
  },
  {
   "cell_type": "markdown",
   "metadata": {},
   "source": [
    "# Descriptive statistics\n",
    "\n",
    "TODO:\n",
    " - basic histograms and charts\n",
    " - Sort by timestamps, and check again the stats?\n",
    " - Check how many people gave the comments\n",
    " "
   ]
  },
  {
   "cell_type": "markdown",
   "metadata": {},
   "source": [
    "## Reviews df"
   ]
  },
  {
   "cell_type": "code",
   "execution_count": 11,
   "metadata": {},
   "outputs": [
    {
     "data": {
      "text/plain": [
       "array([[<matplotlib.axes._subplots.AxesSubplot object at 0x7f741392bf28>]], dtype=object)"
      ]
     },
     "execution_count": 11,
     "metadata": {},
     "output_type": "execute_result"
    },
    {
     "data": {
      "image/png": "[encoded data removed]",
      "text/plain": [
       "<matplotlib.figure.Figure at 0x7f741392a240>"
      ]
     },
     "metadata": {},
     "output_type": "display_data"
    }
   ],
   "source": [
    "reviews_df.hist('overall')"
   ]
  },
  {
   "cell_type": "code",
   "execution_count": 26,
   "metadata": {},
   "outputs": [
    {
     "name": "stdout",
     "output_type": "stream",
     "text": [
      "Shape:  (3447249, 8)\n",
      "Ratings values:  [ 1.  5.  2.  3.  4.]\n",
      "Min review unix time:  942796800\n",
      "Max review unix time:  1406073600\n",
      "Percentage of unique reviewers:  65.5898369975595\n",
      "Percentage of unique products:  9.273423532793831\n"
     ]
    }
   ],
   "source": [
    "print (\"Shape: \", reviews_df.shape)\n",
    "print (\"Ratings values: \", reviews_df.overall.unique())\n",
    "print (\"Min review unix time: \", reviews_df.unixReviewTime.min())\n",
    "print (\"Max review unix time: \", reviews_df.unixReviewTime.max())\n",
    "unique_reviewers = reviews_df['reviewerID'].unique()\n",
    "unique_reviewers_percent = len(unique_reviewers) / reviews_df.shape[0] *100\n",
    "unique_products = reviews_df['asin'].unique()\n",
    "unique_products_percent = len(unique_products) / reviews_df.shape[0] *100\n",
    "print (\"Percentage of unique reviewers: \", unique_reviewers_percent )\n",
    "print (\"Percentage of unique products: \", unique_products_percent)\n",
    "\n",
    "\n",
    "#print (\"Distribution of time per months eg? Or few months: \")\n"
   ]
  },
  {
   "cell_type": "code",
   "execution_count": 31,
   "metadata": {},
   "outputs": [
    {
     "data": {
      "text/plain": [
       "array([[<matplotlib.axes._subplots.AxesSubplot object at 0x7f73b3417128>]], dtype=object)"
      ]
     },
     "execution_count": 31,
     "metadata": {},
     "output_type": "execute_result"
    },
    {
     "data": {
      "image/png": "[encoded data removed]",
      "text/plain": [
       "<matplotlib.figure.Figure at 0x7f73b33de828>"
      ]
     },
     "metadata": {},
     "output_type": "display_data"
    }
   ],
   "source": [
    "reviews_df.hist(column='unixReviewTime', bins=100)"
   ]
  },
  {
   "cell_type": "markdown",
   "metadata": {},
   "source": [
    "## Metadata df"
   ]
  },
  {
   "cell_type": "code",
   "execution_count": 65,
   "metadata": {},
   "outputs": [
    {
     "name": "stdout",
     "output_type": "stream",
     "text": [
      "Shape:  (346793, 8)\n",
      "Percentage of null prices:  18.4098294948\n",
      "Percentage of null brands:  77.3873751777\n"
     ]
    }
   ],
   "source": [
    "null_price = metadata_df.price.isnull().sum()\n",
    "null_price_percent = null_price / metadata_df.shape[0] *100\n",
    "null_brand = metadata_df.brand.isnull().sum()\n",
    "null_brand_percent = null_brand / metadata_df.shape[0] *100\n",
    "print (\"Shape: \", metadata_df.shape)\n",
    "print (\"Percentage of null prices: \", null_price_percent)\n",
    "print (\"Percentage of null brands: \", null_brand_percent)"
   ]
  },
  {
   "cell_type": "markdown",
   "metadata": {},
   "source": [
    "We conclude that we need to deterimine the exact brand, as most of the brands are unknown. "
   ]
  },
  {
   "cell_type": "code",
   "execution_count": 47,
   "metadata": {},
   "outputs": [
    {
     "data": {
      "text/plain": [
       "array([[<matplotlib.axes._subplots.AxesSubplot object at 0x7f73b117b390>]], dtype=object)"
      ]
     },
     "execution_count": 47,
     "metadata": {},
     "output_type": "execute_result"
    },
    {
     "data": {
      "image/png": "[encoded data removed]",
      "text/plain": [
       "<matplotlib.figure.Figure at 0x7f73b1199d30>"
      ]
     },
     "metadata": {},
     "output_type": "display_data"
    }
   ],
   "source": [
    "metadata_df.hist(column='price', bins=90)"
   ]
  },
  {
   "cell_type": "code",
   "execution_count": 55,
   "metadata": {
    "collapsed": true
   },
   "outputs": [],
   "source": [
    "# ^ something is not fine with the prices, seems like too much of the prices are 0\n",
    "# but when we count, around 18% of the prices is null\n",
    "# TODO: determine the brands\n",
    "# TODO: find the average price per brand"
   ]
  },
  {
   "cell_type": "code",
   "execution_count": null,
   "metadata": {},
   "outputs": [],
   "source": []
  },
  {
   "cell_type": "code",
   "execution_count": null,
   "metadata": {},
   "outputs": [],
   "source": []
  },
  {
   "cell_type": "code",
   "execution_count": null,
   "metadata": {},
   "outputs": [],
   "source": []
  }
 ],
 "metadata": {
  "kernelspec": {
   "display_name": "Python 3",
   "language": "python",
   "name": "python3"
  },
  "language_info": {
   "codemirror_mode": {
    "name": "ipython",
    "version": 3
   },
   "file_extension": ".py",
   "mimetype": "text/x-python",
   "name": "python",
   "nbconvert_exporter": "python",
   "pygments_lexer": "ipython3",
   "version": "3.6.1"
  }
 },
 "nbformat": 4,
 "nbformat_minor": 2
}
