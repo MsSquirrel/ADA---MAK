{
 "cells": [
  {
   "cell_type": "markdown",
   "metadata": {},
   "source": [
    "# Project  \n",
    "\n",
    "\n",
    "Content: \n",
    "1. [Read the data](#read_the_data)\n",
    "2. [Descriptive statistics](#descriptive_statistics)\n",
    "3. TODO..."
   ]
  },
  {
   "cell_type": "code",
   "execution_count": 1,
   "metadata": {
    "collapsed": true
   },
   "outputs": [],
   "source": [
    "%matplotlib inline\n",
    "import os\n",
    "import pandas as pd\n",
    "import numpy as np\n",
    "import matplotlib.pyplot as plt\n",
    "import seaborn as sns\n",
    "import json\n",
    "from pandas.io.json import json_normalize\n",
    "import gzip\n",
    "sns.set()"
   ]
  },
  {
   "cell_type": "markdown",
   "metadata": {},
   "source": [
    "<a id='#read_the_data'></a>\n",
    "# Read the data\n",
    "\n",
    "\n",
    "TODO: explain what you did with hdf5 files, and why decided to save to csv\n"
   ]
  },
  {
   "cell_type": "code",
   "execution_count": 2,
   "metadata": {
    "collapsed": true
   },
   "outputs": [],
   "source": [
    "# read the data from previosly created csv files\n",
    "\n",
    "reviews_df = pd.read_csv('reviews_cellphones.csv')"
   ]
  },
  {
   "cell_type": "code",
   "execution_count": 3,
   "metadata": {
    "collapsed": true
   },
   "outputs": [],
   "source": [
    "metadata_df = pd.read_csv('metadata_cellphones.csv')"
   ]
  },
  {
   "cell_type": "code",
   "execution_count": 4,
   "metadata": {
    "collapsed": true
   },
   "outputs": [],
   "source": [
    "cols = metadata_df.columns[1:-1]\n",
    "metadata_df = metadata_df[cols].copy()"
   ]
  },
  {
   "cell_type": "code",
   "execution_count": 5,
   "metadata": {
    "collapsed": true
   },
   "outputs": [],
   "source": [
    "ratings_cols = ['reviewerID', 'asin', 'overall', 'unixReviewTime']\n",
    "ratings_df = pd.DataFrame(pd.read_csv('data/ratings_Cell_Phones_and_Accessories.csv', header=None))\n",
    "ratings_df.columns = ratings_cols"
   ]
  },
  {
   "cell_type": "code",
   "execution_count": 6,
   "metadata": {
    "collapsed": true
   },
   "outputs": [],
   "source": [
    "cols = reviews_df.columns[1:-1]\n",
    "reviews_df = reviews_df[cols].copy()"
   ]
  },
  {
   "cell_type": "code",
   "execution_count": 7,
   "metadata": {},
   "outputs": [
    {
     "data": {
      "text/html": [
       "<div>\n",
       "<style>\n",
       "    .dataframe thead tr:only-child th {\n",
       "        text-align: right;\n",
       "    }\n",
       "\n",
       "    .dataframe thead th {\n",
       "        text-align: left;\n",
       "    }\n",
       "\n",
       "    .dataframe tbody tr th {\n",
       "        vertical-align: top;\n",
       "    }\n",
       "</style>\n",
       "<table border=\"1\" class=\"dataframe\">\n",
       "  <thead>\n",
       "    <tr style=\"text-align: right;\">\n",
       "      <th></th>\n",
       "      <th>reviewerID</th>\n",
       "      <th>asin</th>\n",
       "      <th>reviewerName</th>\n",
       "      <th>helpful</th>\n",
       "      <th>reviewText</th>\n",
       "      <th>overall</th>\n",
       "      <th>summary</th>\n",
       "      <th>unixReviewTime</th>\n",
       "    </tr>\n",
       "  </thead>\n",
       "  <tbody>\n",
       "    <tr>\n",
       "      <th>0</th>\n",
       "      <td>A1EWN6KZ4HMLT7</td>\n",
       "      <td>011040047X</td>\n",
       "      <td>S. Prescott</td>\n",
       "      <td>[2, 2]</td>\n",
       "      <td>The case pictured is a soft violet color, but ...</td>\n",
       "      <td>1.0</td>\n",
       "      <td>Wrong color</td>\n",
       "      <td>1344902400</td>\n",
       "    </tr>\n",
       "    <tr>\n",
       "      <th>1</th>\n",
       "      <td>A1YX2RBMS1L9L</td>\n",
       "      <td>0110400550</td>\n",
       "      <td>Andrea Busch</td>\n",
       "      <td>[0, 0]</td>\n",
       "      <td>Saw this same case at a theme park store for 2...</td>\n",
       "      <td>5.0</td>\n",
       "      <td>Great product</td>\n",
       "      <td>1353542400</td>\n",
       "    </tr>\n",
       "    <tr>\n",
       "      <th>2</th>\n",
       "      <td>A180NNPPKWCCU0</td>\n",
       "      <td>0110400550</td>\n",
       "      <td>Aniya pennington</td>\n",
       "      <td>[3, 3]</td>\n",
       "      <td>case fits perfectly and I always gets complime...</td>\n",
       "      <td>5.0</td>\n",
       "      <td>Perfect</td>\n",
       "      <td>1374105600</td>\n",
       "    </tr>\n",
       "    <tr>\n",
       "      <th>3</th>\n",
       "      <td>A3HVRXV0LVJN7</td>\n",
       "      <td>0110400550</td>\n",
       "      <td>BiancaNicole</td>\n",
       "      <td>[4, 4]</td>\n",
       "      <td>Best phone case ever . Everywhere I go I get a...</td>\n",
       "      <td>5.0</td>\n",
       "      <td>A++++</td>\n",
       "      <td>1358035200</td>\n",
       "    </tr>\n",
       "    <tr>\n",
       "      <th>4</th>\n",
       "      <td>A292527VPX98P8</td>\n",
       "      <td>0110400550</td>\n",
       "      <td>Cebell</td>\n",
       "      <td>[0, 1]</td>\n",
       "      <td>It may look cute. This case started off pretty...</td>\n",
       "      <td>1.0</td>\n",
       "      <td>Do NOT GET IT!!</td>\n",
       "      <td>1353888000</td>\n",
       "    </tr>\n",
       "  </tbody>\n",
       "</table>\n",
       "</div>"
      ],
      "text/plain": [
       "       reviewerID        asin      reviewerName helpful  \\\n",
       "0  A1EWN6KZ4HMLT7  011040047X       S. Prescott  [2, 2]   \n",
       "1   A1YX2RBMS1L9L  0110400550      Andrea Busch  [0, 0]   \n",
       "2  A180NNPPKWCCU0  0110400550  Aniya pennington  [3, 3]   \n",
       "3   A3HVRXV0LVJN7  0110400550      BiancaNicole  [4, 4]   \n",
       "4  A292527VPX98P8  0110400550            Cebell  [0, 1]   \n",
       "\n",
       "                                          reviewText  overall  \\\n",
       "0  The case pictured is a soft violet color, but ...      1.0   \n",
       "1  Saw this same case at a theme park store for 2...      5.0   \n",
       "2  case fits perfectly and I always gets complime...      5.0   \n",
       "3  Best phone case ever . Everywhere I go I get a...      5.0   \n",
       "4  It may look cute. This case started off pretty...      1.0   \n",
       "\n",
       "           summary  unixReviewTime  \n",
       "0      Wrong color      1344902400  \n",
       "1    Great product      1353542400  \n",
       "2          Perfect      1374105600  \n",
       "3            A++++      1358035200  \n",
       "4  Do NOT GET IT!!      1353888000  "
      ]
     },
     "execution_count": 7,
     "metadata": {},
     "output_type": "execute_result"
    }
   ],
   "source": [
    "reviews_df.head()"
   ]
  },
  {
   "cell_type": "code",
   "execution_count": 8,
   "metadata": {},
   "outputs": [
    {
     "data": {
      "text/html": [
       "<div>\n",
       "<style>\n",
       "    .dataframe thead tr:only-child th {\n",
       "        text-align: right;\n",
       "    }\n",
       "\n",
       "    .dataframe thead th {\n",
       "        text-align: left;\n",
       "    }\n",
       "\n",
       "    .dataframe tbody tr th {\n",
       "        vertical-align: top;\n",
       "    }\n",
       "</style>\n",
       "<table border=\"1\" class=\"dataframe\">\n",
       "  <thead>\n",
       "    <tr style=\"text-align: right;\">\n",
       "      <th></th>\n",
       "      <th>asin</th>\n",
       "      <th>related</th>\n",
       "      <th>title</th>\n",
       "      <th>price</th>\n",
       "      <th>salesRank</th>\n",
       "      <th>imUrl</th>\n",
       "      <th>brand</th>\n",
       "      <th>categories</th>\n",
       "    </tr>\n",
       "  </thead>\n",
       "  <tbody>\n",
       "    <tr>\n",
       "      <th>0</th>\n",
       "      <td>0110400550</td>\n",
       "      <td>{'also_bought': ['B00C56IXFG', 'B008ZUQWOK', '...</td>\n",
       "      <td>Pink &amp;amp; White 3d Melt Ice-cream Skin Hard C...</td>\n",
       "      <td>3.33</td>\n",
       "      <td>{'Cell Phones &amp; Accessories': 83460}</td>\n",
       "      <td>http://ecx.images-amazon.com/images/I/31zn6SOL...</td>\n",
       "      <td>NaN</td>\n",
       "      <td>[['Cell Phones &amp; Accessories', 'Cases', 'Basic...</td>\n",
       "    </tr>\n",
       "    <tr>\n",
       "      <th>1</th>\n",
       "      <td>011040047X</td>\n",
       "      <td>{'buy_after_viewing': ['B008RU7UL2', 'B00698LY...</td>\n",
       "      <td>Purple Hard Case Cover for Iphone 4 4s 4g with...</td>\n",
       "      <td>1.94</td>\n",
       "      <td>{'Cell Phones &amp; Accessories': 495795}</td>\n",
       "      <td>http://ecx.images-amazon.com/images/I/41WCZc2d...</td>\n",
       "      <td>NaN</td>\n",
       "      <td>[['Cell Phones &amp; Accessories', 'Cases', 'Basic...</td>\n",
       "    </tr>\n",
       "    <tr>\n",
       "      <th>2</th>\n",
       "      <td>0195866479</td>\n",
       "      <td>{'buy_after_viewing': ['B00530RXP2', 'B004SH9B...</td>\n",
       "      <td>Hello Kitty Light-weighted Chrome Case Black C...</td>\n",
       "      <td>2.94</td>\n",
       "      <td>{'Cell Phones &amp; Accessories': 371302}</td>\n",
       "      <td>http://ecx.images-amazon.com/images/I/41fy1%2B...</td>\n",
       "      <td>NaN</td>\n",
       "      <td>[['Cell Phones &amp; Accessories', 'Cases', 'Basic...</td>\n",
       "    </tr>\n",
       "    <tr>\n",
       "      <th>3</th>\n",
       "      <td>0214514706</td>\n",
       "      <td>{'buy_after_viewing': ['B0042FV2SI', 'B00869D2...</td>\n",
       "      <td>Cool Summer Breeze in the Ocean Beach Collecti...</td>\n",
       "      <td>0.94</td>\n",
       "      <td>{'Cell Phones &amp; Accessories': 778100}</td>\n",
       "      <td>http://ecx.images-amazon.com/images/I/415cmp6Q...</td>\n",
       "      <td>NaN</td>\n",
       "      <td>[['Cell Phones &amp; Accessories', 'Cases', 'Basic...</td>\n",
       "    </tr>\n",
       "    <tr>\n",
       "      <th>4</th>\n",
       "      <td>0214714705</td>\n",
       "      <td>{'buy_after_viewing': ['B008EU7HRM', 'B00869D2...</td>\n",
       "      <td>Cool Summer Breeze In The Ocean Beach Collecti...</td>\n",
       "      <td>5.79</td>\n",
       "      <td>{'Cell Phones &amp; Accessories': 654894}</td>\n",
       "      <td>http://ecx.images-amazon.com/images/I/41XDwPt2...</td>\n",
       "      <td>NaN</td>\n",
       "      <td>[['Cell Phones &amp; Accessories', 'Cases', 'Basic...</td>\n",
       "    </tr>\n",
       "  </tbody>\n",
       "</table>\n",
       "</div>"
      ],
      "text/plain": [
       "         asin                                            related  \\\n",
       "0  0110400550  {'also_bought': ['B00C56IXFG', 'B008ZUQWOK', '...   \n",
       "1  011040047X  {'buy_after_viewing': ['B008RU7UL2', 'B00698LY...   \n",
       "2  0195866479  {'buy_after_viewing': ['B00530RXP2', 'B004SH9B...   \n",
       "3  0214514706  {'buy_after_viewing': ['B0042FV2SI', 'B00869D2...   \n",
       "4  0214714705  {'buy_after_viewing': ['B008EU7HRM', 'B00869D2...   \n",
       "\n",
       "                                               title  price  \\\n",
       "0  Pink &amp; White 3d Melt Ice-cream Skin Hard C...   3.33   \n",
       "1  Purple Hard Case Cover for Iphone 4 4s 4g with...   1.94   \n",
       "2  Hello Kitty Light-weighted Chrome Case Black C...   2.94   \n",
       "3  Cool Summer Breeze in the Ocean Beach Collecti...   0.94   \n",
       "4  Cool Summer Breeze In The Ocean Beach Collecti...   5.79   \n",
       "\n",
       "                               salesRank  \\\n",
       "0   {'Cell Phones & Accessories': 83460}   \n",
       "1  {'Cell Phones & Accessories': 495795}   \n",
       "2  {'Cell Phones & Accessories': 371302}   \n",
       "3  {'Cell Phones & Accessories': 778100}   \n",
       "4  {'Cell Phones & Accessories': 654894}   \n",
       "\n",
       "                                               imUrl brand  \\\n",
       "0  http://ecx.images-amazon.com/images/I/31zn6SOL...   NaN   \n",
       "1  http://ecx.images-amazon.com/images/I/41WCZc2d...   NaN   \n",
       "2  http://ecx.images-amazon.com/images/I/41fy1%2B...   NaN   \n",
       "3  http://ecx.images-amazon.com/images/I/415cmp6Q...   NaN   \n",
       "4  http://ecx.images-amazon.com/images/I/41XDwPt2...   NaN   \n",
       "\n",
       "                                          categories  \n",
       "0  [['Cell Phones & Accessories', 'Cases', 'Basic...  \n",
       "1  [['Cell Phones & Accessories', 'Cases', 'Basic...  \n",
       "2  [['Cell Phones & Accessories', 'Cases', 'Basic...  \n",
       "3  [['Cell Phones & Accessories', 'Cases', 'Basic...  \n",
       "4  [['Cell Phones & Accessories', 'Cases', 'Basic...  "
      ]
     },
     "execution_count": 8,
     "metadata": {},
     "output_type": "execute_result"
    }
   ],
   "source": [
    "metadata_df.head()"
   ]
  },
  {
   "cell_type": "code",
   "execution_count": 9,
   "metadata": {},
   "outputs": [
    {
     "data": {
      "text/html": [
       "<div>\n",
       "<style>\n",
       "    .dataframe thead tr:only-child th {\n",
       "        text-align: right;\n",
       "    }\n",
       "\n",
       "    .dataframe thead th {\n",
       "        text-align: left;\n",
       "    }\n",
       "\n",
       "    .dataframe tbody tr th {\n",
       "        vertical-align: top;\n",
       "    }\n",
       "</style>\n",
       "<table border=\"1\" class=\"dataframe\">\n",
       "  <thead>\n",
       "    <tr style=\"text-align: right;\">\n",
       "      <th></th>\n",
       "      <th>reviewerID</th>\n",
       "      <th>asin</th>\n",
       "      <th>overall</th>\n",
       "      <th>unixReviewTime</th>\n",
       "    </tr>\n",
       "  </thead>\n",
       "  <tbody>\n",
       "    <tr>\n",
       "      <th>0</th>\n",
       "      <td>A1EWN6KZ4HMLT7</td>\n",
       "      <td>011040047X</td>\n",
       "      <td>1.0</td>\n",
       "      <td>1344902400</td>\n",
       "    </tr>\n",
       "    <tr>\n",
       "      <th>1</th>\n",
       "      <td>A1YX2RBMS1L9L</td>\n",
       "      <td>0110400550</td>\n",
       "      <td>5.0</td>\n",
       "      <td>1353542400</td>\n",
       "    </tr>\n",
       "    <tr>\n",
       "      <th>2</th>\n",
       "      <td>A180NNPPKWCCU0</td>\n",
       "      <td>0110400550</td>\n",
       "      <td>5.0</td>\n",
       "      <td>1374105600</td>\n",
       "    </tr>\n",
       "    <tr>\n",
       "      <th>3</th>\n",
       "      <td>A3HVRXV0LVJN7</td>\n",
       "      <td>0110400550</td>\n",
       "      <td>5.0</td>\n",
       "      <td>1358035200</td>\n",
       "    </tr>\n",
       "    <tr>\n",
       "      <th>4</th>\n",
       "      <td>A292527VPX98P8</td>\n",
       "      <td>0110400550</td>\n",
       "      <td>1.0</td>\n",
       "      <td>1353888000</td>\n",
       "    </tr>\n",
       "  </tbody>\n",
       "</table>\n",
       "</div>"
      ],
      "text/plain": [
       "       reviewerID        asin  overall  unixReviewTime\n",
       "0  A1EWN6KZ4HMLT7  011040047X      1.0      1344902400\n",
       "1   A1YX2RBMS1L9L  0110400550      5.0      1353542400\n",
       "2  A180NNPPKWCCU0  0110400550      5.0      1374105600\n",
       "3   A3HVRXV0LVJN7  0110400550      5.0      1358035200\n",
       "4  A292527VPX98P8  0110400550      1.0      1353888000"
      ]
     },
     "execution_count": 9,
     "metadata": {},
     "output_type": "execute_result"
    }
   ],
   "source": [
    "ratings_df.head()"
   ]
  },
  {
   "cell_type": "markdown",
   "metadata": {},
   "source": [
    "<a id='#descriptive_statistics'></a>\n",
    "\n",
    "# Descriptive statistics\n",
    "\n",
    "TODO:\n",
    " - basic histograms and charts\n",
    " - Sort by timestamps, and check again the stats?\n",
    " - Check how many people gave the comments\n",
    " "
   ]
  },
  {
   "cell_type": "markdown",
   "metadata": {},
   "source": [
    "## Reviews df"
   ]
  },
  {
   "cell_type": "code",
   "execution_count": 10,
   "metadata": {},
   "outputs": [
    {
     "data": {
      "text/plain": [
       "array([[<matplotlib.axes._subplots.AxesSubplot object at 0x7fd5a37224e0>]], dtype=object)"
      ]
     },
     "execution_count": 10,
     "metadata": {},
     "output_type": "execute_result"
    },
    {
     "data": {
      "image/png": "[encoded data removed]",
      "text/plain": [
       "<matplotlib.figure.Figure at 0x7fd6107bf780>"
      ]
     },
     "metadata": {},
     "output_type": "display_data"
    }
   ],
   "source": [
    "reviews_df.hist('overall')"
   ]
  },
  {
   "cell_type": "code",
   "execution_count": 11,
   "metadata": {},
   "outputs": [
    {
     "name": "stdout",
     "output_type": "stream",
     "text": [
      "Shape:  (3447249, 8)\n",
      "Ratings values:  [ 1.  5.  2.  3.  4.]\n",
      "Min review unix time:  942796800\n",
      "Max review unix time:  1406073600\n",
      "Percentage of unique reviewers:  65.5898369975595\n",
      "Percentage of unique products:  9.273423532793831\n"
     ]
    }
   ],
   "source": [
    "print (\"Shape: \", reviews_df.shape)\n",
    "print (\"Ratings values: \", reviews_df.overall.unique())\n",
    "print (\"Min review unix time: \", reviews_df.unixReviewTime.min())\n",
    "print (\"Max review unix time: \", reviews_df.unixReviewTime.max())\n",
    "unique_reviewers = reviews_df['reviewerID'].unique()\n",
    "unique_reviewers_percent = len(unique_reviewers) / reviews_df.shape[0] *100\n",
    "unique_products = reviews_df['asin'].unique()\n",
    "unique_products_percent = len(unique_products) / reviews_df.shape[0] *100\n",
    "print (\"Percentage of unique reviewers: \", unique_reviewers_percent )\n",
    "print (\"Percentage of unique products: \", unique_products_percent)\n",
    "\n",
    "\n",
    "#print (\"Distribution of time per months eg? Or few months: \")\n"
   ]
  },
  {
   "cell_type": "code",
   "execution_count": 12,
   "metadata": {},
   "outputs": [
    {
     "data": {
      "text/plain": [
       "array([[<matplotlib.axes._subplots.AxesSubplot object at 0x7fd5f897c7f0>]], dtype=object)"
      ]
     },
     "execution_count": 12,
     "metadata": {},
     "output_type": "execute_result"
    },
    {
     "data": {
      "image/png": "[encoded data removed]",
      "text/plain": [
       "<matplotlib.figure.Figure at 0x7fd5dbe1a080>"
      ]
     },
     "metadata": {},
     "output_type": "display_data"
    }
   ],
   "source": [
    "reviews_df.hist(column='unixReviewTime', bins=100)"
   ]
  },
  {
   "cell_type": "markdown",
   "metadata": {},
   "source": [
    "## Metadata df"
   ]
  },
  {
   "cell_type": "code",
   "execution_count": 13,
   "metadata": {},
   "outputs": [
    {
     "name": "stdout",
     "output_type": "stream",
     "text": [
      "Shape:  (346793, 8)\n",
      "Percentage of null prices:  18.4098294948\n",
      "Percentage of null brands:  77.3873751777\n"
     ]
    }
   ],
   "source": [
    "null_price = metadata_df.price.isnull().sum()\n",
    "null_price_percent = null_price / metadata_df.shape[0] *100\n",
    "null_brand = metadata_df.brand.isnull().sum()\n",
    "null_brand_percent = null_brand / metadata_df.shape[0] *100\n",
    "print (\"Shape: \", metadata_df.shape)\n",
    "print (\"Percentage of null prices: \", null_price_percent)\n",
    "print (\"Percentage of null brands: \", null_brand_percent)"
   ]
  },
  {
   "cell_type": "markdown",
   "metadata": {},
   "source": [
    "We conclude that we need to deterimine the exact brand, as most of the brands are unknown. "
   ]
  },
  {
   "cell_type": "code",
   "execution_count": 14,
   "metadata": {},
   "outputs": [
    {
     "data": {
      "text/plain": [
       "array([[<matplotlib.axes._subplots.AxesSubplot object at 0x7fd5ef833470>]], dtype=object)"
      ]
     },
     "execution_count": 14,
     "metadata": {},
     "output_type": "execute_result"
    },
    {
     "data": {
      "image/png": "[encoded data removed]",
      "text/plain": [
       "<matplotlib.figure.Figure at 0x7fd5f596f9b0>"
      ]
     },
     "metadata": {},
     "output_type": "display_data"
    }
   ],
   "source": [
    "metadata_df.hist(column='price', bins=90)"
   ]
  },
  {
   "cell_type": "code",
   "execution_count": 15,
   "metadata": {
    "collapsed": true
   },
   "outputs": [],
   "source": [
    "# ^ something is not fine with the prices, seems like too much of the prices are 0\n",
    "# but when we count, around 18% of the prices is null\n",
    "# TODO: determine the brands\n",
    "# TODO: find the average price per brand\n",
    "# TODO: check if you have metadata for each phone from the reviews list"
   ]
  },
  {
   "cell_type": "code",
   "execution_count": 16,
   "metadata": {
    "collapsed": true
   },
   "outputs": [],
   "source": [
    "#metadata_df.categories[346768].split('[[')[1].split(\",\")[1].replace('\\'', '')"
   ]
  },
  {
   "cell_type": "markdown",
   "metadata": {},
   "source": [
    "## Phones df\n",
    "\n",
    "\n",
    "Creating new meta dataframe that only contains information about phones."
   ]
  },
  {
   "cell_type": "code",
   "execution_count": 17,
   "metadata": {},
   "outputs": [
    {
     "data": {
      "text/html": [
       "<div>\n",
       "<style>\n",
       "    .dataframe thead tr:only-child th {\n",
       "        text-align: right;\n",
       "    }\n",
       "\n",
       "    .dataframe thead th {\n",
       "        text-align: left;\n",
       "    }\n",
       "\n",
       "    .dataframe tbody tr th {\n",
       "        vertical-align: top;\n",
       "    }\n",
       "</style>\n",
       "<table border=\"1\" class=\"dataframe\">\n",
       "  <thead>\n",
       "    <tr style=\"text-align: right;\">\n",
       "      <th></th>\n",
       "      <th>asin</th>\n",
       "      <th>related</th>\n",
       "      <th>title</th>\n",
       "      <th>price</th>\n",
       "      <th>salesRank</th>\n",
       "      <th>imUrl</th>\n",
       "      <th>brand</th>\n",
       "      <th>categories</th>\n",
       "    </tr>\n",
       "  </thead>\n",
       "  <tbody>\n",
       "    <tr>\n",
       "      <th>2861</th>\n",
       "      <td>B0002Z8CSA</td>\n",
       "      <td>{'also_viewed': ['B007N0RAXK', 'B00BNFLGM2', '...</td>\n",
       "      <td>Motorola V400 Unlocked Cell Phone--U.S. Versio...</td>\n",
       "      <td>81.95</td>\n",
       "      <td>{'Cell Phones &amp; Accessories': 602817}</td>\n",
       "      <td>http://ecx.images-amazon.com/images/I/4142320E...</td>\n",
       "      <td>Motorola</td>\n",
       "      <td>[['Cell Phones &amp; Accessories', 'Cell Phones', ...</td>\n",
       "    </tr>\n",
       "    <tr>\n",
       "      <th>3702</th>\n",
       "      <td>B0009FCAJA</td>\n",
       "      <td>{'also_bought': ['B000IN5ZHM', 'B0016JDE34', '...</td>\n",
       "      <td>Motorola RAZR V3 Unlocked Phone with Camera, a...</td>\n",
       "      <td>69.99</td>\n",
       "      <td>{'Cell Phones &amp; Accessories': 10173}</td>\n",
       "      <td>http://ecx.images-amazon.com/images/I/41294T68...</td>\n",
       "      <td>Motorola</td>\n",
       "      <td>[['Cell Phones &amp; Accessories', 'Cell Phones', ...</td>\n",
       "    </tr>\n",
       "    <tr>\n",
       "      <th>5456</th>\n",
       "      <td>B000GGO5KO</td>\n",
       "      <td>{'also_viewed': ['B000PEOLAG', 'B00A6D9WLY', '...</td>\n",
       "      <td>Sony Ericsson M600i Unlocked Cell Phone with 3...</td>\n",
       "      <td>120.00</td>\n",
       "      <td>{'Cell Phones &amp; Accessories': 1178113}</td>\n",
       "      <td>http://ecx.images-amazon.com/images/I/21I6mmuz...</td>\n",
       "      <td>Sony Ericsson</td>\n",
       "      <td>[['Cell Phones &amp; Accessories', 'Cell Phones', ...</td>\n",
       "    </tr>\n",
       "    <tr>\n",
       "      <th>6575</th>\n",
       "      <td>B000J0YH9Q</td>\n",
       "      <td>{'also_viewed': ['B0014TAFPG'], 'buy_after_vie...</td>\n",
       "      <td>Motorola RIZR Z3 Unlocked GSM Quadband Cell Ph...</td>\n",
       "      <td>99.99</td>\n",
       "      <td>{'Cell Phones &amp; Accessories': 697207}</td>\n",
       "      <td>http://ecx.images-amazon.com/images/I/51opABnP...</td>\n",
       "      <td>Motorola</td>\n",
       "      <td>[['Cell Phones &amp; Accessories', 'Cell Phones', ...</td>\n",
       "    </tr>\n",
       "    <tr>\n",
       "      <th>6654</th>\n",
       "      <td>B000J6EXTY</td>\n",
       "      <td>{'also_bought': ['B000IN5ZHM', 'B0009H2M1Y', '...</td>\n",
       "      <td>Motorola RAZR V3i Dolce &amp;amp; Gabbana Unlocked...</td>\n",
       "      <td>69.95</td>\n",
       "      <td>{'Cell Phones &amp; Accessories': 16025}</td>\n",
       "      <td>http://ecx.images-amazon.com/images/I/41VTMFSG...</td>\n",
       "      <td>Motorola</td>\n",
       "      <td>[['Cell Phones &amp; Accessories', 'Cell Phones', ...</td>\n",
       "    </tr>\n",
       "  </tbody>\n",
       "</table>\n",
       "</div>"
      ],
      "text/plain": [
       "            asin                                            related  \\\n",
       "2861  B0002Z8CSA  {'also_viewed': ['B007N0RAXK', 'B00BNFLGM2', '...   \n",
       "3702  B0009FCAJA  {'also_bought': ['B000IN5ZHM', 'B0016JDE34', '...   \n",
       "5456  B000GGO5KO  {'also_viewed': ['B000PEOLAG', 'B00A6D9WLY', '...   \n",
       "6575  B000J0YH9Q  {'also_viewed': ['B0014TAFPG'], 'buy_after_vie...   \n",
       "6654  B000J6EXTY  {'also_bought': ['B000IN5ZHM', 'B0009H2M1Y', '...   \n",
       "\n",
       "                                                  title   price  \\\n",
       "2861  Motorola V400 Unlocked Cell Phone--U.S. Versio...   81.95   \n",
       "3702  Motorola RAZR V3 Unlocked Phone with Camera, a...   69.99   \n",
       "5456  Sony Ericsson M600i Unlocked Cell Phone with 3...  120.00   \n",
       "6575  Motorola RIZR Z3 Unlocked GSM Quadband Cell Ph...   99.99   \n",
       "6654  Motorola RAZR V3i Dolce &amp; Gabbana Unlocked...   69.95   \n",
       "\n",
       "                                   salesRank  \\\n",
       "2861   {'Cell Phones & Accessories': 602817}   \n",
       "3702    {'Cell Phones & Accessories': 10173}   \n",
       "5456  {'Cell Phones & Accessories': 1178113}   \n",
       "6575   {'Cell Phones & Accessories': 697207}   \n",
       "6654    {'Cell Phones & Accessories': 16025}   \n",
       "\n",
       "                                                  imUrl          brand  \\\n",
       "2861  http://ecx.images-amazon.com/images/I/4142320E...       Motorola   \n",
       "3702  http://ecx.images-amazon.com/images/I/41294T68...       Motorola   \n",
       "5456  http://ecx.images-amazon.com/images/I/21I6mmuz...  Sony Ericsson   \n",
       "6575  http://ecx.images-amazon.com/images/I/51opABnP...       Motorola   \n",
       "6654  http://ecx.images-amazon.com/images/I/41VTMFSG...       Motorola   \n",
       "\n",
       "                                             categories  \n",
       "2861  [['Cell Phones & Accessories', 'Cell Phones', ...  \n",
       "3702  [['Cell Phones & Accessories', 'Cell Phones', ...  \n",
       "5456  [['Cell Phones & Accessories', 'Cell Phones', ...  \n",
       "6575  [['Cell Phones & Accessories', 'Cell Phones', ...  \n",
       "6654  [['Cell Phones & Accessories', 'Cell Phones', ...  "
      ]
     },
     "execution_count": 17,
     "metadata": {},
     "output_type": "execute_result"
    }
   ],
   "source": [
    "phones_df = metadata_df[metadata_df.categories.str.\n",
    "            startswith(\"[['Cell Phones & Accessories', 'Cell Phones', 'Unlocked \")]\n",
    "phones_df = phones_df[(pd.notnull(phones_df['brand'])) & (phones_df['brand'] != '')]\n",
    "phones_df.head()"
   ]
  },
  {
   "cell_type": "code",
   "execution_count": 24,
   "metadata": {},
   "outputs": [],
   "source": [
    "# TODO: process brand names \n",
    "#phones_df.groupby('brand')['price'].mean()\n",
    "#phones_df.brand.unique()"
   ]
  },
  {
   "cell_type": "code",
   "execution_count": 26,
   "metadata": {},
   "outputs": [],
   "source": [
    "phones_df['brand'] = phones_df['brand'].str.lower()"
   ]
  },
  {
   "cell_type": "code",
   "execution_count": 27,
   "metadata": {},
   "outputs": [
    {
     "data": {
      "text/plain": [
       "array(['motorola', 'sony ericsson', 'nokia', 'global star', 'sony',\n",
       "       'blackberry', 'lg', 'htc', 'apple', 'pharos', 'panasonic',\n",
       "       't mobile', 'palm', 'cricket', 'telular', 't-mobile', 'curve 8350i',\n",
       "       'samsung', 'inmarsat', 'vip-top sales watch phone', 'dell', 'droid',\n",
       "       'bolo brands', 'unlocked-cell-phones', 'huawei', 'pantech', 'hp',\n",
       "       'at&amp;t', 'verizon', 'victor', 'cellularfactory', 'sharp',\n",
       "       'unknown', 'casio', 'generic', 's lll', 'ulefone', 'phone merchant',\n",
       "       'greatcall', 'novatel wireless', 'star', 'unnecto', 'alcatel',\n",
       "       'jeg &amp; sons, inc.', 'svp', 'android', 'gray', 'fujimoto dengyo',\n",
       "       'newcay', 'flylink', 'ebest', 'px phone', 'digital family',\n",
       "       'huawei honor', 'albanese', 'jiayu g3t', 'kyocera', 'weikin',\n",
       "       'lenovo', 'zte', 'blu', 'fusion 2', 'etree', 'caterpillar',\n",
       "       'indigi', 'huhushop(tm)', 'zopo', 'toto', 'tomtop',\n",
       "       'samsung galaxy s4 - google edition', 'samsung galaxy mega',\n",
       "       'jiayu', 'ct-miami llc', 'terrapin', 'lumia', 'moneysaving4you',\n",
       "       'nec', 'tab 3 8&quot;', 'ocean cross', 'unassigned', 'thl',\n",
       "       'dracotek', 'yezz wireless', 'u watch', 'eson', 'lxl', 'migo',\n",
       "       'gifted living', 'flylinktech', 'keenan hunter zxj', 'cubot',\n",
       "       'bluesolar', 'purplelan', 'masai store', 'google', 'cobot',\n",
       "       'doogee', 'binatone', 'jiake', 'feiteng', 'smartq', 'mysaga',\n",
       "       'icare',\n",
       "       'original lenovo s750 waterproof smartphone quad core mtk6589 1.2ghz android 4.2 4.5 inch gorilla',\n",
       "       'huawei ascend',\n",
       "       'ulefone p6 smartphone android 4.2 mtk6582 1.3ghz 6.0 inch hd screen 3g gps gesture sensing nfc',\n",
       "       'inew', 'cnpgd', 'onetouch', 'zp980+',\n",
       "       'n3+ smartphone mtk6592 octa core 2gb 16gb 5.7 inch android 4.2 3g otg -black',\n",
       "       'mobile front', 'no.1', 'kingelon', 'szpax', 'e&#39;max', 'iocean',\n",
       "       'sasmsung', 'hero s / evo design', 'lightinthebox', 'asus',\n",
       "       'bobbi brown'], dtype=object)"
      ]
     },
     "execution_count": 27,
     "metadata": {},
     "output_type": "execute_result"
    }
   ],
   "source": [
    "phones_df['brand'].unique()"
   ]
  },
  {
   "cell_type": "code",
   "execution_count": 28,
   "metadata": {
    "collapsed": true
   },
   "outputs": [],
   "source": [
    "# TODO: some regex for this? \n",
    "# replace: sasmsung, huawei honor, huawei ascend, sony vs sony ericsson, t-mobile vs t mobile, samsung galaxy mega vs\n",
    "# samsung galaxy s4 - google edition, lumia, unassigned?,  original lenovo s750 waterproof...\n",
    "\n",
    "# What to do with all this stupid brand names? "
   ]
  },
  {
   "cell_type": "code",
   "execution_count": 32,
   "metadata": {},
   "outputs": [
    {
     "data": {
      "text/plain": [
       "array([[<matplotlib.axes._subplots.AxesSubplot object at 0x7fd5bf3540f0>]], dtype=object)"
      ]
     },
     "execution_count": 32,
     "metadata": {},
     "output_type": "execute_result"
    },
    {
     "data": {
      "image/png": "[encoded data removed]",
      "text/plain": [
       "<matplotlib.figure.Figure at 0x7fd612d91978>"
      ]
     },
     "metadata": {},
     "output_type": "display_data"
    }
   ],
   "source": [
    "phones_df.hist(column='price', bins=70)"
   ]
  },
  {
   "cell_type": "markdown",
   "metadata": {},
   "source": [
    "We can see that the prices for almost all phones are known, and most of them are in range 50-300 euros. "
   ]
  },
  {
   "cell_type": "code",
   "execution_count": 53,
   "metadata": {},
   "outputs": [
    {
     "name": "stdout",
     "output_type": "stream",
     "text": [
      "122\n"
     ]
    },
    {
     "data": {
      "text/plain": [
       "[<matplotlib.lines.Line2D at 0x7fd5b1e609e8>]"
      ]
     },
     "execution_count": 53,
     "metadata": {},
     "output_type": "execute_result"
    },
    {
     "data": {
      "image/png": "[encoded data removed]",
      "text/plain": [
       "<matplotlib.figure.Figure at 0x7fd61047ba20>"
      ]
     },
     "metadata": {},
     "output_type": "display_data"
    }
   ],
   "source": [
    "# TODO: show this nicer!\n",
    "\n",
    "avg_prices = phones_df.groupby('brand')['price'].mean()\n",
    "d = [i for i in range(0, len(avg_prices))]\n",
    "print(len(d))\n",
    "plt.plot(d, avg_prices, 'bo')\n",
    "\n",
    "#sns.barplot(x=avg_prices[0:20], y=phones_df.brand[0:20], palette=\"Greens_r\")"
   ]
  },
  {
   "cell_type": "markdown",
   "metadata": {},
   "source": [
    "## Merged dataframes for reviews and phones metadata\n",
    "\n",
    "\n",
    "We will now merge these two dataframes and check statistics for new dataframe. "
   ]
  },
  {
   "cell_type": "code",
   "execution_count": 55,
   "metadata": {},
   "outputs": [],
   "source": [
    "final_df = pd.merge(phones_df, reviews_df, on='asin', how='inner')"
   ]
  },
  {
   "cell_type": "code",
   "execution_count": 56,
   "metadata": {},
   "outputs": [
    {
     "data": {
      "text/html": [
       "<div>\n",
       "<style>\n",
       "    .dataframe thead tr:only-child th {\n",
       "        text-align: right;\n",
       "    }\n",
       "\n",
       "    .dataframe thead th {\n",
       "        text-align: left;\n",
       "    }\n",
       "\n",
       "    .dataframe tbody tr th {\n",
       "        vertical-align: top;\n",
       "    }\n",
       "</style>\n",
       "<table border=\"1\" class=\"dataframe\">\n",
       "  <thead>\n",
       "    <tr style=\"text-align: right;\">\n",
       "      <th></th>\n",
       "      <th>asin</th>\n",
       "      <th>related</th>\n",
       "      <th>title</th>\n",
       "      <th>price</th>\n",
       "      <th>salesRank</th>\n",
       "      <th>imUrl</th>\n",
       "      <th>brand</th>\n",
       "      <th>categories</th>\n",
       "      <th>reviewerID</th>\n",
       "      <th>reviewerName</th>\n",
       "      <th>helpful</th>\n",
       "      <th>reviewText</th>\n",
       "      <th>overall</th>\n",
       "      <th>summary</th>\n",
       "      <th>unixReviewTime</th>\n",
       "    </tr>\n",
       "  </thead>\n",
       "  <tbody>\n",
       "    <tr>\n",
       "      <th>0</th>\n",
       "      <td>B0002Z8CSA</td>\n",
       "      <td>{'also_viewed': ['B007N0RAXK', 'B00BNFLGM2', '...</td>\n",
       "      <td>Motorola V400 Unlocked Cell Phone--U.S. Versio...</td>\n",
       "      <td>81.95</td>\n",
       "      <td>{'Cell Phones &amp; Accessories': 602817}</td>\n",
       "      <td>http://ecx.images-amazon.com/images/I/4142320E...</td>\n",
       "      <td>motorola</td>\n",
       "      <td>[['Cell Phones &amp; Accessories', 'Cell Phones', ...</td>\n",
       "      <td>A1LZEEL11U755M</td>\n",
       "      <td>A. Le</td>\n",
       "      <td>[2, 2]</td>\n",
       "      <td>I didn't buy from this seller, but I owned thi...</td>\n",
       "      <td>5.0</td>\n",
       "      <td>sturdiest phone ever!</td>\n",
       "      <td>1240012800</td>\n",
       "    </tr>\n",
       "    <tr>\n",
       "      <th>1</th>\n",
       "      <td>B0002Z8CSA</td>\n",
       "      <td>{'also_viewed': ['B007N0RAXK', 'B00BNFLGM2', '...</td>\n",
       "      <td>Motorola V400 Unlocked Cell Phone--U.S. Versio...</td>\n",
       "      <td>81.95</td>\n",
       "      <td>{'Cell Phones &amp; Accessories': 602817}</td>\n",
       "      <td>http://ecx.images-amazon.com/images/I/4142320E...</td>\n",
       "      <td>motorola</td>\n",
       "      <td>[['Cell Phones &amp; Accessories', 'Cell Phones', ...</td>\n",
       "      <td>A21BFCRY0I0RD7</td>\n",
       "      <td>Jose Carlos P. Reyes \"otomed\"</td>\n",
       "      <td>[4, 4]</td>\n",
       "      <td>I've been using a Motorola V190 for well over ...</td>\n",
       "      <td>5.0</td>\n",
       "      <td>Good phone for day to day use</td>\n",
       "      <td>1261958400</td>\n",
       "    </tr>\n",
       "    <tr>\n",
       "      <th>2</th>\n",
       "      <td>B0002Z8CSA</td>\n",
       "      <td>{'also_viewed': ['B007N0RAXK', 'B00BNFLGM2', '...</td>\n",
       "      <td>Motorola V400 Unlocked Cell Phone--U.S. Versio...</td>\n",
       "      <td>81.95</td>\n",
       "      <td>{'Cell Phones &amp; Accessories': 602817}</td>\n",
       "      <td>http://ecx.images-amazon.com/images/I/4142320E...</td>\n",
       "      <td>motorola</td>\n",
       "      <td>[['Cell Phones &amp; Accessories', 'Cell Phones', ...</td>\n",
       "      <td>A2ND5GHEMRZV0D</td>\n",
       "      <td>Leonila Romualdo</td>\n",
       "      <td>[1, 5]</td>\n",
       "      <td>order took 2 weeks because the package came ba...</td>\n",
       "      <td>2.0</td>\n",
       "      <td>motorola from freehasslecell.com</td>\n",
       "      <td>1235433600</td>\n",
       "    </tr>\n",
       "    <tr>\n",
       "      <th>3</th>\n",
       "      <td>B0009FCAJA</td>\n",
       "      <td>{'also_bought': ['B000IN5ZHM', 'B0016JDE34', '...</td>\n",
       "      <td>Motorola RAZR V3 Unlocked Phone with Camera, a...</td>\n",
       "      <td>69.99</td>\n",
       "      <td>{'Cell Phones &amp; Accessories': 10173}</td>\n",
       "      <td>http://ecx.images-amazon.com/images/I/41294T68...</td>\n",
       "      <td>motorola</td>\n",
       "      <td>[['Cell Phones &amp; Accessories', 'Cell Phones', ...</td>\n",
       "      <td>A36EJJUDZ37UHS</td>\n",
       "      <td>NaN</td>\n",
       "      <td>[4, 4]</td>\n",
       "      <td>I've ordered 3 of these phones from 2 differen...</td>\n",
       "      <td>1.0</td>\n",
       "      <td>phone is nothing but problems - not authentic ...</td>\n",
       "      <td>1200096000</td>\n",
       "    </tr>\n",
       "    <tr>\n",
       "      <th>4</th>\n",
       "      <td>B0009FCAJA</td>\n",
       "      <td>{'also_bought': ['B000IN5ZHM', 'B0016JDE34', '...</td>\n",
       "      <td>Motorola RAZR V3 Unlocked Phone with Camera, a...</td>\n",
       "      <td>69.99</td>\n",
       "      <td>{'Cell Phones &amp; Accessories': 10173}</td>\n",
       "      <td>http://ecx.images-amazon.com/images/I/41294T68...</td>\n",
       "      <td>motorola</td>\n",
       "      <td>[['Cell Phones &amp; Accessories', 'Cell Phones', ...</td>\n",
       "      <td>A2T8YGL2PJJ93A</td>\n",
       "      <td>4004CII</td>\n",
       "      <td>[8, 9]</td>\n",
       "      <td>I read the other reviews, heard about the drea...</td>\n",
       "      <td>2.0</td>\n",
       "      <td>What a piece of junk!</td>\n",
       "      <td>1158710400</td>\n",
       "    </tr>\n",
       "  </tbody>\n",
       "</table>\n",
       "</div>"
      ],
      "text/plain": [
       "         asin                                            related  \\\n",
       "0  B0002Z8CSA  {'also_viewed': ['B007N0RAXK', 'B00BNFLGM2', '...   \n",
       "1  B0002Z8CSA  {'also_viewed': ['B007N0RAXK', 'B00BNFLGM2', '...   \n",
       "2  B0002Z8CSA  {'also_viewed': ['B007N0RAXK', 'B00BNFLGM2', '...   \n",
       "3  B0009FCAJA  {'also_bought': ['B000IN5ZHM', 'B0016JDE34', '...   \n",
       "4  B0009FCAJA  {'also_bought': ['B000IN5ZHM', 'B0016JDE34', '...   \n",
       "\n",
       "                                               title  price  \\\n",
       "0  Motorola V400 Unlocked Cell Phone--U.S. Versio...  81.95   \n",
       "1  Motorola V400 Unlocked Cell Phone--U.S. Versio...  81.95   \n",
       "2  Motorola V400 Unlocked Cell Phone--U.S. Versio...  81.95   \n",
       "3  Motorola RAZR V3 Unlocked Phone with Camera, a...  69.99   \n",
       "4  Motorola RAZR V3 Unlocked Phone with Camera, a...  69.99   \n",
       "\n",
       "                               salesRank  \\\n",
       "0  {'Cell Phones & Accessories': 602817}   \n",
       "1  {'Cell Phones & Accessories': 602817}   \n",
       "2  {'Cell Phones & Accessories': 602817}   \n",
       "3   {'Cell Phones & Accessories': 10173}   \n",
       "4   {'Cell Phones & Accessories': 10173}   \n",
       "\n",
       "                                               imUrl     brand  \\\n",
       "0  http://ecx.images-amazon.com/images/I/4142320E...  motorola   \n",
       "1  http://ecx.images-amazon.com/images/I/4142320E...  motorola   \n",
       "2  http://ecx.images-amazon.com/images/I/4142320E...  motorola   \n",
       "3  http://ecx.images-amazon.com/images/I/41294T68...  motorola   \n",
       "4  http://ecx.images-amazon.com/images/I/41294T68...  motorola   \n",
       "\n",
       "                                          categories      reviewerID  \\\n",
       "0  [['Cell Phones & Accessories', 'Cell Phones', ...  A1LZEEL11U755M   \n",
       "1  [['Cell Phones & Accessories', 'Cell Phones', ...  A21BFCRY0I0RD7   \n",
       "2  [['Cell Phones & Accessories', 'Cell Phones', ...  A2ND5GHEMRZV0D   \n",
       "3  [['Cell Phones & Accessories', 'Cell Phones', ...  A36EJJUDZ37UHS   \n",
       "4  [['Cell Phones & Accessories', 'Cell Phones', ...  A2T8YGL2PJJ93A   \n",
       "\n",
       "                    reviewerName helpful  \\\n",
       "0                          A. Le  [2, 2]   \n",
       "1  Jose Carlos P. Reyes \"otomed\"  [4, 4]   \n",
       "2               Leonila Romualdo  [1, 5]   \n",
       "3                            NaN  [4, 4]   \n",
       "4                        4004CII  [8, 9]   \n",
       "\n",
       "                                          reviewText  overall  \\\n",
       "0  I didn't buy from this seller, but I owned thi...      5.0   \n",
       "1  I've been using a Motorola V190 for well over ...      5.0   \n",
       "2  order took 2 weeks because the package came ba...      2.0   \n",
       "3  I've ordered 3 of these phones from 2 differen...      1.0   \n",
       "4  I read the other reviews, heard about the drea...      2.0   \n",
       "\n",
       "                                             summary  unixReviewTime  \n",
       "0                              sturdiest phone ever!      1240012800  \n",
       "1                      Good phone for day to day use      1261958400  \n",
       "2                   motorola from freehasslecell.com      1235433600  \n",
       "3  phone is nothing but problems - not authentic ...      1200096000  \n",
       "4                              What a piece of junk!      1158710400  "
      ]
     },
     "execution_count": 56,
     "metadata": {},
     "output_type": "execute_result"
    }
   ],
   "source": [
    "final_df.head()"
   ]
  },
  {
   "cell_type": "code",
   "execution_count": 57,
   "metadata": {},
   "outputs": [
    {
     "data": {
      "text/plain": [
       "array([[<matplotlib.axes._subplots.AxesSubplot object at 0x7fd5b1dfa780>]], dtype=object)"
      ]
     },
     "execution_count": 57,
     "metadata": {},
     "output_type": "execute_result"
    },
    {
     "data": {
      "image/png": "[encoded data removed]",
      "text/plain": [
       "<matplotlib.figure.Figure at 0x7fd5b1e75da0>"
      ]
     },
     "metadata": {},
     "output_type": "display_data"
    }
   ],
   "source": [
    "final_df.hist(column='price', bins=70)"
   ]
  },
  {
   "cell_type": "code",
   "execution_count": 58,
   "metadata": {},
   "outputs": [
    {
     "data": {
      "text/plain": [
       "array([[<matplotlib.axes._subplots.AxesSubplot object at 0x7fd5bf0c8160>]], dtype=object)"
      ]
     },
     "execution_count": 58,
     "metadata": {},
     "output_type": "execute_result"
    },
    {
     "data": {
      "image/png": "[encoded data removed]",
      "text/plain": [
       "<matplotlib.figure.Figure at 0x7fd5b1ee2a90>"
      ]
     },
     "metadata": {},
     "output_type": "display_data"
    }
   ],
   "source": [
    "final_df.hist('overall')"
   ]
  },
  {
   "cell_type": "code",
   "execution_count": 59,
   "metadata": {},
   "outputs": [
    {
     "data": {
      "text/plain": [
       "array([[<matplotlib.axes._subplots.AxesSubplot object at 0x7fd5b1b81eb8>]], dtype=object)"
      ]
     },
     "execution_count": 59,
     "metadata": {},
     "output_type": "execute_result"
    },
    {
     "data": {
      "image/png": "[encoded data removed]",
      "text/plain": [
       "<matplotlib.figure.Figure at 0x7fd5b1d00da0>"
      ]
     },
     "metadata": {},
     "output_type": "display_data"
    }
   ],
   "source": [
    "final_df.hist(column='unixReviewTime', bins=100)"
   ]
  }
 ],
 "metadata": {
  "kernelspec": {
   "display_name": "Python 3",
   "language": "python",
   "name": "python3"
  },
  "language_info": {
   "codemirror_mode": {
    "name": "ipython",
    "version": 3
   },
   "file_extension": ".py",
   "mimetype": "text/x-python",
   "name": "python",
   "nbconvert_exporter": "python",
   "pygments_lexer": "ipython3",
   "version": "3.6.1"
  }
 },
 "nbformat": 4,
 "nbformat_minor": 2
}
